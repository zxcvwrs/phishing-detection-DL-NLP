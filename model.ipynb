{
  "cells": [
    {
      "cell_type": "markdown",
      "source": [
        "# 1. Creating dataset with ham and phishing samples"
      ],
      "metadata": {
        "id": "F8trdWcqGrFJ"
      }
    },
    {
      "cell_type": "code",
      "execution_count": null,
      "metadata": {
        "id": "QvwLIxItoWH8"
      },
      "outputs": [],
      "source": [
        "random_seed = 1337\n",
        "import pandas as pd "
      ]
    },
    {
      "cell_type": "code",
      "source": [
        "from google.colab import drive\n",
        "drive.mount('/content/drive')"
      ],
      "metadata": {
        "colab": {
          "base_uri": "https://localhost:8080/"
        },
        "id": "u3cIECNRonS6",
        "outputId": "df54f271-9ce9-4c6f-81da-a80e53507d2c"
      },
      "execution_count": 2,
      "outputs": [
        {
          "output_type": "stream",
          "name": "stdout",
          "text": [
            "Mounted at /content/drive\n"
          ]
        }
      ]
    },
    {
      "cell_type": "markdown",
      "source": [
        "Loading ham samples and creating one dataset from them."
      ],
      "metadata": {
        "id": "Zhyabw2SG7to"
      }
    },
    {
      "cell_type": "code",
      "execution_count": null,
      "metadata": {
        "id": "lzo_M2AboWIC"
      },
      "outputs": [],
      "source": [
        "from joblib import load, dump\n",
        "\n",
        "df_1 = load('backup_dumps/df_ham_sample_first_10k')\n",
        "df_2 = load('backup_dumps/df_ham_sample_second_10k')\n",
        "df_3 = load('backup_dumps/df_ham_sample_third_10k')\n",
        "df_4_1 = load('backup_dumps/df_ham_sample_fourth_5k_1')\n",
        "df_4_2 = load('backup_dumps/df_ham_sample_fourth_1k_2')\n",
        "df_5 = load('backup_dumps/df_ham_sample_fourth_1k_3')\n",
        "df_6 = load('backup_dumps/df_ham_sample_fifth_20k')\n",
        "df_7 = load('backup_dumps/df_ham_sample_sixth_20k')\n",
        "df_8 = load('backup_dumps/df_ham_sample_last')\n"
      ]
    },
    {
      "cell_type": "code",
      "execution_count": null,
      "metadata": {
        "id": "lK6p8AwzoWID"
      },
      "outputs": [],
      "source": [
        "df_ham = pd.concat([df_1, df_2, df_3, df_4_1, df_4_2, df_5, df_6, df_7, df_8], ignore_index=True)"
      ]
    },
    {
      "cell_type": "code",
      "execution_count": null,
      "metadata": {
        "id": "qiQzTdmgoWIE",
        "outputId": "6641a948-d5b9-4cdc-9682-9c45254ee4c8"
      },
      "outputs": [
        {
          "data": {
            "text/html": [
              "<div>\n",
              "<style scoped>\n",
              "    .dataframe tbody tr th:only-of-type {\n",
              "        vertical-align: middle;\n",
              "    }\n",
              "\n",
              "    .dataframe tbody tr th {\n",
              "        vertical-align: top;\n",
              "    }\n",
              "\n",
              "    .dataframe thead th {\n",
              "        text-align: right;\n",
              "    }\n",
              "</style>\n",
              "<table border=\"1\" class=\"dataframe\">\n",
              "  <thead>\n",
              "    <tr style=\"text-align: right;\">\n",
              "      <th></th>\n",
              "      <th>filename</th>\n",
              "      <th>email_body</th>\n",
              "      <th>file_key</th>\n",
              "      <th>preprocessed_body</th>\n",
              "      <th>tokenized_body</th>\n",
              "    </tr>\n",
              "  </thead>\n",
              "  <tbody>\n",
              "    <tr>\n",
              "      <th>0</th>\n",
              "      <td>enron_extracted.mbox</td>\n",
              "      <td>Andy. Can you put a letter with the facts. As ...</td>\n",
              "      <td>214081</td>\n",
              "      <td>andy can you put a letter with the facts as a ...</td>\n",
              "      <td>[andy, letter, facts, starter, want, send, let...</td>\n",
              "    </tr>\n",
              "    <tr>\n",
              "      <th>1</th>\n",
              "      <td>enron_extracted.mbox</td>\n",
              "      <td>Luiz:\\n \\nI don't know if seating will be limi...</td>\n",
              "      <td>224500</td>\n",
              "      <td>luiz i dont know if seating will be limited bu...</td>\n",
              "      <td>[luiz, nt, know, seating, limited, allocated, ...</td>\n",
              "    </tr>\n",
              "    <tr>\n",
              "      <th>2</th>\n",
              "      <td>enron_extracted.mbox</td>\n",
              "      <td>Stacey,\\nWould I also be able to get this calc...</td>\n",
              "      <td>251738</td>\n",
              "      <td>stacey would i also be able to get this calcul...</td>\n",
              "      <td>[stacey, able, calculation, 28th, backed, deal...</td>\n",
              "    </tr>\n",
              "    <tr>\n",
              "      <th>3</th>\n",
              "      <td>enron_extracted.mbox</td>\n",
              "      <td>\\n\\n-----Original Message-----\\nFrom: Moses, C...</td>\n",
              "      <td>161746</td>\n",
              "      <td>original message from moses cassy sent thursda...</td>\n",
              "      <td>[original, message, moses, cassy, sent, thursd...</td>\n",
              "    </tr>\n",
              "    <tr>\n",
              "      <th>4</th>\n",
              "      <td>enron_extracted.mbox</td>\n",
              "      <td>Please be advised that we are in receipt of a ...</td>\n",
              "      <td>27457</td>\n",
              "      <td>please be advised that we are in receipt of a ...</td>\n",
              "      <td>[advised, receipt, distribution, escrow, agent...</td>\n",
              "    </tr>\n",
              "    <tr>\n",
              "      <th>5</th>\n",
              "      <td>enron_extracted.mbox</td>\n",
              "      <td>These are worth a read!!!\\n\\n&gt; &gt; SEVEN REASONS...</td>\n",
              "      <td>200387</td>\n",
              "      <td>these are worth a read seven reasons to crawl ...</td>\n",
              "      <td>[worth, read, seven, reasons, crawl, rock, 1, ...</td>\n",
              "    </tr>\n",
              "    <tr>\n",
              "      <th>6</th>\n",
              "      <td>enron_extracted.mbox</td>\n",
              "      <td>---------------------- Forwarded by Larry F Ca...</td>\n",
              "      <td>8604</td>\n",
              "      <td>forwarded by larry f campbellnaenron on 022820...</td>\n",
              "      <td>[forwarded, larry, f, campbellnaenron, 0228200...</td>\n",
              "    </tr>\n",
              "    <tr>\n",
              "      <th>7</th>\n",
              "      <td>enron_extracted.mbox</td>\n",
              "      <td>Good morning.\\n\\nIn order to finish up Delta/S...</td>\n",
              "      <td>150048</td>\n",
              "      <td>good morning in order to finish up deltasalmon...</td>\n",
              "      <td>[good, morning, order, finish, deltasalmon, to...</td>\n",
              "    </tr>\n",
              "    <tr>\n",
              "      <th>8</th>\n",
              "      <td>enron_extracted.mbox</td>\n",
              "      <td>CALENDAR ENTRY:\\tINVITATION\\n\\nDescription:\\n\\...</td>\n",
              "      <td>253272</td>\n",
              "      <td>calendar entry invitation description jennys b...</td>\n",
              "      <td>[calendar, entry, invitation, description, jen...</td>\n",
              "    </tr>\n",
              "    <tr>\n",
              "      <th>9</th>\n",
              "      <td>enron_extracted.mbox</td>\n",
              "      <td>I talked to Keith Holst who went through this ...</td>\n",
              "      <td>46611</td>\n",
              "      <td>i talked to keith holst who went through this ...</td>\n",
              "      <td>[talked, keith, holst, went, process, couple, ...</td>\n",
              "    </tr>\n",
              "  </tbody>\n",
              "</table>\n",
              "</div>"
            ],
            "text/plain": [
              "               filename                                         email_body  \\\n",
              "0  enron_extracted.mbox  Andy. Can you put a letter with the facts. As ...   \n",
              "1  enron_extracted.mbox  Luiz:\\n \\nI don't know if seating will be limi...   \n",
              "2  enron_extracted.mbox  Stacey,\\nWould I also be able to get this calc...   \n",
              "3  enron_extracted.mbox  \\n\\n-----Original Message-----\\nFrom: Moses, C...   \n",
              "4  enron_extracted.mbox  Please be advised that we are in receipt of a ...   \n",
              "5  enron_extracted.mbox  These are worth a read!!!\\n\\n> > SEVEN REASONS...   \n",
              "6  enron_extracted.mbox  ---------------------- Forwarded by Larry F Ca...   \n",
              "7  enron_extracted.mbox  Good morning.\\n\\nIn order to finish up Delta/S...   \n",
              "8  enron_extracted.mbox  CALENDAR ENTRY:\\tINVITATION\\n\\nDescription:\\n\\...   \n",
              "9  enron_extracted.mbox  I talked to Keith Holst who went through this ...   \n",
              "\n",
              "   file_key                                  preprocessed_body  \\\n",
              "0    214081  andy can you put a letter with the facts as a ...   \n",
              "1    224500  luiz i dont know if seating will be limited bu...   \n",
              "2    251738  stacey would i also be able to get this calcul...   \n",
              "3    161746  original message from moses cassy sent thursda...   \n",
              "4     27457  please be advised that we are in receipt of a ...   \n",
              "5    200387  these are worth a read seven reasons to crawl ...   \n",
              "6      8604  forwarded by larry f campbellnaenron on 022820...   \n",
              "7    150048  good morning in order to finish up deltasalmon...   \n",
              "8    253272  calendar entry invitation description jennys b...   \n",
              "9     46611  i talked to keith holst who went through this ...   \n",
              "\n",
              "                                      tokenized_body  \n",
              "0  [andy, letter, facts, starter, want, send, let...  \n",
              "1  [luiz, nt, know, seating, limited, allocated, ...  \n",
              "2  [stacey, able, calculation, 28th, backed, deal...  \n",
              "3  [original, message, moses, cassy, sent, thursd...  \n",
              "4  [advised, receipt, distribution, escrow, agent...  \n",
              "5  [worth, read, seven, reasons, crawl, rock, 1, ...  \n",
              "6  [forwarded, larry, f, campbellnaenron, 0228200...  \n",
              "7  [good, morning, order, finish, deltasalmon, to...  \n",
              "8  [calendar, entry, invitation, description, jen...  \n",
              "9  [talked, keith, holst, went, process, couple, ...  "
            ]
          },
          "execution_count": 4,
          "metadata": {},
          "output_type": "execute_result"
        }
      ],
      "source": [
        "df_ham.head(10)"
      ]
    },
    {
      "cell_type": "code",
      "execution_count": null,
      "metadata": {
        "id": "EW_NE2SuoWIF"
      },
      "outputs": [],
      "source": [
        "df_ham['is_phishing'] = False"
      ]
    },
    {
      "cell_type": "code",
      "execution_count": null,
      "metadata": {
        "id": "qDT2Xm-qoWIG"
      },
      "outputs": [],
      "source": [
        "df_phishing = load('backup_dumps/df_phishing_tokenized')"
      ]
    },
    {
      "cell_type": "code",
      "execution_count": null,
      "metadata": {
        "id": "bSGPGkkLoWIG"
      },
      "outputs": [],
      "source": [
        "df_phishing['is_phishing'] = True"
      ]
    },
    {
      "cell_type": "code",
      "execution_count": null,
      "metadata": {
        "id": "EUyggHRhoWIH",
        "outputId": "af5d9f93-9a3a-43f7-97f8-2abd17eb034f"
      },
      "outputs": [
        {
          "data": {
            "text/html": [
              "<div>\n",
              "<style scoped>\n",
              "    .dataframe tbody tr th:only-of-type {\n",
              "        vertical-align: middle;\n",
              "    }\n",
              "\n",
              "    .dataframe tbody tr th {\n",
              "        vertical-align: top;\n",
              "    }\n",
              "\n",
              "    .dataframe thead th {\n",
              "        text-align: right;\n",
              "    }\n",
              "</style>\n",
              "<table border=\"1\" class=\"dataframe\">\n",
              "  <thead>\n",
              "    <tr style=\"text-align: right;\">\n",
              "      <th></th>\n",
              "      <th>filename</th>\n",
              "      <th>email_body</th>\n",
              "      <th>file_key</th>\n",
              "      <th>preprocessed_body</th>\n",
              "      <th>tokenized_body</th>\n",
              "      <th>is_phishing</th>\n",
              "    </tr>\n",
              "  </thead>\n",
              "  <tbody>\n",
              "    <tr>\n",
              "      <th>0</th>\n",
              "      <td>20051114.mbox</td>\n",
              "      <td>&lt;html&gt;\\n&lt;head&gt;\\n&lt;!--   extraneous meta tag rem...</td>\n",
              "      <td>0</td>\n",
              "      <td>ebay suspension fixedstringurl fixedstringurl ...</td>\n",
              "      <td>[ebay, suspension, fixedstringurl, fixedstring...</td>\n",
              "      <td>True</td>\n",
              "    </tr>\n",
              "    <tr>\n",
              "      <th>1</th>\n",
              "      <td>20051114.mbox</td>\n",
              "      <td>&amp;nbsp;&lt;body bgcolor=#ffffff&gt;&lt;div align=\"left\"&gt;...</td>\n",
              "      <td>1</td>\n",
              "      <td>dear lasalle member as part of our continuing ...</td>\n",
              "      <td>[dear, lasalle, member, part, continuing, comm...</td>\n",
              "      <td>True</td>\n",
              "    </tr>\n",
              "    <tr>\n",
              "      <th>2</th>\n",
              "      <td>20051114.mbox</td>\n",
              "      <td>&amp;nbsp;&lt;body bgcolor=#ffffff&gt;&lt;div align=\"left\"&gt;...</td>\n",
              "      <td>2</td>\n",
              "      <td>dear lasalle member as part of our continuing ...</td>\n",
              "      <td>[dear, lasalle, member, part, continuing, comm...</td>\n",
              "      <td>True</td>\n",
              "    </tr>\n",
              "    <tr>\n",
              "      <th>3</th>\n",
              "      <td>20051114.mbox</td>\n",
              "      <td>&lt;html&gt;&lt;p&gt;&lt;font face=\"Arial\"&gt;&lt;A HREF=\"https://w...</td>\n",
              "      <td>3</td>\n",
              "      <td>fixedstringurl i dont pokemon in 1878 in 1874 ...</td>\n",
              "      <td>[fixedstringurl, dont, pokemon, 1878, 1874, sh...</td>\n",
              "      <td>True</td>\n",
              "    </tr>\n",
              "    <tr>\n",
              "      <th>4</th>\n",
              "      <td>20051114.mbox</td>\n",
              "      <td>\\n\\n&lt;xbody bgcolor=\"#ffffff\"&gt;&lt;!--Header code s...</td>\n",
              "      <td>4</td>\n",
              "      <td>fixedstringurl fixedstringurl fixedstringurl f...</td>\n",
              "      <td>[fixedstringurl, fixedstringurl, fixedstringur...</td>\n",
              "      <td>True</td>\n",
              "    </tr>\n",
              "    <tr>\n",
              "      <th>5</th>\n",
              "      <td>20051114.mbox</td>\n",
              "      <td>&lt;DIV&gt;&lt;DIV&gt;&lt;DIV&gt;&lt;DIV&gt;&lt;DIV&gt;&lt;DIV&gt;&lt;DIV&gt;&lt;DIV&gt;&lt;DIV&gt;&lt;...</td>\n",
              "      <td>5</td>\n",
              "      <td>fixedstringurl fixedstringurl fixedstringurl f...</td>\n",
              "      <td>[fixedstringurl, fixedstringurl, fixedstringur...</td>\n",
              "      <td>True</td>\n",
              "    </tr>\n",
              "    <tr>\n",
              "      <th>6</th>\n",
              "      <td>20051114.mbox</td>\n",
              "      <td>&lt;DIV&gt;&lt;DIV&gt;&lt;DIV&gt;&lt;DIV&gt;&lt;DIV&gt;&lt;DIV&gt;&lt;DIV&gt;&lt;DIV&gt;&lt;DIV&gt;&lt;...</td>\n",
              "      <td>6</td>\n",
              "      <td>fixedstringurl fixedstringurl fixedstringurl f...</td>\n",
              "      <td>[fixedstringurl, fixedstringurl, fixedstringur...</td>\n",
              "      <td>True</td>\n",
              "    </tr>\n",
              "    <tr>\n",
              "      <th>7</th>\n",
              "      <td>20051114.mbox</td>\n",
              "      <td>&lt;DIV&gt;&lt;DIV&gt;&lt;DIV&gt;&lt;DIV&gt;&lt;DIV&gt;&lt;DIV&gt;&lt;DIV&gt;&lt;DIV&gt;&lt;DIV&gt;&lt;...</td>\n",
              "      <td>7</td>\n",
              "      <td>fixedstringurl fixedstringurl fixedstringurl f...</td>\n",
              "      <td>[fixedstringurl, fixedstringurl, fixedstringur...</td>\n",
              "      <td>True</td>\n",
              "    </tr>\n",
              "    <tr>\n",
              "      <th>8</th>\n",
              "      <td>20051114.mbox</td>\n",
              "      <td>&lt;!DOCTYPE HTML PUBLIC \"-//W3C//DTD HTML 4.01 T...</td>\n",
              "      <td>8</td>\n",
              "      <td>untitled document fixedstringurl urgent safeha...</td>\n",
              "      <td>[untitled, document, fixedstringurl, urgent, s...</td>\n",
              "      <td>True</td>\n",
              "    </tr>\n",
              "    <tr>\n",
              "      <th>9</th>\n",
              "      <td>20051114.mbox</td>\n",
              "      <td>To report spam please visit our site at\\nhttp:...</td>\n",
              "      <td>9</td>\n",
              "      <td>to report spam please visit our site at fixeds...</td>\n",
              "      <td>[report, spam, please, visit, site, fixedstrin...</td>\n",
              "      <td>True</td>\n",
              "    </tr>\n",
              "  </tbody>\n",
              "</table>\n",
              "</div>"
            ],
            "text/plain": [
              "        filename                                         email_body  file_key  \\\n",
              "0  20051114.mbox  <html>\\n<head>\\n<!--   extraneous meta tag rem...         0   \n",
              "1  20051114.mbox  &nbsp;<body bgcolor=#ffffff><div align=\"left\">...         1   \n",
              "2  20051114.mbox  &nbsp;<body bgcolor=#ffffff><div align=\"left\">...         2   \n",
              "3  20051114.mbox  <html><p><font face=\"Arial\"><A HREF=\"https://w...         3   \n",
              "4  20051114.mbox  \\n\\n<xbody bgcolor=\"#ffffff\"><!--Header code s...         4   \n",
              "5  20051114.mbox  <DIV><DIV><DIV><DIV><DIV><DIV><DIV><DIV><DIV><...         5   \n",
              "6  20051114.mbox  <DIV><DIV><DIV><DIV><DIV><DIV><DIV><DIV><DIV><...         6   \n",
              "7  20051114.mbox  <DIV><DIV><DIV><DIV><DIV><DIV><DIV><DIV><DIV><...         7   \n",
              "8  20051114.mbox  <!DOCTYPE HTML PUBLIC \"-//W3C//DTD HTML 4.01 T...         8   \n",
              "9  20051114.mbox  To report spam please visit our site at\\nhttp:...         9   \n",
              "\n",
              "                                   preprocessed_body  \\\n",
              "0  ebay suspension fixedstringurl fixedstringurl ...   \n",
              "1  dear lasalle member as part of our continuing ...   \n",
              "2  dear lasalle member as part of our continuing ...   \n",
              "3  fixedstringurl i dont pokemon in 1878 in 1874 ...   \n",
              "4  fixedstringurl fixedstringurl fixedstringurl f...   \n",
              "5  fixedstringurl fixedstringurl fixedstringurl f...   \n",
              "6  fixedstringurl fixedstringurl fixedstringurl f...   \n",
              "7  fixedstringurl fixedstringurl fixedstringurl f...   \n",
              "8  untitled document fixedstringurl urgent safeha...   \n",
              "9  to report spam please visit our site at fixeds...   \n",
              "\n",
              "                                      tokenized_body  is_phishing  \n",
              "0  [ebay, suspension, fixedstringurl, fixedstring...         True  \n",
              "1  [dear, lasalle, member, part, continuing, comm...         True  \n",
              "2  [dear, lasalle, member, part, continuing, comm...         True  \n",
              "3  [fixedstringurl, dont, pokemon, 1878, 1874, sh...         True  \n",
              "4  [fixedstringurl, fixedstringurl, fixedstringur...         True  \n",
              "5  [fixedstringurl, fixedstringurl, fixedstringur...         True  \n",
              "6  [fixedstringurl, fixedstringurl, fixedstringur...         True  \n",
              "7  [fixedstringurl, fixedstringurl, fixedstringur...         True  \n",
              "8  [untitled, document, fixedstringurl, urgent, s...         True  \n",
              "9  [report, spam, please, visit, site, fixedstrin...         True  "
            ]
          },
          "execution_count": 8,
          "metadata": {},
          "output_type": "execute_result"
        }
      ],
      "source": [
        "df_phishing.head(10)"
      ]
    },
    {
      "cell_type": "code",
      "execution_count": null,
      "metadata": {
        "id": "O7hwd2ftoWIH",
        "outputId": "e1436810-3774-4270-984b-86d614e8539a"
      },
      "outputs": [
        {
          "name": "stdout",
          "output_type": "stream",
          "text": [
            "<class 'pandas.core.frame.DataFrame'>\n",
            "RangeIndex: 10569 entries, 0 to 10568\n",
            "Data columns (total 6 columns):\n",
            " #   Column             Non-Null Count  Dtype \n",
            "---  ------             --------------  ----- \n",
            " 0   filename           10569 non-null  object\n",
            " 1   email_body         10569 non-null  object\n",
            " 2   file_key           10569 non-null  int64 \n",
            " 3   preprocessed_body  10569 non-null  object\n",
            " 4   tokenized_body     10569 non-null  object\n",
            " 5   is_phishing        10569 non-null  bool  \n",
            "dtypes: bool(1), int64(1), object(4)\n",
            "memory usage: 423.3+ KB\n"
          ]
        }
      ],
      "source": [
        "df_phishing.info()"
      ]
    },
    {
      "cell_type": "code",
      "execution_count": null,
      "metadata": {
        "id": "MY8WsIo9oWII",
        "outputId": "22874f2f-9023-4ddc-9fbd-a302602854a6"
      },
      "outputs": [
        {
          "name": "stdout",
          "output_type": "stream",
          "text": [
            "<class 'pandas.core.frame.DataFrame'>\n",
            "RangeIndex: 96947 entries, 0 to 96946\n",
            "Data columns (total 6 columns):\n",
            " #   Column             Non-Null Count  Dtype \n",
            "---  ------             --------------  ----- \n",
            " 0   filename           96947 non-null  object\n",
            " 1   email_body         96947 non-null  object\n",
            " 2   file_key           96947 non-null  int64 \n",
            " 3   preprocessed_body  96947 non-null  object\n",
            " 4   tokenized_body     96947 non-null  object\n",
            " 5   is_phishing        96947 non-null  bool  \n",
            "dtypes: bool(1), int64(1), object(4)\n",
            "memory usage: 3.8+ MB\n"
          ]
        }
      ],
      "source": [
        "df_ham.info()"
      ]
    },
    {
      "cell_type": "markdown",
      "source": [
        "Creating one dataset from df_ham and df_phishing."
      ],
      "metadata": {
        "id": "_bTDPJsSHGAv"
      }
    },
    {
      "cell_type": "code",
      "execution_count": null,
      "metadata": {
        "id": "xRQ0tVn1oWII"
      },
      "outputs": [],
      "source": [
        "df_whole_dataset = pd.concat([df_phishing, df_ham], ignore_index=True)"
      ]
    },
    {
      "cell_type": "code",
      "execution_count": null,
      "metadata": {
        "id": "EtKL8iuHoWII",
        "outputId": "e0560a58-4b52-45a5-f49a-0a773a3830c9"
      },
      "outputs": [
        {
          "data": {
            "text/plain": [
              "['backup_dumps\\\\df_whole_dataset_raw']"
            ]
          },
          "execution_count": 20,
          "metadata": {},
          "output_type": "execute_result"
        }
      ],
      "source": [
        "dump(df_whole_dataset, 'backup_dumps\\df_whole_dataset_raw')"
      ]
    },
    {
      "cell_type": "code",
      "execution_count": null,
      "metadata": {
        "id": "DnTZ4svaoWIJ"
      },
      "outputs": [],
      "source": [
        "from joblib import load\n",
        "df_whole_dataset = load('backup_dumps\\df_whole_dataset_raw')"
      ]
    },
    {
      "cell_type": "code",
      "execution_count": null,
      "metadata": {
        "id": "v0zBM5C5oWIJ",
        "outputId": "373d459f-d2f3-46f3-d780-40c4f707001e"
      },
      "outputs": [
        {
          "name": "stdout",
          "output_type": "stream",
          "text": [
            "<class 'pandas.core.frame.DataFrame'>\n",
            "RangeIndex: 107516 entries, 0 to 107515\n",
            "Data columns (total 6 columns):\n",
            " #   Column             Non-Null Count   Dtype \n",
            "---  ------             --------------   ----- \n",
            " 0   filename           107516 non-null  object\n",
            " 1   email_body         107516 non-null  object\n",
            " 2   file_key           107516 non-null  int64 \n",
            " 3   preprocessed_body  107516 non-null  object\n",
            " 4   tokenized_body     107516 non-null  object\n",
            " 5   is_phishing        107516 non-null  bool  \n",
            "dtypes: bool(1), int64(1), object(4)\n",
            "memory usage: 4.2+ MB\n"
          ]
        }
      ],
      "source": [
        "df_whole_dataset.info()"
      ]
    },
    {
      "cell_type": "markdown",
      "source": [
        "Data cleanup, removing records that have no tokens in tokenized_body column."
      ],
      "metadata": {
        "id": "AITgjSq9HLAf"
      }
    },
    {
      "cell_type": "code",
      "execution_count": null,
      "metadata": {
        "id": "TYrCRHO1oWIK",
        "outputId": "903c68dd-7d59-4ce4-c186-8c0c1a17541d"
      },
      "outputs": [
        {
          "data": {
            "text/html": [
              "<div>\n",
              "<style scoped>\n",
              "    .dataframe tbody tr th:only-of-type {\n",
              "        vertical-align: middle;\n",
              "    }\n",
              "\n",
              "    .dataframe tbody tr th {\n",
              "        vertical-align: top;\n",
              "    }\n",
              "\n",
              "    .dataframe thead th {\n",
              "        text-align: right;\n",
              "    }\n",
              "</style>\n",
              "<table border=\"1\" class=\"dataframe\">\n",
              "  <thead>\n",
              "    <tr style=\"text-align: right;\">\n",
              "      <th></th>\n",
              "      <th>filename</th>\n",
              "      <th>email_body</th>\n",
              "      <th>file_key</th>\n",
              "      <th>preprocessed_body</th>\n",
              "      <th>tokenized_body</th>\n",
              "      <th>is_phishing</th>\n",
              "    </tr>\n",
              "  </thead>\n",
              "  <tbody>\n",
              "    <tr>\n",
              "      <th>10844</th>\n",
              "      <td>enron_extracted.mbox</td>\n",
              "      <td>How did it go?\\n</td>\n",
              "      <td>59614</td>\n",
              "      <td>how did it go</td>\n",
              "      <td>[]</td>\n",
              "      <td>False</td>\n",
              "    </tr>\n",
              "    <tr>\n",
              "      <th>11499</th>\n",
              "      <td>enron_extracted.mbox</td>\n",
              "      <td>Done\\n</td>\n",
              "      <td>22896</td>\n",
              "      <td>done</td>\n",
              "      <td>[]</td>\n",
              "      <td>False</td>\n",
              "    </tr>\n",
              "    <tr>\n",
              "      <th>14772</th>\n",
              "      <td>enron_extracted.mbox</td>\n",
              "      <td>Either\\n</td>\n",
              "      <td>194637</td>\n",
              "      <td>either</td>\n",
              "      <td>[]</td>\n",
              "      <td>False</td>\n",
              "    </tr>\n",
              "    <tr>\n",
              "      <th>17312</th>\n",
              "      <td>enron_extracted.mbox</td>\n",
              "      <td>Here it is!\\n</td>\n",
              "      <td>92317</td>\n",
              "      <td>here it is</td>\n",
              "      <td>[]</td>\n",
              "      <td>False</td>\n",
              "    </tr>\n",
              "    <tr>\n",
              "      <th>18017</th>\n",
              "      <td>enron_extracted.mbox</td>\n",
              "      <td>i will be there \\n</td>\n",
              "      <td>130891</td>\n",
              "      <td>i will be there</td>\n",
              "      <td>[]</td>\n",
              "      <td>False</td>\n",
              "    </tr>\n",
              "    <tr>\n",
              "      <th>...</th>\n",
              "      <td>...</td>\n",
              "      <td>...</td>\n",
              "      <td>...</td>\n",
              "      <td>...</td>\n",
              "      <td>...</td>\n",
              "      <td>...</td>\n",
              "    </tr>\n",
              "    <tr>\n",
              "      <th>98338</th>\n",
              "      <td>enron_extracted.mbox</td>\n",
              "      <td>done. see you there\\n</td>\n",
              "      <td>131872</td>\n",
              "      <td>done see you there</td>\n",
              "      <td>[]</td>\n",
              "      <td>False</td>\n",
              "    </tr>\n",
              "    <tr>\n",
              "      <th>102018</th>\n",
              "      <td>enron_extracted.mbox</td>\n",
              "      <td>so\\n</td>\n",
              "      <td>219497</td>\n",
              "      <td>so</td>\n",
              "      <td>[]</td>\n",
              "      <td>False</td>\n",
              "    </tr>\n",
              "    <tr>\n",
              "      <th>103562</th>\n",
              "      <td>enron_extracted.mbox</td>\n",
              "      <td>I will be there.\\n</td>\n",
              "      <td>187997</td>\n",
              "      <td>i will be there</td>\n",
              "      <td>[]</td>\n",
              "      <td>False</td>\n",
              "    </tr>\n",
              "    <tr>\n",
              "      <th>105902</th>\n",
              "      <td>enron_extracted.mbox</td>\n",
              "      <td>is that it?\\n</td>\n",
              "      <td>132625</td>\n",
              "      <td>is that it</td>\n",
              "      <td>[]</td>\n",
              "      <td>False</td>\n",
              "    </tr>\n",
              "    <tr>\n",
              "      <th>107194</th>\n",
              "      <td>enron_extracted.mbox</td>\n",
              "      <td>call me\\n</td>\n",
              "      <td>61039</td>\n",
              "      <td>call me</td>\n",
              "      <td>[]</td>\n",
              "      <td>False</td>\n",
              "    </tr>\n",
              "  </tbody>\n",
              "</table>\n",
              "<p>73 rows × 6 columns</p>\n",
              "</div>"
            ],
            "text/plain": [
              "                    filename             email_body  file_key  \\\n",
              "10844   enron_extracted.mbox       How did it go?\\n     59614   \n",
              "11499   enron_extracted.mbox                 Done\\n     22896   \n",
              "14772   enron_extracted.mbox               Either\\n    194637   \n",
              "17312   enron_extracted.mbox          Here it is!\\n     92317   \n",
              "18017   enron_extracted.mbox     i will be there \\n    130891   \n",
              "...                      ...                    ...       ...   \n",
              "98338   enron_extracted.mbox  done. see you there\\n    131872   \n",
              "102018  enron_extracted.mbox                   so\\n    219497   \n",
              "103562  enron_extracted.mbox     I will be there.\\n    187997   \n",
              "105902  enron_extracted.mbox          is that it?\\n    132625   \n",
              "107194  enron_extracted.mbox              call me\\n     61039   \n",
              "\n",
              "         preprocessed_body tokenized_body  is_phishing  \n",
              "10844        how did it go             []        False  \n",
              "11499                 done             []        False  \n",
              "14772               either             []        False  \n",
              "17312           here it is             []        False  \n",
              "18017      i will be there             []        False  \n",
              "...                    ...            ...          ...  \n",
              "98338   done see you there             []        False  \n",
              "102018                  so             []        False  \n",
              "103562     i will be there             []        False  \n",
              "105902          is that it             []        False  \n",
              "107194             call me             []        False  \n",
              "\n",
              "[73 rows x 6 columns]"
            ]
          },
          "execution_count": 4,
          "metadata": {},
          "output_type": "execute_result"
        }
      ],
      "source": [
        "df_whole_dataset[df_whole_dataset['tokenized_body'].str.len() < 1]"
      ]
    },
    {
      "cell_type": "code",
      "execution_count": null,
      "metadata": {
        "id": "ldNEdBKmoWIK"
      },
      "outputs": [],
      "source": [
        "df_whole_dataset = df_whole_dataset[df_whole_dataset['tokenized_body'].str.len() >= 1]\n",
        "df_whole_dataset.reset_index(inplace=True, drop=True)"
      ]
    },
    {
      "cell_type": "code",
      "execution_count": null,
      "metadata": {
        "id": "jMocvjQfoWIL",
        "outputId": "2ae309ae-f001-4cfc-f2e2-8c6283963b77"
      },
      "outputs": [
        {
          "name": "stdout",
          "output_type": "stream",
          "text": [
            "<class 'pandas.core.frame.DataFrame'>\n",
            "RangeIndex: 107443 entries, 0 to 107442\n",
            "Data columns (total 6 columns):\n",
            " #   Column             Non-Null Count   Dtype \n",
            "---  ------             --------------   ----- \n",
            " 0   filename           107443 non-null  object\n",
            " 1   email_body         107443 non-null  object\n",
            " 2   file_key           107443 non-null  int64 \n",
            " 3   preprocessed_body  107443 non-null  object\n",
            " 4   tokenized_body     107443 non-null  object\n",
            " 5   is_phishing        107443 non-null  bool  \n",
            "dtypes: bool(1), int64(1), object(4)\n",
            "memory usage: 4.2+ MB\n"
          ]
        }
      ],
      "source": [
        "df_whole_dataset.info()"
      ]
    },
    {
      "cell_type": "code",
      "execution_count": null,
      "metadata": {
        "id": "7jK_gsRNoWIL",
        "outputId": "2c953e2f-ab7b-4607-adec-4fddbf7fa603"
      },
      "outputs": [
        {
          "data": {
            "text/plain": [
              "['backup_dumps/df_whole_dataset_drop']"
            ]
          },
          "execution_count": 7,
          "metadata": {},
          "output_type": "execute_result"
        }
      ],
      "source": [
        "from joblib import dump\n",
        "dump(df_whole_dataset, 'backup_dumps/df_whole_dataset_drop')"
      ]
    },
    {
      "cell_type": "markdown",
      "metadata": {
        "id": "LE29P_dXoWIM"
      },
      "source": [
        "# 2. Training the word2vec model to create word embeddings.\n",
        "\n",
        "We are working with dataset that has 107443 records (around 10k phishing e-mails and 90k ham e-mails). \n",
        "\n",
        "We are performing word2vec training on the 'tokenized_body' column that has words from e-mail body, for example sentence: \"I will meet you there\" is tokenized to a list: ['i', 'will', 'meet', 'you', 'there'].\n",
        "\n",
        "Word2vec is initialized with options:\n",
        "* **vector_size=200** - Numbers of dimensions of word vector. Each word will be represented as 200-dimensional vector.\n",
        "* **window=5** - Maximum distance between the current and predicted word within a sentence (left and right distance). For example, if the target word is \"use\", in sentence: \"We should use word embeddings because there are effective\", model will consider words \"we\", \"should\", \"word\", \"embeddings\", \"because\", \"there\", \"are\" as context. \n",
        "* **min_count=6** - Ignores all words with total frequency lower than this.\n",
        "* **sg=1 ** - Training algorithm, 1 is for Skip-gram model.\n",
        "* **negative=5** - Number of \"negative\" samples using during training. These will be the non-context words for each positive (content) word. This technique improves quality of learned embeddings.\n",
        "* **hs=0 ** - If hs is 0, and negative parameter is non zero, negative sampling will be used.\n",
        "* **workers=1 ** - Using one thread to train the model (training was done on local machine).\n",
        "* **seed=random_seed** - Seed to ensure deterministic behaviour.\n",
        "\n"
      ]
    },
    {
      "cell_type": "code",
      "execution_count": null,
      "metadata": {
        "id": "sirh0YPLoWIM"
      },
      "outputs": [],
      "source": [
        "from gensim.models import Word2Vec\n",
        "word2vec_model = Word2Vec(sentences=df_whole_dataset['tokenized_body'], vector_size=200, window=5, min_count=6, sg=1, negative=5, hs=0, workers=1, seed=random_seed)"
      ]
    },
    {
      "cell_type": "code",
      "execution_count": null,
      "metadata": {
        "id": "ClD4t7JtoWIM"
      },
      "outputs": [],
      "source": [
        "word2vec_model.save('models/word2vec_model.model')"
      ]
    },
    {
      "cell_type": "code",
      "execution_count": 3,
      "metadata": {
        "id": "QNV7RRRHoWIN"
      },
      "outputs": [],
      "source": [
        "import gensim\n",
        "word2vec_model = gensim.models.Word2Vec.load('/content/drive/MyDrive/phishing_detection_colab/models/word2vec_model.model')"
      ]
    },
    {
      "cell_type": "code",
      "execution_count": 7,
      "metadata": {
        "id": "INFg3vihoWIN",
        "outputId": "99148475-96f6-437b-9790-d988b8bc7ff7",
        "colab": {
          "base_uri": "https://localhost:8080/",
          "height": 0
        }
      },
      "outputs": [
        {
          "output_type": "execute_result",
          "data": {
            "text/plain": [
              "['fixedstringemails',\n",
              " 'fixedstringurl',\n",
              " 'subject',\n",
              " 'enron',\n",
              " 'pm',\n",
              " 'email',\n",
              " 'message',\n",
              " '2001',\n",
              " 'sent',\n",
              " 'original',\n",
              " 'cc',\n",
              " 'new',\n",
              " 'nt',\n",
              " 'information',\n",
              " 'energy',\n",
              " 'power',\n",
              " 'know',\n",
              " 'thanks',\n",
              " 'time',\n",
              " 'account']"
            ]
          },
          "metadata": {},
          "execution_count": 7
        }
      ],
      "source": [
        "list(word2vec_model.wv.key_to_index.keys())[:20]"
      ]
    },
    {
      "cell_type": "markdown",
      "source": [
        "Examples of most similiar words for \"click\", \"phishing\", \"activate\", \"expire\", \"bank\". Score is based on: "
      ],
      "metadata": {
        "id": "3_8OQXs3IYOv"
      }
    },
    {
      "cell_type": "code",
      "execution_count": null,
      "metadata": {
        "id": "vP4krMlWoWIN",
        "outputId": "f9615214-8dfe-4710-d22d-f3f78111c9ee"
      },
      "outputs": [
        {
          "data": {
            "text/plain": [
              "[('link', 0.6355719566345215),\n",
              " ('customoffers', 0.5789169073104858),\n",
              " ('autowebcom', 0.5774678587913513),\n",
              " ('doubleclicking', 0.5704083442687988),\n",
              " ('crossdailycom', 0.5683172345161438),\n",
              " ('fixedstringurl', 0.5651513934135437),\n",
              " ('800com', 0.5649303793907166),\n",
              " ('button', 0.5643227100372314),\n",
              " ('visitfixedstringurl', 0.5637587904930115),\n",
              " ('clickable', 0.560949981212616)]"
            ]
          },
          "execution_count": 10,
          "metadata": {},
          "output_type": "execute_result"
        }
      ],
      "source": [
        "word2vec_model.wv.most_similar('click')"
      ]
    },
    {
      "cell_type": "code",
      "execution_count": null,
      "metadata": {
        "id": "hUnlr571oWIO",
        "outputId": "12cb830d-cf09-4840-bb68-9060f13a3592"
      },
      "outputs": [
        {
          "data": {
            "text/plain": [
              "[('swindlers', 0.7342047095298767),\n",
              " ('noncustomers', 0.6466224789619446),\n",
              " ('hacking', 0.6243668794631958),\n",
              " ('wri', 0.6203393340110779),\n",
              " ('bankofthewest', 0.6080707907676697),\n",
              " ('lasallebankcom', 0.5865514278411865),\n",
              " ('spoof', 0.5831308364868164),\n",
              " ('lasallebank', 0.5830559134483337),\n",
              " ('gibberish', 0.5760278701782227),\n",
              " ('denialofservice', 0.5731956958770752)]"
            ]
          },
          "execution_count": 11,
          "metadata": {},
          "output_type": "execute_result"
        }
      ],
      "source": [
        "word2vec_model.wv.most_similar('phishing')"
      ]
    },
    {
      "cell_type": "code",
      "execution_count": null,
      "metadata": {
        "id": "4HBodz4-oWIO",
        "outputId": "9838b0a5-9f5e-479c-fddd-1e5147cdd304"
      },
      "outputs": [
        {
          "data": {
            "text/plain": [
              "[('fixedstringurl7ncuaupdatehtm', 0.5958570241928101),\n",
              " ('activation', 0.5531051754951477),\n",
              " ('logout', 0.5512038469314575),\n",
              " ('complecte', 0.5489070415496826),\n",
              " ('unionfcu', 0.5454343557357788),\n",
              " ('antitheft', 0.545307993888855),\n",
              " ('1fixedstringurl', 0.5421379208564758),\n",
              " ('banknet', 0.5395566821098328),\n",
              " ('hotlink', 0.5372851490974426),\n",
              " ('httpxn11bv1bfkd8grab5ixacompl', 0.5309715270996094)]"
            ]
          },
          "execution_count": 12,
          "metadata": {},
          "output_type": "execute_result"
        }
      ],
      "source": [
        "word2vec_model.wv.most_similar('activate')"
      ]
    },
    {
      "cell_type": "code",
      "execution_count": null,
      "metadata": {
        "id": "LZVNLV1doWIP",
        "outputId": "4067e64d-c0a1-4ed6-d1b5-d40c7e39147b"
      },
      "outputs": [
        {
          "data": {
            "text/plain": [
              "[('2001does', 0.628576934337616),\n",
              " ('expires', 0.6151098608970642),\n",
              " ('joseyour', 0.5793957114219666),\n",
              " ('unexercised', 0.5545997023582458),\n",
              " ('emailbox', 0.5416226983070374),\n",
              " ('commences', 0.5274308323860168),\n",
              " ('24hours', 0.5267024040222168),\n",
              " ('temporal', 0.5261765718460083),\n",
              " ('2001and', 0.5251412987709045),\n",
              " ('expired', 0.5234308242797852)]"
            ]
          },
          "execution_count": 13,
          "metadata": {},
          "output_type": "execute_result"
        }
      ],
      "source": [
        "word2vec_model.wv.most_similar('expire')"
      ]
    },
    {
      "cell_type": "code",
      "execution_count": null,
      "metadata": {
        "id": "DgSi8sMJoWIP",
        "outputId": "149f3f04-4166-4e24-da57-ea072a35801b"
      },
      "outputs": [
        {
          "data": {
            "text/plain": [
              "[('erste', 0.6764606833457947),\n",
              " ('fixedstringurl8005392968the', 0.6652169823646545),\n",
              " ('anz', 0.6587746739387512),\n",
              " ('fixedstringurl8008414000key', 0.6561096906661987),\n",
              " ('canara', 0.6545292735099792),\n",
              " ('111000012', 0.6489566564559937),\n",
              " ('fixedstringurl8772427837citibank', 0.6477855443954468),\n",
              " ('banks', 0.6412453055381775),\n",
              " ('fixedstringurl8009723030fleet', 0.6372665166854858),\n",
              " ('fixedstringurl8006273999commerce', 0.6331050395965576)]"
            ]
          },
          "execution_count": 14,
          "metadata": {},
          "output_type": "execute_result"
        }
      ],
      "source": [
        "word2vec_model.wv.most_similar('bank')"
      ]
    },
    {
      "cell_type": "code",
      "execution_count": null,
      "metadata": {
        "id": "PkcfmQQuoWIP",
        "outputId": "2dd69394-6dbc-4ee3-8f32-7b5428163264"
      },
      "outputs": [
        {
          "data": {
            "text/plain": [
              "72584"
            ]
          },
          "execution_count": 11,
          "metadata": {},
          "output_type": "execute_result"
        }
      ],
      "source": [
        "len(word2vec_model.wv.index_to_key) # number of words in the vocabulary"
      ]
    },
    {
      "cell_type": "markdown",
      "source": [
        "# 3. Performing operations with word2vec and final dataset to prepare it for neural network.\n",
        "\n",
        "Replace tokens with word2vec model index. \n",
        "\n",
        "Assign index from word2vec model. \n",
        "\n",
        "Assign **special_index** preventing Out Of Vocabulary (if word is not present in the model's vocabulary, we must assign it an index)."
      ],
      "metadata": {
        "id": "W9_n4Hdminft"
      }
    },
    {
      "cell_type": "code",
      "execution_count": 5,
      "metadata": {
        "id": "3reIjXTAoWIQ"
      },
      "outputs": [],
      "source": [
        "def tokens_to_indices(model, list_of_tokens, special_index):\n",
        "    tokens_indices = [model.wv.key_to_index.get(token, special_index) for token in list_of_tokens]\n",
        "    return tokens_indices"
      ]
    },
    {
      "cell_type": "code",
      "execution_count": 5,
      "metadata": {
        "id": "yATwsaEcoWIT"
      },
      "outputs": [],
      "source": [
        "vocab_len = len(word2vec_model.wv.index_to_key)"
      ]
    },
    {
      "cell_type": "code",
      "source": [
        "vocab_len"
      ],
      "metadata": {
        "colab": {
          "base_uri": "https://localhost:8080/",
          "height": 0
        },
        "id": "F-CcO7_tvR8B",
        "outputId": "2ce8e0ff-5800-49e8-9f5a-8b5be5df5e97"
      },
      "execution_count": 6,
      "outputs": [
        {
          "output_type": "execute_result",
          "data": {
            "text/plain": [
              "72584"
            ]
          },
          "metadata": {},
          "execution_count": 6
        }
      ]
    },
    {
      "cell_type": "code",
      "source": [
        "special_index = vocab_len + 10000"
      ],
      "metadata": {
        "id": "wOgGgg-3pmvM"
      },
      "execution_count": 9,
      "outputs": []
    },
    {
      "cell_type": "code",
      "execution_count": 12,
      "metadata": {
        "id": "sWvkeQknoWIQ",
        "outputId": "f69bfcfb-8085-47d4-d79c-b601e8ecd451",
        "colab": {
          "base_uri": "https://localhost:8080/",
          "height": 0
        }
      },
      "outputs": [
        {
          "output_type": "stream",
          "name": "stdout",
          "text": [
            "[82584, 82584, 12290]\n"
          ]
        }
      ],
      "source": [
        "print(tokens_to_indices(word2vec_model, ['probablynotfoundtoken', 'probablynotfoundtoken2', 'phishing'], special_index))"
      ]
    },
    {
      "cell_type": "code",
      "execution_count": 2,
      "metadata": {
        "id": "f013MyodoWIR"
      },
      "outputs": [],
      "source": [
        "from joblib import load\n",
        "df_whole_dataset_drop = load('/content/drive/MyDrive/phishing_detection_colab/datasets/df_whole_dataset_drop')"
      ]
    },
    {
      "cell_type": "code",
      "execution_count": 2,
      "metadata": {
        "id": "iLB95xkloWIR",
        "outputId": "3fc22982-3154-4a6a-8bd0-8ca3ba6d248f",
        "colab": {
          "base_uri": "https://localhost:8080/",
          "height": 363
        }
      },
      "outputs": [
        {
          "output_type": "execute_result",
          "data": {
            "text/plain": [
              "        filename                                         email_body  file_key  \\\n",
              "0  20051114.mbox  <html>\\n<head>\\n<!--   extraneous meta tag rem...         0   \n",
              "1  20051114.mbox  &nbsp;<body bgcolor=#ffffff><div align=\"left\">...         1   \n",
              "2  20051114.mbox  &nbsp;<body bgcolor=#ffffff><div align=\"left\">...         2   \n",
              "3  20051114.mbox  <html><p><font face=\"Arial\"><A HREF=\"https://w...         3   \n",
              "4  20051114.mbox  \\n\\n<xbody bgcolor=\"#ffffff\"><!--Header code s...         4   \n",
              "5  20051114.mbox  <DIV><DIV><DIV><DIV><DIV><DIV><DIV><DIV><DIV><...         5   \n",
              "6  20051114.mbox  <DIV><DIV><DIV><DIV><DIV><DIV><DIV><DIV><DIV><...         6   \n",
              "7  20051114.mbox  <DIV><DIV><DIV><DIV><DIV><DIV><DIV><DIV><DIV><...         7   \n",
              "8  20051114.mbox  <!DOCTYPE HTML PUBLIC \"-//W3C//DTD HTML 4.01 T...         8   \n",
              "9  20051114.mbox  To report spam please visit our site at\\nhttp:...         9   \n",
              "\n",
              "                                   preprocessed_body  \\\n",
              "0  ebay suspension fixedstringurl fixedstringurl ...   \n",
              "1  dear lasalle member as part of our continuing ...   \n",
              "2  dear lasalle member as part of our continuing ...   \n",
              "3  fixedstringurl i dont pokemon in 1878 in 1874 ...   \n",
              "4  fixedstringurl fixedstringurl fixedstringurl f...   \n",
              "5  fixedstringurl fixedstringurl fixedstringurl f...   \n",
              "6  fixedstringurl fixedstringurl fixedstringurl f...   \n",
              "7  fixedstringurl fixedstringurl fixedstringurl f...   \n",
              "8  untitled document fixedstringurl urgent safeha...   \n",
              "9  to report spam please visit our site at fixeds...   \n",
              "\n",
              "                                      tokenized_body  is_phishing  \n",
              "0  [ebay, suspension, fixedstringurl, fixedstring...         True  \n",
              "1  [dear, lasalle, member, part, continuing, comm...         True  \n",
              "2  [dear, lasalle, member, part, continuing, comm...         True  \n",
              "3  [fixedstringurl, dont, pokemon, 1878, 1874, sh...         True  \n",
              "4  [fixedstringurl, fixedstringurl, fixedstringur...         True  \n",
              "5  [fixedstringurl, fixedstringurl, fixedstringur...         True  \n",
              "6  [fixedstringurl, fixedstringurl, fixedstringur...         True  \n",
              "7  [fixedstringurl, fixedstringurl, fixedstringur...         True  \n",
              "8  [untitled, document, fixedstringurl, urgent, s...         True  \n",
              "9  [report, spam, please, visit, site, fixedstrin...         True  "
            ],
            "text/html": [
              "\n",
              "  <div id=\"df-0d4401df-414e-4757-b71d-e64bd22fbd64\">\n",
              "    <div class=\"colab-df-container\">\n",
              "      <div>\n",
              "<style scoped>\n",
              "    .dataframe tbody tr th:only-of-type {\n",
              "        vertical-align: middle;\n",
              "    }\n",
              "\n",
              "    .dataframe tbody tr th {\n",
              "        vertical-align: top;\n",
              "    }\n",
              "\n",
              "    .dataframe thead th {\n",
              "        text-align: right;\n",
              "    }\n",
              "</style>\n",
              "<table border=\"1\" class=\"dataframe\">\n",
              "  <thead>\n",
              "    <tr style=\"text-align: right;\">\n",
              "      <th></th>\n",
              "      <th>filename</th>\n",
              "      <th>email_body</th>\n",
              "      <th>file_key</th>\n",
              "      <th>preprocessed_body</th>\n",
              "      <th>tokenized_body</th>\n",
              "      <th>is_phishing</th>\n",
              "    </tr>\n",
              "  </thead>\n",
              "  <tbody>\n",
              "    <tr>\n",
              "      <th>0</th>\n",
              "      <td>20051114.mbox</td>\n",
              "      <td>&lt;html&gt;\\n&lt;head&gt;\\n&lt;!--   extraneous meta tag rem...</td>\n",
              "      <td>0</td>\n",
              "      <td>ebay suspension fixedstringurl fixedstringurl ...</td>\n",
              "      <td>[ebay, suspension, fixedstringurl, fixedstring...</td>\n",
              "      <td>True</td>\n",
              "    </tr>\n",
              "    <tr>\n",
              "      <th>1</th>\n",
              "      <td>20051114.mbox</td>\n",
              "      <td>&amp;nbsp;&lt;body bgcolor=#ffffff&gt;&lt;div align=\"left\"&gt;...</td>\n",
              "      <td>1</td>\n",
              "      <td>dear lasalle member as part of our continuing ...</td>\n",
              "      <td>[dear, lasalle, member, part, continuing, comm...</td>\n",
              "      <td>True</td>\n",
              "    </tr>\n",
              "    <tr>\n",
              "      <th>2</th>\n",
              "      <td>20051114.mbox</td>\n",
              "      <td>&amp;nbsp;&lt;body bgcolor=#ffffff&gt;&lt;div align=\"left\"&gt;...</td>\n",
              "      <td>2</td>\n",
              "      <td>dear lasalle member as part of our continuing ...</td>\n",
              "      <td>[dear, lasalle, member, part, continuing, comm...</td>\n",
              "      <td>True</td>\n",
              "    </tr>\n",
              "    <tr>\n",
              "      <th>3</th>\n",
              "      <td>20051114.mbox</td>\n",
              "      <td>&lt;html&gt;&lt;p&gt;&lt;font face=\"Arial\"&gt;&lt;A HREF=\"https://w...</td>\n",
              "      <td>3</td>\n",
              "      <td>fixedstringurl i dont pokemon in 1878 in 1874 ...</td>\n",
              "      <td>[fixedstringurl, dont, pokemon, 1878, 1874, sh...</td>\n",
              "      <td>True</td>\n",
              "    </tr>\n",
              "    <tr>\n",
              "      <th>4</th>\n",
              "      <td>20051114.mbox</td>\n",
              "      <td>\\n\\n&lt;xbody bgcolor=\"#ffffff\"&gt;&lt;!--Header code s...</td>\n",
              "      <td>4</td>\n",
              "      <td>fixedstringurl fixedstringurl fixedstringurl f...</td>\n",
              "      <td>[fixedstringurl, fixedstringurl, fixedstringur...</td>\n",
              "      <td>True</td>\n",
              "    </tr>\n",
              "    <tr>\n",
              "      <th>5</th>\n",
              "      <td>20051114.mbox</td>\n",
              "      <td>&lt;DIV&gt;&lt;DIV&gt;&lt;DIV&gt;&lt;DIV&gt;&lt;DIV&gt;&lt;DIV&gt;&lt;DIV&gt;&lt;DIV&gt;&lt;DIV&gt;&lt;...</td>\n",
              "      <td>5</td>\n",
              "      <td>fixedstringurl fixedstringurl fixedstringurl f...</td>\n",
              "      <td>[fixedstringurl, fixedstringurl, fixedstringur...</td>\n",
              "      <td>True</td>\n",
              "    </tr>\n",
              "    <tr>\n",
              "      <th>6</th>\n",
              "      <td>20051114.mbox</td>\n",
              "      <td>&lt;DIV&gt;&lt;DIV&gt;&lt;DIV&gt;&lt;DIV&gt;&lt;DIV&gt;&lt;DIV&gt;&lt;DIV&gt;&lt;DIV&gt;&lt;DIV&gt;&lt;...</td>\n",
              "      <td>6</td>\n",
              "      <td>fixedstringurl fixedstringurl fixedstringurl f...</td>\n",
              "      <td>[fixedstringurl, fixedstringurl, fixedstringur...</td>\n",
              "      <td>True</td>\n",
              "    </tr>\n",
              "    <tr>\n",
              "      <th>7</th>\n",
              "      <td>20051114.mbox</td>\n",
              "      <td>&lt;DIV&gt;&lt;DIV&gt;&lt;DIV&gt;&lt;DIV&gt;&lt;DIV&gt;&lt;DIV&gt;&lt;DIV&gt;&lt;DIV&gt;&lt;DIV&gt;&lt;...</td>\n",
              "      <td>7</td>\n",
              "      <td>fixedstringurl fixedstringurl fixedstringurl f...</td>\n",
              "      <td>[fixedstringurl, fixedstringurl, fixedstringur...</td>\n",
              "      <td>True</td>\n",
              "    </tr>\n",
              "    <tr>\n",
              "      <th>8</th>\n",
              "      <td>20051114.mbox</td>\n",
              "      <td>&lt;!DOCTYPE HTML PUBLIC \"-//W3C//DTD HTML 4.01 T...</td>\n",
              "      <td>8</td>\n",
              "      <td>untitled document fixedstringurl urgent safeha...</td>\n",
              "      <td>[untitled, document, fixedstringurl, urgent, s...</td>\n",
              "      <td>True</td>\n",
              "    </tr>\n",
              "    <tr>\n",
              "      <th>9</th>\n",
              "      <td>20051114.mbox</td>\n",
              "      <td>To report spam please visit our site at\\nhttp:...</td>\n",
              "      <td>9</td>\n",
              "      <td>to report spam please visit our site at fixeds...</td>\n",
              "      <td>[report, spam, please, visit, site, fixedstrin...</td>\n",
              "      <td>True</td>\n",
              "    </tr>\n",
              "  </tbody>\n",
              "</table>\n",
              "</div>\n",
              "      <button class=\"colab-df-convert\" onclick=\"convertToInteractive('df-0d4401df-414e-4757-b71d-e64bd22fbd64')\"\n",
              "              title=\"Convert this dataframe to an interactive table.\"\n",
              "              style=\"display:none;\">\n",
              "        \n",
              "  <svg xmlns=\"http://www.w3.org/2000/svg\" height=\"24px\"viewBox=\"0 0 24 24\"\n",
              "       width=\"24px\">\n",
              "    <path d=\"M0 0h24v24H0V0z\" fill=\"none\"/>\n",
              "    <path d=\"M18.56 5.44l.94 2.06.94-2.06 2.06-.94-2.06-.94-.94-2.06-.94 2.06-2.06.94zm-11 1L8.5 8.5l.94-2.06 2.06-.94-2.06-.94L8.5 2.5l-.94 2.06-2.06.94zm10 10l.94 2.06.94-2.06 2.06-.94-2.06-.94-.94-2.06-.94 2.06-2.06.94z\"/><path d=\"M17.41 7.96l-1.37-1.37c-.4-.4-.92-.59-1.43-.59-.52 0-1.04.2-1.43.59L10.3 9.45l-7.72 7.72c-.78.78-.78 2.05 0 2.83L4 21.41c.39.39.9.59 1.41.59.51 0 1.02-.2 1.41-.59l7.78-7.78 2.81-2.81c.8-.78.8-2.07 0-2.86zM5.41 20L4 18.59l7.72-7.72 1.47 1.35L5.41 20z\"/>\n",
              "  </svg>\n",
              "      </button>\n",
              "      \n",
              "  <style>\n",
              "    .colab-df-container {\n",
              "      display:flex;\n",
              "      flex-wrap:wrap;\n",
              "      gap: 12px;\n",
              "    }\n",
              "\n",
              "    .colab-df-convert {\n",
              "      background-color: #E8F0FE;\n",
              "      border: none;\n",
              "      border-radius: 50%;\n",
              "      cursor: pointer;\n",
              "      display: none;\n",
              "      fill: #1967D2;\n",
              "      height: 32px;\n",
              "      padding: 0 0 0 0;\n",
              "      width: 32px;\n",
              "    }\n",
              "\n",
              "    .colab-df-convert:hover {\n",
              "      background-color: #E2EBFA;\n",
              "      box-shadow: 0px 1px 2px rgba(60, 64, 67, 0.3), 0px 1px 3px 1px rgba(60, 64, 67, 0.15);\n",
              "      fill: #174EA6;\n",
              "    }\n",
              "\n",
              "    [theme=dark] .colab-df-convert {\n",
              "      background-color: #3B4455;\n",
              "      fill: #D2E3FC;\n",
              "    }\n",
              "\n",
              "    [theme=dark] .colab-df-convert:hover {\n",
              "      background-color: #434B5C;\n",
              "      box-shadow: 0px 1px 3px 1px rgba(0, 0, 0, 0.15);\n",
              "      filter: drop-shadow(0px 1px 2px rgba(0, 0, 0, 0.3));\n",
              "      fill: #FFFFFF;\n",
              "    }\n",
              "  </style>\n",
              "\n",
              "      <script>\n",
              "        const buttonEl =\n",
              "          document.querySelector('#df-0d4401df-414e-4757-b71d-e64bd22fbd64 button.colab-df-convert');\n",
              "        buttonEl.style.display =\n",
              "          google.colab.kernel.accessAllowed ? 'block' : 'none';\n",
              "\n",
              "        async function convertToInteractive(key) {\n",
              "          const element = document.querySelector('#df-0d4401df-414e-4757-b71d-e64bd22fbd64');\n",
              "          const dataTable =\n",
              "            await google.colab.kernel.invokeFunction('convertToInteractive',\n",
              "                                                     [key], {});\n",
              "          if (!dataTable) return;\n",
              "\n",
              "          const docLinkHtml = 'Like what you see? Visit the ' +\n",
              "            '<a target=\"_blank\" href=https://colab.research.google.com/notebooks/data_table.ipynb>data table notebook</a>'\n",
              "            + ' to learn more about interactive tables.';\n",
              "          element.innerHTML = '';\n",
              "          dataTable['output_type'] = 'display_data';\n",
              "          await google.colab.output.renderOutput(dataTable, element);\n",
              "          const docLink = document.createElement('div');\n",
              "          docLink.innerHTML = docLinkHtml;\n",
              "          element.appendChild(docLink);\n",
              "        }\n",
              "      </script>\n",
              "    </div>\n",
              "  </div>\n",
              "  "
            ]
          },
          "metadata": {},
          "execution_count": 2
        }
      ],
      "source": [
        "df_whole_dataset_drop.head(10)"
      ]
    },
    {
      "cell_type": "code",
      "execution_count": 11,
      "metadata": {
        "id": "LvP6nhSqoWIR"
      },
      "outputs": [],
      "source": [
        "df_whole_dataset_drop['tokenized_body_indexed'] = df_whole_dataset_drop['tokenized_body'].apply(lambda x: tokens_to_indices(word2vec_model, x, special_index))"
      ]
    },
    {
      "cell_type": "code",
      "execution_count": 23,
      "metadata": {
        "id": "s2V74mBaoWIS",
        "outputId": "8ea744d8-7959-4c87-880a-b981c98b097e",
        "colab": {
          "base_uri": "https://localhost:8080/",
          "height": 581
        }
      },
      "outputs": [
        {
          "output_type": "execute_result",
          "data": {
            "text/plain": [
              "        filename                                         email_body  file_key  \\\n",
              "0  20051114.mbox  <html>\\n<head>\\n<!--   extraneous meta tag rem...         0   \n",
              "1  20051114.mbox  &nbsp;<body bgcolor=#ffffff><div align=\"left\">...         1   \n",
              "2  20051114.mbox  &nbsp;<body bgcolor=#ffffff><div align=\"left\">...         2   \n",
              "3  20051114.mbox  <html><p><font face=\"Arial\"><A HREF=\"https://w...         3   \n",
              "4  20051114.mbox  \\n\\n<xbody bgcolor=\"#ffffff\"><!--Header code s...         4   \n",
              "5  20051114.mbox  <DIV><DIV><DIV><DIV><DIV><DIV><DIV><DIV><DIV><...         5   \n",
              "6  20051114.mbox  <DIV><DIV><DIV><DIV><DIV><DIV><DIV><DIV><DIV><...         6   \n",
              "7  20051114.mbox  <DIV><DIV><DIV><DIV><DIV><DIV><DIV><DIV><DIV><...         7   \n",
              "8  20051114.mbox  <!DOCTYPE HTML PUBLIC \"-//W3C//DTD HTML 4.01 T...         8   \n",
              "9  20051114.mbox  To report spam please visit our site at\\nhttp:...         9   \n",
              "\n",
              "                                   preprocessed_body  \\\n",
              "0  ebay suspension fixedstringurl fixedstringurl ...   \n",
              "1  dear lasalle member as part of our continuing ...   \n",
              "2  dear lasalle member as part of our continuing ...   \n",
              "3  fixedstringurl i dont pokemon in 1878 in 1874 ...   \n",
              "4  fixedstringurl fixedstringurl fixedstringurl f...   \n",
              "5  fixedstringurl fixedstringurl fixedstringurl f...   \n",
              "6  fixedstringurl fixedstringurl fixedstringurl f...   \n",
              "7  fixedstringurl fixedstringurl fixedstringurl f...   \n",
              "8  untitled document fixedstringurl urgent safeha...   \n",
              "9  to report spam please visit our site at fixeds...   \n",
              "\n",
              "                                      tokenized_body  is_phishing  \\\n",
              "0  [ebay, suspension, fixedstringurl, fixedstring...         True   \n",
              "1  [dear, lasalle, member, part, continuing, comm...         True   \n",
              "2  [dear, lasalle, member, part, continuing, comm...         True   \n",
              "3  [fixedstringurl, dont, pokemon, 1878, 1874, sh...         True   \n",
              "4  [fixedstringurl, fixedstringurl, fixedstringur...         True   \n",
              "5  [fixedstringurl, fixedstringurl, fixedstringur...         True   \n",
              "6  [fixedstringurl, fixedstringurl, fixedstringur...         True   \n",
              "7  [fixedstringurl, fixedstringurl, fixedstringur...         True   \n",
              "8  [untitled, document, fixedstringurl, urgent, s...         True   \n",
              "9  [report, spam, please, visit, site, fixedstrin...         True   \n",
              "\n",
              "                              tokenized_body_indexed  \n",
              "0  [111, 1851, 1, 1, 1, 1, 1, 111, 1851, 1, 1, 1,...  \n",
              "1  [169, 9578, 249, 2154, 1583, 1629, 537, 19, 11...  \n",
              "2  [169, 9578, 249, 2154, 1583, 1629, 537, 19, 11...  \n",
              "3                [1, 3047, 82584, 51669, 32874, 534]  \n",
              "4                                 [1, 1, 1, 1, 1, 1]  \n",
              "5  [1, 1, 1, 1, 1592, 141, 1, 1, 1, 1, 1, 4517, 1...  \n",
              "6  [1, 1, 1, 1, 1592, 141, 1, 1, 1, 1, 1, 4517, 1...  \n",
              "7  [1, 1, 1, 1, 1592, 141, 1, 1, 1, 1, 1, 4517, 1...  \n",
              "8  [5471, 392, 1, 3695, 9420, 306, 256, 111, 1197...  \n",
              "9  [80, 4031, 118, 164, 226, 1, 5, 856, 93, 600, ...  "
            ],
            "text/html": [
              "\n",
              "  <div id=\"df-31d6dc2f-a6ba-44d6-9ea4-f7e7f99580de\">\n",
              "    <div class=\"colab-df-container\">\n",
              "      <div>\n",
              "<style scoped>\n",
              "    .dataframe tbody tr th:only-of-type {\n",
              "        vertical-align: middle;\n",
              "    }\n",
              "\n",
              "    .dataframe tbody tr th {\n",
              "        vertical-align: top;\n",
              "    }\n",
              "\n",
              "    .dataframe thead th {\n",
              "        text-align: right;\n",
              "    }\n",
              "</style>\n",
              "<table border=\"1\" class=\"dataframe\">\n",
              "  <thead>\n",
              "    <tr style=\"text-align: right;\">\n",
              "      <th></th>\n",
              "      <th>filename</th>\n",
              "      <th>email_body</th>\n",
              "      <th>file_key</th>\n",
              "      <th>preprocessed_body</th>\n",
              "      <th>tokenized_body</th>\n",
              "      <th>is_phishing</th>\n",
              "      <th>tokenized_body_indexed</th>\n",
              "    </tr>\n",
              "  </thead>\n",
              "  <tbody>\n",
              "    <tr>\n",
              "      <th>0</th>\n",
              "      <td>20051114.mbox</td>\n",
              "      <td>&lt;html&gt;\\n&lt;head&gt;\\n&lt;!--   extraneous meta tag rem...</td>\n",
              "      <td>0</td>\n",
              "      <td>ebay suspension fixedstringurl fixedstringurl ...</td>\n",
              "      <td>[ebay, suspension, fixedstringurl, fixedstring...</td>\n",
              "      <td>True</td>\n",
              "      <td>[111, 1851, 1, 1, 1, 1, 1, 111, 1851, 1, 1, 1,...</td>\n",
              "    </tr>\n",
              "    <tr>\n",
              "      <th>1</th>\n",
              "      <td>20051114.mbox</td>\n",
              "      <td>&amp;nbsp;&lt;body bgcolor=#ffffff&gt;&lt;div align=\"left\"&gt;...</td>\n",
              "      <td>1</td>\n",
              "      <td>dear lasalle member as part of our continuing ...</td>\n",
              "      <td>[dear, lasalle, member, part, continuing, comm...</td>\n",
              "      <td>True</td>\n",
              "      <td>[169, 9578, 249, 2154, 1583, 1629, 537, 19, 11...</td>\n",
              "    </tr>\n",
              "    <tr>\n",
              "      <th>2</th>\n",
              "      <td>20051114.mbox</td>\n",
              "      <td>&amp;nbsp;&lt;body bgcolor=#ffffff&gt;&lt;div align=\"left\"&gt;...</td>\n",
              "      <td>2</td>\n",
              "      <td>dear lasalle member as part of our continuing ...</td>\n",
              "      <td>[dear, lasalle, member, part, continuing, comm...</td>\n",
              "      <td>True</td>\n",
              "      <td>[169, 9578, 249, 2154, 1583, 1629, 537, 19, 11...</td>\n",
              "    </tr>\n",
              "    <tr>\n",
              "      <th>3</th>\n",
              "      <td>20051114.mbox</td>\n",
              "      <td>&lt;html&gt;&lt;p&gt;&lt;font face=\"Arial\"&gt;&lt;A HREF=\"https://w...</td>\n",
              "      <td>3</td>\n",
              "      <td>fixedstringurl i dont pokemon in 1878 in 1874 ...</td>\n",
              "      <td>[fixedstringurl, dont, pokemon, 1878, 1874, sh...</td>\n",
              "      <td>True</td>\n",
              "      <td>[1, 3047, 82584, 51669, 32874, 534]</td>\n",
              "    </tr>\n",
              "    <tr>\n",
              "      <th>4</th>\n",
              "      <td>20051114.mbox</td>\n",
              "      <td>\\n\\n&lt;xbody bgcolor=\"#ffffff\"&gt;&lt;!--Header code s...</td>\n",
              "      <td>4</td>\n",
              "      <td>fixedstringurl fixedstringurl fixedstringurl f...</td>\n",
              "      <td>[fixedstringurl, fixedstringurl, fixedstringur...</td>\n",
              "      <td>True</td>\n",
              "      <td>[1, 1, 1, 1, 1, 1]</td>\n",
              "    </tr>\n",
              "    <tr>\n",
              "      <th>5</th>\n",
              "      <td>20051114.mbox</td>\n",
              "      <td>&lt;DIV&gt;&lt;DIV&gt;&lt;DIV&gt;&lt;DIV&gt;&lt;DIV&gt;&lt;DIV&gt;&lt;DIV&gt;&lt;DIV&gt;&lt;DIV&gt;&lt;...</td>\n",
              "      <td>5</td>\n",
              "      <td>fixedstringurl fixedstringurl fixedstringurl f...</td>\n",
              "      <td>[fixedstringurl, fixedstringurl, fixedstringur...</td>\n",
              "      <td>True</td>\n",
              "      <td>[1, 1, 1, 1, 1592, 141, 1, 1, 1, 1, 1, 4517, 1...</td>\n",
              "    </tr>\n",
              "    <tr>\n",
              "      <th>6</th>\n",
              "      <td>20051114.mbox</td>\n",
              "      <td>&lt;DIV&gt;&lt;DIV&gt;&lt;DIV&gt;&lt;DIV&gt;&lt;DIV&gt;&lt;DIV&gt;&lt;DIV&gt;&lt;DIV&gt;&lt;DIV&gt;&lt;...</td>\n",
              "      <td>6</td>\n",
              "      <td>fixedstringurl fixedstringurl fixedstringurl f...</td>\n",
              "      <td>[fixedstringurl, fixedstringurl, fixedstringur...</td>\n",
              "      <td>True</td>\n",
              "      <td>[1, 1, 1, 1, 1592, 141, 1, 1, 1, 1, 1, 4517, 1...</td>\n",
              "    </tr>\n",
              "    <tr>\n",
              "      <th>7</th>\n",
              "      <td>20051114.mbox</td>\n",
              "      <td>&lt;DIV&gt;&lt;DIV&gt;&lt;DIV&gt;&lt;DIV&gt;&lt;DIV&gt;&lt;DIV&gt;&lt;DIV&gt;&lt;DIV&gt;&lt;DIV&gt;&lt;...</td>\n",
              "      <td>7</td>\n",
              "      <td>fixedstringurl fixedstringurl fixedstringurl f...</td>\n",
              "      <td>[fixedstringurl, fixedstringurl, fixedstringur...</td>\n",
              "      <td>True</td>\n",
              "      <td>[1, 1, 1, 1, 1592, 141, 1, 1, 1, 1, 1, 4517, 1...</td>\n",
              "    </tr>\n",
              "    <tr>\n",
              "      <th>8</th>\n",
              "      <td>20051114.mbox</td>\n",
              "      <td>&lt;!DOCTYPE HTML PUBLIC \"-//W3C//DTD HTML 4.01 T...</td>\n",
              "      <td>8</td>\n",
              "      <td>untitled document fixedstringurl urgent safeha...</td>\n",
              "      <td>[untitled, document, fixedstringurl, urgent, s...</td>\n",
              "      <td>True</td>\n",
              "      <td>[5471, 392, 1, 3695, 9420, 306, 256, 111, 1197...</td>\n",
              "    </tr>\n",
              "    <tr>\n",
              "      <th>9</th>\n",
              "      <td>20051114.mbox</td>\n",
              "      <td>To report spam please visit our site at\\nhttp:...</td>\n",
              "      <td>9</td>\n",
              "      <td>to report spam please visit our site at fixeds...</td>\n",
              "      <td>[report, spam, please, visit, site, fixedstrin...</td>\n",
              "      <td>True</td>\n",
              "      <td>[80, 4031, 118, 164, 226, 1, 5, 856, 93, 600, ...</td>\n",
              "    </tr>\n",
              "  </tbody>\n",
              "</table>\n",
              "</div>\n",
              "      <button class=\"colab-df-convert\" onclick=\"convertToInteractive('df-31d6dc2f-a6ba-44d6-9ea4-f7e7f99580de')\"\n",
              "              title=\"Convert this dataframe to an interactive table.\"\n",
              "              style=\"display:none;\">\n",
              "        \n",
              "  <svg xmlns=\"http://www.w3.org/2000/svg\" height=\"24px\"viewBox=\"0 0 24 24\"\n",
              "       width=\"24px\">\n",
              "    <path d=\"M0 0h24v24H0V0z\" fill=\"none\"/>\n",
              "    <path d=\"M18.56 5.44l.94 2.06.94-2.06 2.06-.94-2.06-.94-.94-2.06-.94 2.06-2.06.94zm-11 1L8.5 8.5l.94-2.06 2.06-.94-2.06-.94L8.5 2.5l-.94 2.06-2.06.94zm10 10l.94 2.06.94-2.06 2.06-.94-2.06-.94-.94-2.06-.94 2.06-2.06.94z\"/><path d=\"M17.41 7.96l-1.37-1.37c-.4-.4-.92-.59-1.43-.59-.52 0-1.04.2-1.43.59L10.3 9.45l-7.72 7.72c-.78.78-.78 2.05 0 2.83L4 21.41c.39.39.9.59 1.41.59.51 0 1.02-.2 1.41-.59l7.78-7.78 2.81-2.81c.8-.78.8-2.07 0-2.86zM5.41 20L4 18.59l7.72-7.72 1.47 1.35L5.41 20z\"/>\n",
              "  </svg>\n",
              "      </button>\n",
              "      \n",
              "  <style>\n",
              "    .colab-df-container {\n",
              "      display:flex;\n",
              "      flex-wrap:wrap;\n",
              "      gap: 12px;\n",
              "    }\n",
              "\n",
              "    .colab-df-convert {\n",
              "      background-color: #E8F0FE;\n",
              "      border: none;\n",
              "      border-radius: 50%;\n",
              "      cursor: pointer;\n",
              "      display: none;\n",
              "      fill: #1967D2;\n",
              "      height: 32px;\n",
              "      padding: 0 0 0 0;\n",
              "      width: 32px;\n",
              "    }\n",
              "\n",
              "    .colab-df-convert:hover {\n",
              "      background-color: #E2EBFA;\n",
              "      box-shadow: 0px 1px 2px rgba(60, 64, 67, 0.3), 0px 1px 3px 1px rgba(60, 64, 67, 0.15);\n",
              "      fill: #174EA6;\n",
              "    }\n",
              "\n",
              "    [theme=dark] .colab-df-convert {\n",
              "      background-color: #3B4455;\n",
              "      fill: #D2E3FC;\n",
              "    }\n",
              "\n",
              "    [theme=dark] .colab-df-convert:hover {\n",
              "      background-color: #434B5C;\n",
              "      box-shadow: 0px 1px 3px 1px rgba(0, 0, 0, 0.15);\n",
              "      filter: drop-shadow(0px 1px 2px rgba(0, 0, 0, 0.3));\n",
              "      fill: #FFFFFF;\n",
              "    }\n",
              "  </style>\n",
              "\n",
              "      <script>\n",
              "        const buttonEl =\n",
              "          document.querySelector('#df-31d6dc2f-a6ba-44d6-9ea4-f7e7f99580de button.colab-df-convert');\n",
              "        buttonEl.style.display =\n",
              "          google.colab.kernel.accessAllowed ? 'block' : 'none';\n",
              "\n",
              "        async function convertToInteractive(key) {\n",
              "          const element = document.querySelector('#df-31d6dc2f-a6ba-44d6-9ea4-f7e7f99580de');\n",
              "          const dataTable =\n",
              "            await google.colab.kernel.invokeFunction('convertToInteractive',\n",
              "                                                     [key], {});\n",
              "          if (!dataTable) return;\n",
              "\n",
              "          const docLinkHtml = 'Like what you see? Visit the ' +\n",
              "            '<a target=\"_blank\" href=https://colab.research.google.com/notebooks/data_table.ipynb>data table notebook</a>'\n",
              "            + ' to learn more about interactive tables.';\n",
              "          element.innerHTML = '';\n",
              "          dataTable['output_type'] = 'display_data';\n",
              "          await google.colab.output.renderOutput(dataTable, element);\n",
              "          const docLink = document.createElement('div');\n",
              "          docLink.innerHTML = docLinkHtml;\n",
              "          element.appendChild(docLink);\n",
              "        }\n",
              "      </script>\n",
              "    </div>\n",
              "  </div>\n",
              "  "
            ]
          },
          "metadata": {},
          "execution_count": 23
        }
      ],
      "source": [
        "df_whole_dataset_drop.head(10)"
      ]
    },
    {
      "cell_type": "code",
      "source": [
        "df_whole_dataset_drop.info()"
      ],
      "metadata": {
        "colab": {
          "base_uri": "https://localhost:8080/",
          "height": 0
        },
        "id": "mQ1G40SqzfSX",
        "outputId": "e5f30167-d6d8-4991-d7e5-eb4200181790"
      },
      "execution_count": 24,
      "outputs": [
        {
          "output_type": "stream",
          "name": "stdout",
          "text": [
            "<class 'pandas.core.frame.DataFrame'>\n",
            "RangeIndex: 107443 entries, 0 to 107442\n",
            "Data columns (total 7 columns):\n",
            " #   Column                  Non-Null Count   Dtype \n",
            "---  ------                  --------------   ----- \n",
            " 0   filename                107443 non-null  object\n",
            " 1   email_body              107443 non-null  object\n",
            " 2   file_key                107443 non-null  int64 \n",
            " 3   preprocessed_body       107443 non-null  object\n",
            " 4   tokenized_body          107443 non-null  object\n",
            " 5   is_phishing             107443 non-null  bool  \n",
            " 6   tokenized_body_indexed  107443 non-null  object\n",
            "dtypes: bool(1), int64(1), object(5)\n",
            "memory usage: 5.0+ MB\n"
          ]
        }
      ]
    },
    {
      "cell_type": "markdown",
      "source": [
        "Saving the dataset to disk and then loading it."
      ],
      "metadata": {
        "id": "_25RlN65i3oa"
      }
    },
    {
      "cell_type": "code",
      "source": [
        "from joblib import dump\n",
        "dump(df_whole_dataset_drop, '/content/drive/MyDrive/phishing_detection_colab/datasets/df_whole_dataset_drop')"
      ],
      "metadata": {
        "colab": {
          "base_uri": "https://localhost:8080/",
          "height": 0
        },
        "id": "1MRX462g0LWn",
        "outputId": "73303ce4-4a9a-40b7-df55-caa4028cdb1c"
      },
      "execution_count": 12,
      "outputs": [
        {
          "output_type": "execute_result",
          "data": {
            "text/plain": [
              "['/content/drive/MyDrive/phishing_detection_colab/datasets/df_whole_dataset_drop']"
            ]
          },
          "metadata": {},
          "execution_count": 12
        }
      ]
    },
    {
      "cell_type": "code",
      "source": [
        "from joblib import load\n",
        "df_whole_dataset_drop = load('/content/drive/MyDrive/phishing_detection_colab/datasets/df_whole_dataset_drop')"
      ],
      "metadata": {
        "id": "nQ0hrmO62qzA"
      },
      "execution_count": 4,
      "outputs": []
    },
    {
      "cell_type": "markdown",
      "metadata": {
        "id": "gpqH-etfoWIS"
      },
      "source": [
        "Pad sequences to gain fixed size.\n",
        "\n",
        "We take the maximum length of tokens in e-mail body (max_tokens_len) and pad indexes of word2vec (tokenized_body_indexed) to ensure fixed size of all sequences.\n",
        "\n",
        "We use value=vocab_len which is 72584 (word2vec vocab size), to ensure that padded value won't appear in word2vec indices."
      ]
    },
    {
      "cell_type": "code",
      "execution_count": 3,
      "metadata": {
        "id": "XkqMH58zoWIS"
      },
      "outputs": [],
      "source": [
        "max_tokens_len = df_whole_dataset_drop['tokenized_body'].apply(len).max()"
      ]
    },
    {
      "cell_type": "code",
      "execution_count": 4,
      "metadata": {
        "colab": {
          "base_uri": "https://localhost:8080/",
          "height": 0
        },
        "id": "A5k-y1U0oWIT",
        "outputId": "95590a5e-542f-4123-a674-c40dbec0d62a"
      },
      "outputs": [
        {
          "output_type": "execute_result",
          "data": {
            "text/plain": [
              "55231"
            ]
          },
          "metadata": {},
          "execution_count": 4
        }
      ],
      "source": [
        "max_tokens_len "
      ]
    },
    {
      "cell_type": "code",
      "source": [
        "from tensorflow.keras.preprocessing.sequence import pad_sequences\n",
        "\n",
        "padded_sequences = pad_sequences(df_whole_dataset_drop['tokenized_body_indexed'], maxlen=max_tokens_len, padding='post', value=vocab_len)"
      ],
      "metadata": {
        "id": "gLkdAM_Hp5ig"
      },
      "execution_count": null,
      "outputs": []
    },
    {
      "cell_type": "code",
      "source": [
        "padded_sequences"
      ],
      "metadata": {
        "colab": {
          "base_uri": "https://localhost:8080/"
        },
        "id": "-9ZGBFczqk8b",
        "outputId": "aba5aa34-af3a-40e3-d422-7e8ea103f6ea"
      },
      "execution_count": null,
      "outputs": [
        {
          "output_type": "execute_result",
          "data": {
            "text/plain": [
              "array([[  111,  1851,     1, ..., 72584, 72584, 72584],\n",
              "       [  169,  9578,   249, ..., 72584, 72584, 72584],\n",
              "       [  169,  9578,   249, ..., 72584, 72584, 72584],\n",
              "       ...,\n",
              "       [ 3920,   321,  8045, ..., 72584, 72584, 72584],\n",
              "       [ 2581,  2793,     5, ..., 72584, 72584, 72584],\n",
              "       [  414,   128,   220, ..., 72584, 72584, 72584]], dtype=int32)"
            ]
          },
          "metadata": {},
          "execution_count": 13
        }
      ]
    },
    {
      "cell_type": "code",
      "source": [
        "import numpy as np\n",
        "np.savez_compressed('/content/drive/MyDrive/phishing_detection_colab/datasets/padded_sequences.npz', my_array=padded_sequences)"
      ],
      "metadata": {
        "id": "mohuhal0qsFM"
      },
      "execution_count": null,
      "outputs": []
    },
    {
      "cell_type": "markdown",
      "source": [
        "Loading below data consumes about 20 GB of RAM."
      ],
      "metadata": {
        "id": "NKHf0buQ0n7g"
      }
    },
    {
      "cell_type": "code",
      "source": [
        "import numpy as np\n",
        "loaded_data = np.load('/content/drive/MyDrive/phishing_detection_colab/datasets/padded_sequences.npz')\n",
        "padded_sequences= loaded_data['my_array']"
      ],
      "metadata": {
        "id": "bpN9kfQItecT"
      },
      "execution_count": 5,
      "outputs": []
    },
    {
      "cell_type": "code",
      "source": [
        "padded_sequences"
      ],
      "metadata": {
        "colab": {
          "base_uri": "https://localhost:8080/",
          "height": 0
        },
        "id": "I_2QdKuYv60Q",
        "outputId": "e54ca717-eee7-4901-c6f0-1f3a90a2ff4e"
      },
      "execution_count": 17,
      "outputs": [
        {
          "output_type": "execute_result",
          "data": {
            "text/plain": [
              "array([[  111,  1851,     1, ..., 72584, 72584, 72584],\n",
              "       [  169,  9578,   249, ..., 72584, 72584, 72584],\n",
              "       [  169,  9578,   249, ..., 72584, 72584, 72584],\n",
              "       ...,\n",
              "       [ 3920,   321,  8045, ..., 72584, 72584, 72584],\n",
              "       [ 2581,  2793,     5, ..., 72584, 72584, 72584],\n",
              "       [  414,   128,   220, ..., 72584, 72584, 72584]], dtype=int32)"
            ]
          },
          "metadata": {},
          "execution_count": 17
        }
      ]
    },
    {
      "cell_type": "code",
      "source": [
        "padded_sequences.size"
      ],
      "metadata": {
        "colab": {
          "base_uri": "https://localhost:8080/",
          "height": 0
        },
        "id": "GzRlwyNIvgI_",
        "outputId": "b3ab1df4-3e2e-4a32-a44c-52a0314fc334"
      },
      "execution_count": 16,
      "outputs": [
        {
          "output_type": "execute_result",
          "data": {
            "text/plain": [
              "5934184333"
            ]
          },
          "metadata": {},
          "execution_count": 16
        }
      ]
    },
    {
      "cell_type": "markdown",
      "source": [
        "# 4. Creating Bi-LSTM neural network."
      ],
      "metadata": {
        "id": "0ecKTO37jjXi"
      }
    },
    {
      "cell_type": "markdown",
      "source": [
        "Initialize embedding matrix and embedding layer."
      ],
      "metadata": {
        "id": "6A4UG3U8s5fj"
      }
    },
    {
      "cell_type": "code",
      "source": [
        "import numpy as np\n",
        "\n",
        "embedding_dim = word2vec_model.vector_size\n",
        "embedding_matrix = np.zeros((vocab_len, embedding_dim))\n",
        "\n",
        "for word, idx in word2vec_model.wv.key_to_index.items():\n",
        "  embedding_matrix[idx] = word2vec_model.wv[word]"
      ],
      "metadata": {
        "id": "w-HB9B2fs7TD"
      },
      "execution_count": 8,
      "outputs": []
    },
    {
      "cell_type": "code",
      "source": [
        "embedding_dim"
      ],
      "metadata": {
        "colab": {
          "base_uri": "https://localhost:8080/",
          "height": 0
        },
        "id": "XkU85Fg36Sul",
        "outputId": "969dc90e-6f99-44db-ea19-f8356637e737"
      },
      "execution_count": 20,
      "outputs": [
        {
          "output_type": "execute_result",
          "data": {
            "text/plain": [
              "200"
            ]
          },
          "metadata": {},
          "execution_count": 20
        }
      ]
    },
    {
      "cell_type": "code",
      "source": [
        "np.savez_compressed('/content/drive/MyDrive/phishing_detection_colab/datasets/embedding_matrix.npz', my_array=embedding_matrix)"
      ],
      "metadata": {
        "id": "zQL8gxy36aW1"
      },
      "execution_count": 21,
      "outputs": []
    },
    {
      "cell_type": "markdown",
      "source": [
        "Split dataset into train and test, about 46 GB of RAM used."
      ],
      "metadata": {
        "id": "8cQyPW9CryrM"
      }
    },
    {
      "cell_type": "code",
      "source": [
        "random_seed = 1337\n",
        "from sklearn.model_selection import train_test_split\n",
        "\n",
        "X = padded_sequences\n",
        "y = df_whole_dataset_drop['is_phishing'].values\n",
        "\n",
        "X_train, X_test, y_train, y_test = train_test_split(X, y, test_size=0.2, random_state=random_seed)"
      ],
      "metadata": {
        "id": "R7Q15ARdr0mj"
      },
      "execution_count": 6,
      "outputs": []
    },
    {
      "cell_type": "markdown",
      "source": [
        "Delete variables from memory to free up RAM memory and save train and test data."
      ],
      "metadata": {
        "id": "451pNlq-37zu"
      }
    },
    {
      "cell_type": "code",
      "source": [
        "import gc\n",
        "del X\n",
        "del y\n",
        "del padded_sequences\n",
        "del loaded_data\n",
        "del df_whole_dataset_drop\n",
        "del word2vec_model\n",
        "gc.collect()"
      ],
      "metadata": {
        "colab": {
          "base_uri": "https://localhost:8080/",
          "height": 0
        },
        "id": "L1P48r0l4OZm",
        "outputId": "2b1b71f7-4cb7-4109-c464-41028fdf19c8"
      },
      "execution_count": 7,
      "outputs": [
        {
          "output_type": "execute_result",
          "data": {
            "text/plain": [
              "0"
            ]
          },
          "metadata": {},
          "execution_count": 7
        }
      ]
    },
    {
      "cell_type": "markdown",
      "source": [
        "Above operations clear up about 20 GB of RAM memory."
      ],
      "metadata": {
        "id": "M-42Jpo14s9A"
      }
    },
    {
      "cell_type": "code",
      "source": [
        "import tensorflow as tf\n",
        "train_data = tf.data.Dataset.from_tensor_slices((X_train, y_train))"
      ],
      "metadata": {
        "id": "7pyRXOJdr1_z"
      },
      "execution_count": 8,
      "outputs": []
    },
    {
      "cell_type": "markdown",
      "source": [
        "Perform freeing memory as well, after below operations, about 26.9 GB of RAM is used."
      ],
      "metadata": {
        "id": "ZXlowzY940ZG"
      }
    },
    {
      "cell_type": "code",
      "source": [
        "del X_train\n",
        "del y_train\n",
        "gc.collect()"
      ],
      "metadata": {
        "colab": {
          "base_uri": "https://localhost:8080/",
          "height": 0
        },
        "id": "Jud089ko44u4",
        "outputId": "a4bfffa3-61c7-44f7-d4da-ae48c8664ccb"
      },
      "execution_count": 9,
      "outputs": [
        {
          "output_type": "execute_result",
          "data": {
            "text/plain": [
              "41"
            ]
          },
          "metadata": {},
          "execution_count": 9
        }
      ]
    },
    {
      "cell_type": "code",
      "source": [
        "batch_size = 32\n",
        "buffer_size = 10000\n",
        "train_data = train_data.shuffle(buffer_size).batch(batch_size).prefetch(buffer_size)"
      ],
      "metadata": {
        "id": "2b4HCjQu2kU3"
      },
      "execution_count": 10,
      "outputs": []
    },
    {
      "cell_type": "markdown",
      "source": [
        "With using the deleting variable and running garbage collection technique, train data is saved succesfully (takes about 40 GB of RAM)"
      ],
      "metadata": {
        "id": "RR0N4b-b1wd_"
      }
    },
    {
      "cell_type": "code",
      "source": [
        "train_data.save('/content/drive/MyDrive/phishing_detection_colab/datasets/train_data_not_corrupted')"
      ],
      "metadata": {
        "id": "42ccPAj_1yjH"
      },
      "execution_count": 11,
      "outputs": []
    },
    {
      "cell_type": "markdown",
      "source": [
        "Now delete the train_data and perform same operations on test_data."
      ],
      "metadata": {
        "id": "o-g5xLgf5sqG"
      }
    },
    {
      "cell_type": "code",
      "source": [
        "del train_data\n",
        "gc.collect()"
      ],
      "metadata": {
        "colab": {
          "base_uri": "https://localhost:8080/",
          "height": 0
        },
        "id": "RSRB1kBt5v1d",
        "outputId": "f713af86-5388-4c56-d1f0-773dea1c5ab3"
      },
      "execution_count": 12,
      "outputs": [
        {
          "output_type": "execute_result",
          "data": {
            "text/plain": [
              "0"
            ]
          },
          "metadata": {},
          "execution_count": 12
        }
      ]
    },
    {
      "cell_type": "code",
      "source": [
        "test_data = tf.data.Dataset.from_tensor_slices((X_test, y_test))"
      ],
      "metadata": {
        "id": "mxa1cwiz2h2c"
      },
      "execution_count": 13,
      "outputs": []
    },
    {
      "cell_type": "code",
      "source": [
        "del X_test\n",
        "del y_test\n",
        "gc.collect()"
      ],
      "metadata": {
        "colab": {
          "base_uri": "https://localhost:8080/",
          "height": 0
        },
        "id": "eBwU80Xk518t",
        "outputId": "e0fe23aa-cdb2-4b11-a454-e54d5209202e"
      },
      "execution_count": 14,
      "outputs": [
        {
          "output_type": "execute_result",
          "data": {
            "text/plain": [
              "0"
            ]
          },
          "metadata": {},
          "execution_count": 14
        }
      ]
    },
    {
      "cell_type": "code",
      "source": [
        "test_data = test_data.batch(batch_size).prefetch(buffer_size)"
      ],
      "metadata": {
        "id": "cZnbU7Eh2mze"
      },
      "execution_count": 15,
      "outputs": []
    },
    {
      "cell_type": "code",
      "source": [
        "test_data.save('/content/drive/MyDrive/phishing_detection_colab/datasets/test_data_not_corrupted')"
      ],
      "metadata": {
        "id": "FssfJiww5909"
      },
      "execution_count": 16,
      "outputs": []
    },
    {
      "cell_type": "markdown",
      "source": [
        "## Loading all inputs to neural network and performing training."
      ],
      "metadata": {
        "id": "YnXd_x_vj1ai"
      }
    },
    {
      "cell_type": "markdown",
      "source": [
        "Now load the train_data and test_data only as long with other variables used in embedding layer.\n",
        "\n",
        "Finally we have a dataset of 107443 rows (each row is one e-mail) and 55231 columns (each column represent word used as embedding)\n",
        "\n",
        "Initalize models.\n"
      ],
      "metadata": {
        "id": "_tCl6AdM6Jv2"
      }
    },
    {
      "cell_type": "code",
      "source": [
        "import numpy as np\n",
        "vocab_len=72584 # word2vec vocabulary size\n",
        "embedding_dim=200 # dimensionality of word vector\n",
        "max_tokens_len=55231 # maximum number of tokens \n",
        "embedding_matrix_load=np.load('/content/drive/MyDrive/phishing_detection_colab/datasets/embedding_matrix.npz') \n",
        "embedding_matrix = embedding_matrix_load['my_array'] # embedding matrix"
      ],
      "metadata": {
        "id": "jfTQFKw86xIe"
      },
      "execution_count": 6,
      "outputs": []
    },
    {
      "cell_type": "markdown",
      "source": [
        "Below, train_data and test_data takes about 1 GB of RAM."
      ],
      "metadata": {
        "id": "aJu9jxZXBOWr"
      }
    },
    {
      "cell_type": "code",
      "source": [
        "import tensorflow as tf\n",
        "train_data=tf.data.Dataset.load('/content/drive/MyDrive/phishing_detection_colab/datasets/train_data_not_corrupted')"
      ],
      "metadata": {
        "id": "y-hyqWCS9mKd"
      },
      "execution_count": 3,
      "outputs": []
    },
    {
      "cell_type": "code",
      "source": [
        "test_data=tf.data.Dataset.load('/content/drive/MyDrive/phishing_detection_colab/datasets/test_data_not_corrupted')"
      ],
      "metadata": {
        "id": "z9pjy-yQ9nOV"
      },
      "execution_count": 18,
      "outputs": []
    },
    {
      "cell_type": "code",
      "source": [
        "train_data"
      ],
      "metadata": {
        "colab": {
          "base_uri": "https://localhost:8080/",
          "height": 0
        },
        "id": "vFS3JQuVRt2K",
        "outputId": "f1ea0c72-e5ef-4c9f-d566-71f4297de48f"
      },
      "execution_count": 12,
      "outputs": [
        {
          "output_type": "execute_result",
          "data": {
            "text/plain": [
              "<_LoadDataset element_spec=(TensorSpec(shape=(None, 55231), dtype=tf.int32, name=None), TensorSpec(shape=(None,), dtype=tf.bool, name=None))>"
            ]
          },
          "metadata": {},
          "execution_count": 12
        }
      ]
    },
    {
      "cell_type": "code",
      "source": [
        "test_data"
      ],
      "metadata": {
        "colab": {
          "base_uri": "https://localhost:8080/",
          "height": 0
        },
        "id": "P4Lphp9DSN5R",
        "outputId": "d8237ffc-dff4-4d9f-9def-6949c0e95147"
      },
      "execution_count": 13,
      "outputs": [
        {
          "output_type": "execute_result",
          "data": {
            "text/plain": [
              "<_LoadDataset element_spec=(TensorSpec(shape=(None, 55231), dtype=tf.int32, name=None), TensorSpec(shape=(None,), dtype=tf.bool, name=None))>"
            ]
          },
          "metadata": {},
          "execution_count": 13
        }
      ]
    },
    {
      "cell_type": "code",
      "source": [
        "from tensorflow.keras.models import Sequential\n",
        "from tensorflow.keras.layers import Embedding, Bidirectional, LSTM, Dense, Dropout\n",
        "\n",
        "model = Sequential([\n",
        "    Embedding(input_dim=vocab_len, output_dim=embedding_dim, input_length=max_tokens_len, weights=[embedding_matrix], trainable=False),\n",
        "    Bidirectional(LSTM(units=128)),\n",
        "    Dropout(0.2),\n",
        "    Dense(1, activation='sigmoid')\n",
        "])\n"
      ],
      "metadata": {
        "id": "Q-uR_uqasiVQ"
      },
      "execution_count": 7,
      "outputs": []
    },
    {
      "cell_type": "code",
      "source": [
        "!pip install tf-nightly"
      ],
      "metadata": {
        "id": "lpOa4IpSQNkb"
      },
      "execution_count": null,
      "outputs": []
    },
    {
      "cell_type": "code",
      "source": [
        "import tensorflow as tf\n",
        "precision_metric = tf.keras.metrics.Precision(name='precision')\n",
        "recall_metric = tf.keras.metrics.Recall(name='recall')\n",
        "f1_metric = tf.keras.metrics.F1Score(threshold=0.5)"
      ],
      "metadata": {
        "id": "7LKOMP7YPf1j"
      },
      "execution_count": 1,
      "outputs": []
    },
    {
      "cell_type": "code",
      "source": [
        "model.compile(optimizer='adam', loss='binary_crossentropy', metrics=[precision_metric, recall_metric])"
      ],
      "metadata": {
        "id": "G4vSqpixAt4t"
      },
      "execution_count": 14,
      "outputs": []
    },
    {
      "cell_type": "markdown",
      "source": [
        "10 gb of ram,\n",
        "33.5 gb of gpu\n",
        "is used"
      ],
      "metadata": {
        "id": "kMhBR9fqQqlB"
      }
    },
    {
      "cell_type": "code",
      "source": [
        "%%time\n",
        "model.fit(train_data, epochs=10, validation_data=test_data)"
      ],
      "metadata": {
        "id": "CaLpzxIztFjB",
        "colab": {
          "base_uri": "https://localhost:8080/",
          "height": 0
        },
        "outputId": "eab07980-94d4-4a6f-ffb8-39314ec0a528"
      },
      "execution_count": null,
      "outputs": [
        {
          "output_type": "stream",
          "name": "stdout",
          "text": [
            "Epoch 1/10\n",
            "2687/2687 [==============================] - 7995s 3s/step - loss: 0.0342 - precision: 0.9628 - recall: 0.9164 - val_loss: 0.0142 - val_precision: 0.9921 - val_recall: 0.9594\n",
            "Epoch 2/10\n",
            "2687/2687 [==============================] - 8008s 3s/step - loss: 0.0236 - precision: 0.9811 - recall: 0.9462 - val_loss: 0.0206 - val_precision: 0.9971 - val_recall: 0.9374\n",
            "Epoch 3/10\n",
            "2395/2687 [=========================>....] - ETA: 13:09 - loss: 0.0166 - precision: 0.9867 - recall: 0.9573"
          ]
        }
      ]
    },
    {
      "cell_type": "code",
      "source": [
        "test_loss, test_precision, test_recall = model.evaluate(test_data)\n",
        "print(\"Test loss:\", test_loss)\n",
        "print(\"Test precision:\", test_precision)\n",
        "print(\"Test recall:\", test_recall)\n"
      ],
      "metadata": {
        "id": "FXz_qj6_tThM"
      },
      "execution_count": null,
      "outputs": []
    },
    {
      "cell_type": "code",
      "source": [
        "!apt-get install texlive texlive-xetex texlive-latex-extra pandoc\n",
        "!pip install pypandoc"
      ],
      "metadata": {
        "id": "l1faeeuzpaFM"
      },
      "execution_count": null,
      "outputs": []
    },
    {
      "cell_type": "code",
      "source": [
        "!cp drive/MyDrive/ColabNotebooks/Kopianotatnikamodel.ipynb ./"
      ],
      "metadata": {
        "id": "8lfSSCkwoxYR"
      },
      "execution_count": 15,
      "outputs": []
    },
    {
      "cell_type": "code",
      "source": [
        "!jupyter nbconvert --to pdf \"Kopianotatnikamodel.ipynb\"\n"
      ],
      "metadata": {
        "colab": {
          "base_uri": "https://localhost:8080/"
        },
        "id": "BhStKxaHoR2R",
        "outputId": "35480c18-51cb-4127-ce19-db88f7f295c6"
      },
      "execution_count": 17,
      "outputs": [
        {
          "output_type": "stream",
          "name": "stdout",
          "text": [
            "[NbConvertApp] Converting notebook Kopianotatnikamodel.ipynb to pdf\n",
            "[NbConvertApp] Writing 89173 bytes to notebook.tex\n",
            "[NbConvertApp] Building PDF\n",
            "[NbConvertApp] Running xelatex 3 times: ['xelatex', 'notebook.tex', '-quiet']\n",
            "[NbConvertApp] Running bibtex 1 time: ['bibtex', 'notebook']\n",
            "[NbConvertApp] WARNING | bibtex had problems, most likely because there were no citations\n",
            "[NbConvertApp] PDF successfully created\n",
            "[NbConvertApp] Writing 85562 bytes to Kopianotatnikamodel.pdf\n"
          ]
        }
      ]
    },
    {
      "cell_type": "code",
      "source": [],
      "metadata": {
        "id": "dy0h998WobCV"
      },
      "execution_count": null,
      "outputs": []
    }
  ],
  "metadata": {
    "kernelspec": {
      "display_name": "Python 3",
      "language": "python",
      "name": "python3"
    },
    "language_info": {
      "codemirror_mode": {
        "name": "ipython",
        "version": 3
      },
      "file_extension": ".py",
      "mimetype": "text/x-python",
      "name": "python",
      "nbconvert_exporter": "python",
      "pygments_lexer": "ipython3",
      "version": "3.10.5"
    },
    "orig_nbformat": 4,
    "vscode": {
      "interpreter": {
        "hash": "4c1bce8e414f9bc48912dcc4416cdb1ae524d0fbd3b04a7c9d6465f890f9d9c6"
      }
    },
    "colab": {
      "provenance": [],
      "machine_shape": "hm"
    },
    "accelerator": "TPU",
    "gpuClass": "premium"
  },
  "nbformat": 4,
  "nbformat_minor": 0
}