{
  "cells": [
    {
      "cell_type": "markdown",
      "metadata": {
        "id": "F8trdWcqGrFJ"
      },
      "source": [
        "# 1. Creating dataset with ham and phishing samples"
      ]
    },
    {
      "cell_type": "code",
      "execution_count": 2,
      "metadata": {},
      "outputs": [],
      "source": [
        "random_seed = 1337\n",
        "import pandas as pd\n",
        "from joblib import load, dump"
      ]
    },
    {
      "cell_type": "code",
      "execution_count": null,
      "metadata": {
        "colab": {
          "base_uri": "https://localhost:8080/"
        },
        "id": "u3cIECNRonS6",
        "outputId": "df54f271-9ce9-4c6f-81da-a80e53507d2c"
      },
      "outputs": [
        {
          "name": "stdout",
          "output_type": "stream",
          "text": [
            "Mounted at /content/drive\n"
          ]
        }
      ],
      "source": [
        "from google.colab import drive\n",
        "drive.mount('/content/drive')"
      ]
    },
    {
      "cell_type": "markdown",
      "metadata": {
        "id": "Zhyabw2SG7to"
      },
      "source": [
        "Loading ham samples and creating one dataset from them."
      ]
    },
    {
      "cell_type": "code",
      "execution_count": null,
      "metadata": {
        "id": "lzo_M2AboWIC"
      },
      "outputs": [],
      "source": [
        "df_1 = load('backup_dumps/df_ham_sample_first_10k')\n",
        "df_2 = load('backup_dumps/df_ham_sample_second_10k')\n",
        "df_3 = load('backup_dumps/df_ham_sample_third_10k')\n",
        "df_4_1 = load('backup_dumps/df_ham_sample_fourth_5k_1')\n",
        "df_4_2 = load('backup_dumps/df_ham_sample_fourth_1k_2')\n",
        "df_5 = load('backup_dumps/df_ham_sample_fourth_1k_3')\n",
        "df_6 = load('backup_dumps/df_ham_sample_fifth_20k')\n",
        "df_7 = load('backup_dumps/df_ham_sample_sixth_20k')\n",
        "df_8 = load('backup_dumps/df_ham_sample_last')\n"
      ]
    },
    {
      "cell_type": "code",
      "execution_count": 3,
      "metadata": {},
      "outputs": [],
      "source": [
        "df_9 = load('backup_dumps/df_ham_sample_2k_new')\n",
        "df_10 = load('backup_dumps/df_ham_sample_2k_2_new')\n",
        "df_11 = load('backup_dumps/df_ham_sample_2k_3_new')\n",
        "df_12 = load('backup_dumps/df_ham_sample_2k_4_new')\n",
        "df_13 = load('backup_dumps/df_ham_sample_2k_5_new')\n",
        "df_14 = load('backup_dumps/df_ham_sample_2k_6_new')\n",
        "df_15 = load('backup_dumps/df_ham_sample_2k_7_new')"
      ]
    },
    {
      "cell_type": "code",
      "execution_count": 4,
      "metadata": {},
      "outputs": [],
      "source": [
        "df_ham = pd.concat([df_9, df_10, df_11, df_12, df_13, df_14, df_15])"
      ]
    },
    {
      "cell_type": "code",
      "execution_count": null,
      "metadata": {
        "id": "lK6p8AwzoWID"
      },
      "outputs": [],
      "source": [
        "df_ham = pd.concat([df_1, df_2, df_3, df_4_1, df_4_2, df_5, df_6, df_7, df_8], ignore_index=True)"
      ]
    },
    {
      "cell_type": "code",
      "execution_count": 5,
      "metadata": {
        "id": "qiQzTdmgoWIE",
        "outputId": "6641a948-d5b9-4cdc-9682-9c45254ee4c8"
      },
      "outputs": [
        {
          "data": {
            "text/html": [
              "<div>\n",
              "<style scoped>\n",
              "    .dataframe tbody tr th:only-of-type {\n",
              "        vertical-align: middle;\n",
              "    }\n",
              "\n",
              "    .dataframe tbody tr th {\n",
              "        vertical-align: top;\n",
              "    }\n",
              "\n",
              "    .dataframe thead th {\n",
              "        text-align: right;\n",
              "    }\n",
              "</style>\n",
              "<table border=\"1\" class=\"dataframe\">\n",
              "  <thead>\n",
              "    <tr style=\"text-align: right;\">\n",
              "      <th></th>\n",
              "      <th>filename</th>\n",
              "      <th>email_body</th>\n",
              "      <th>file_key</th>\n",
              "      <th>preprocessed_body</th>\n",
              "      <th>tokenized_body</th>\n",
              "    </tr>\n",
              "  </thead>\n",
              "  <tbody>\n",
              "    <tr>\n",
              "      <th>0</th>\n",
              "      <td>enron_extracted.mbox</td>\n",
              "      <td>The Regulatory Affairs Committee will be holdi...</td>\n",
              "      <td>214082</td>\n",
              "      <td>the regulatory affairs committee will be holdi...</td>\n",
              "      <td>[regulatory, affairs, committee, holding, conf...</td>\n",
              "    </tr>\n",
              "    <tr>\n",
              "      <th>1</th>\n",
              "      <td>enron_extracted.mbox</td>\n",
              "      <td>By the way, the dinner we're sponsoring is Wed...</td>\n",
              "      <td>224502</td>\n",
              "      <td>by the way the dinner were sponsoring is wed n...</td>\n",
              "      <td>[way, dinner, sponsoring, d, tuesday, nt, thin...</td>\n",
              "    </tr>\n",
              "    <tr>\n",
              "      <th>2</th>\n",
              "      <td>enron_extracted.mbox</td>\n",
              "      <td>WELCOME BACK\\n----- Forwarded by Elizabeth Sag...</td>\n",
              "      <td>188546</td>\n",
              "      <td>welcome back forwarded by elizabeth sagerhouec...</td>\n",
              "      <td>[welcome, forwarded, elizabeth, sagerhouect, 0...</td>\n",
              "    </tr>\n",
              "    <tr>\n",
              "      <th>3</th>\n",
              "      <td>enron_extracted.mbox</td>\n",
              "      <td>Patrice,\\n\\nLisa Kinsey mentioned you may have...</td>\n",
              "      <td>161749</td>\n",
              "      <td>patrice lisa kinsey mentioned you may have inf...</td>\n",
              "      <td>[patrice, lisa, kinsey, mentioned, information...</td>\n",
              "    </tr>\n",
              "    <tr>\n",
              "      <th>4</th>\n",
              "      <td>enron_extracted.mbox</td>\n",
              "      <td>Please be advised that we are in receipt of a ...</td>\n",
              "      <td>27457</td>\n",
              "      <td>please be advised that we are in receipt of a ...</td>\n",
              "      <td>[advised, receipt, distribution, escrow, agent...</td>\n",
              "    </tr>\n",
              "    <tr>\n",
              "      <th>5</th>\n",
              "      <td>enron_extracted.mbox</td>\n",
              "      <td>Good morning, Susan.  It's too late for the vo...</td>\n",
              "      <td>200388</td>\n",
              "      <td>good morning susan its too late for the vouche...</td>\n",
              "      <td>[good, morning, susan, late, vouchers, thinkin...</td>\n",
              "    </tr>\n",
              "    <tr>\n",
              "      <th>6</th>\n",
              "      <td>enron_extracted.mbox</td>\n",
              "      <td>---------------------- Forwarded by Larry F Ca...</td>\n",
              "      <td>8604</td>\n",
              "      <td>forwarded by larry f campbellnaenron on 022820...</td>\n",
              "      <td>[forwarded, larry, f, campbellnaenron, 0228200...</td>\n",
              "    </tr>\n",
              "    <tr>\n",
              "      <th>7</th>\n",
              "      <td>enron_extracted.mbox</td>\n",
              "      <td>It depends on what time I get the signatures. ...</td>\n",
              "      <td>150049</td>\n",
              "      <td>it depends on what time i get the signatures i...</td>\n",
              "      <td>[depends, time, signatures, things, signed, qu...</td>\n",
              "    </tr>\n",
              "    <tr>\n",
              "      <th>8</th>\n",
              "      <td>enron_extracted.mbox</td>\n",
              "      <td>No thank you.\\n\\ntom\\n\\n -----Original Message...</td>\n",
              "      <td>152625</td>\n",
              "      <td>no thank you tom original message from lyne ma...</td>\n",
              "      <td>[thank, tom, original, message, lyne, martin, ...</td>\n",
              "    </tr>\n",
              "    <tr>\n",
              "      <th>9</th>\n",
              "      <td>enron_extracted.mbox</td>\n",
              "      <td>I talked to Keith Holst who went through this ...</td>\n",
              "      <td>46611</td>\n",
              "      <td>i talked to keith holst who went through this ...</td>\n",
              "      <td>[talked, keith, holst, went, process, couple, ...</td>\n",
              "    </tr>\n",
              "  </tbody>\n",
              "</table>\n",
              "</div>"
            ],
            "text/plain": [
              "               filename                                         email_body  \\\n",
              "0  enron_extracted.mbox  The Regulatory Affairs Committee will be holdi...   \n",
              "1  enron_extracted.mbox  By the way, the dinner we're sponsoring is Wed...   \n",
              "2  enron_extracted.mbox  WELCOME BACK\\n----- Forwarded by Elizabeth Sag...   \n",
              "3  enron_extracted.mbox  Patrice,\\n\\nLisa Kinsey mentioned you may have...   \n",
              "4  enron_extracted.mbox  Please be advised that we are in receipt of a ...   \n",
              "5  enron_extracted.mbox  Good morning, Susan.  It's too late for the vo...   \n",
              "6  enron_extracted.mbox  ---------------------- Forwarded by Larry F Ca...   \n",
              "7  enron_extracted.mbox  It depends on what time I get the signatures. ...   \n",
              "8  enron_extracted.mbox  No thank you.\\n\\ntom\\n\\n -----Original Message...   \n",
              "9  enron_extracted.mbox  I talked to Keith Holst who went through this ...   \n",
              "\n",
              "   file_key                                  preprocessed_body  \\\n",
              "0    214082  the regulatory affairs committee will be holdi...   \n",
              "1    224502  by the way the dinner were sponsoring is wed n...   \n",
              "2    188546  welcome back forwarded by elizabeth sagerhouec...   \n",
              "3    161749  patrice lisa kinsey mentioned you may have inf...   \n",
              "4     27457  please be advised that we are in receipt of a ...   \n",
              "5    200388  good morning susan its too late for the vouche...   \n",
              "6      8604  forwarded by larry f campbellnaenron on 022820...   \n",
              "7    150049  it depends on what time i get the signatures i...   \n",
              "8    152625  no thank you tom original message from lyne ma...   \n",
              "9     46611  i talked to keith holst who went through this ...   \n",
              "\n",
              "                                      tokenized_body  \n",
              "0  [regulatory, affairs, committee, holding, conf...  \n",
              "1  [way, dinner, sponsoring, d, tuesday, nt, thin...  \n",
              "2  [welcome, forwarded, elizabeth, sagerhouect, 0...  \n",
              "3  [patrice, lisa, kinsey, mentioned, information...  \n",
              "4  [advised, receipt, distribution, escrow, agent...  \n",
              "5  [good, morning, susan, late, vouchers, thinkin...  \n",
              "6  [forwarded, larry, f, campbellnaenron, 0228200...  \n",
              "7  [depends, time, signatures, things, signed, qu...  \n",
              "8  [thank, tom, original, message, lyne, martin, ...  \n",
              "9  [talked, keith, holst, went, process, couple, ...  "
            ]
          },
          "execution_count": 5,
          "metadata": {},
          "output_type": "execute_result"
        }
      ],
      "source": [
        "df_ham.head(10)"
      ]
    },
    {
      "cell_type": "code",
      "execution_count": 7,
      "metadata": {},
      "outputs": [],
      "source": [
        "df_ham.reset_index(inplace=True, drop=True)"
      ]
    },
    {
      "cell_type": "code",
      "execution_count": 8,
      "metadata": {},
      "outputs": [
        {
          "name": "stdout",
          "output_type": "stream",
          "text": [
            "<class 'pandas.core.frame.DataFrame'>\n",
            "RangeIndex: 14985 entries, 0 to 14984\n",
            "Data columns (total 5 columns):\n",
            " #   Column             Non-Null Count  Dtype \n",
            "---  ------             --------------  ----- \n",
            " 0   filename           14985 non-null  object\n",
            " 1   email_body         14985 non-null  object\n",
            " 2   file_key           14985 non-null  int64 \n",
            " 3   preprocessed_body  14985 non-null  object\n",
            " 4   tokenized_body     14985 non-null  object\n",
            "dtypes: int64(1), object(4)\n",
            "memory usage: 585.5+ KB\n"
          ]
        }
      ],
      "source": [
        "df_ham.info()"
      ]
    },
    {
      "cell_type": "code",
      "execution_count": 9,
      "metadata": {
        "id": "EW_NE2SuoWIF"
      },
      "outputs": [],
      "source": [
        "df_ham['is_phishing'] = False"
      ]
    },
    {
      "cell_type": "code",
      "execution_count": 10,
      "metadata": {
        "id": "qDT2Xm-qoWIG"
      },
      "outputs": [],
      "source": [
        "df_phishing = load('backup_dumps/df_phishing_tokenized')"
      ]
    },
    {
      "cell_type": "code",
      "execution_count": 11,
      "metadata": {
        "id": "bSGPGkkLoWIG"
      },
      "outputs": [],
      "source": [
        "df_phishing['is_phishing'] = True"
      ]
    },
    {
      "cell_type": "code",
      "execution_count": 12,
      "metadata": {
        "id": "EUyggHRhoWIH",
        "outputId": "af5d9f93-9a3a-43f7-97f8-2abd17eb034f"
      },
      "outputs": [
        {
          "data": {
            "text/html": [
              "<div>\n",
              "<style scoped>\n",
              "    .dataframe tbody tr th:only-of-type {\n",
              "        vertical-align: middle;\n",
              "    }\n",
              "\n",
              "    .dataframe tbody tr th {\n",
              "        vertical-align: top;\n",
              "    }\n",
              "\n",
              "    .dataframe thead th {\n",
              "        text-align: right;\n",
              "    }\n",
              "</style>\n",
              "<table border=\"1\" class=\"dataframe\">\n",
              "  <thead>\n",
              "    <tr style=\"text-align: right;\">\n",
              "      <th></th>\n",
              "      <th>filename</th>\n",
              "      <th>email_body</th>\n",
              "      <th>file_key</th>\n",
              "      <th>preprocessed_body</th>\n",
              "      <th>tokenized_body</th>\n",
              "      <th>is_phishing</th>\n",
              "    </tr>\n",
              "  </thead>\n",
              "  <tbody>\n",
              "    <tr>\n",
              "      <th>0</th>\n",
              "      <td>20051114.mbox</td>\n",
              "      <td>&lt;html&gt;\\n&lt;head&gt;\\n&lt;!--   extraneous meta tag rem...</td>\n",
              "      <td>0</td>\n",
              "      <td>ebay suspension fixedstringurl fixedstringurl ...</td>\n",
              "      <td>[ebay, suspension, fixedstringurl, fixedstring...</td>\n",
              "      <td>True</td>\n",
              "    </tr>\n",
              "    <tr>\n",
              "      <th>1</th>\n",
              "      <td>20051114.mbox</td>\n",
              "      <td>&amp;nbsp;&lt;body bgcolor=#ffffff&gt;&lt;div align=\"left\"&gt;...</td>\n",
              "      <td>1</td>\n",
              "      <td>dear lasalle member as part of our continuing ...</td>\n",
              "      <td>[dear, lasalle, member, part, continuing, comm...</td>\n",
              "      <td>True</td>\n",
              "    </tr>\n",
              "    <tr>\n",
              "      <th>2</th>\n",
              "      <td>20051114.mbox</td>\n",
              "      <td>&amp;nbsp;&lt;body bgcolor=#ffffff&gt;&lt;div align=\"left\"&gt;...</td>\n",
              "      <td>2</td>\n",
              "      <td>dear lasalle member as part of our continuing ...</td>\n",
              "      <td>[dear, lasalle, member, part, continuing, comm...</td>\n",
              "      <td>True</td>\n",
              "    </tr>\n",
              "    <tr>\n",
              "      <th>3</th>\n",
              "      <td>20051114.mbox</td>\n",
              "      <td>&lt;html&gt;&lt;p&gt;&lt;font face=\"Arial\"&gt;&lt;A HREF=\"https://w...</td>\n",
              "      <td>3</td>\n",
              "      <td>fixedstringurl i dont pokemon in 1878 in 1874 ...</td>\n",
              "      <td>[fixedstringurl, dont, pokemon, 1878, 1874, sh...</td>\n",
              "      <td>True</td>\n",
              "    </tr>\n",
              "    <tr>\n",
              "      <th>4</th>\n",
              "      <td>20051114.mbox</td>\n",
              "      <td>\\n\\n&lt;xbody bgcolor=\"#ffffff\"&gt;&lt;!--Header code s...</td>\n",
              "      <td>4</td>\n",
              "      <td>fixedstringurl fixedstringurl fixedstringurl f...</td>\n",
              "      <td>[fixedstringurl, fixedstringurl, fixedstringur...</td>\n",
              "      <td>True</td>\n",
              "    </tr>\n",
              "    <tr>\n",
              "      <th>5</th>\n",
              "      <td>20051114.mbox</td>\n",
              "      <td>&lt;DIV&gt;&lt;DIV&gt;&lt;DIV&gt;&lt;DIV&gt;&lt;DIV&gt;&lt;DIV&gt;&lt;DIV&gt;&lt;DIV&gt;&lt;DIV&gt;&lt;...</td>\n",
              "      <td>5</td>\n",
              "      <td>fixedstringurl fixedstringurl fixedstringurl f...</td>\n",
              "      <td>[fixedstringurl, fixedstringurl, fixedstringur...</td>\n",
              "      <td>True</td>\n",
              "    </tr>\n",
              "    <tr>\n",
              "      <th>6</th>\n",
              "      <td>20051114.mbox</td>\n",
              "      <td>&lt;DIV&gt;&lt;DIV&gt;&lt;DIV&gt;&lt;DIV&gt;&lt;DIV&gt;&lt;DIV&gt;&lt;DIV&gt;&lt;DIV&gt;&lt;DIV&gt;&lt;...</td>\n",
              "      <td>6</td>\n",
              "      <td>fixedstringurl fixedstringurl fixedstringurl f...</td>\n",
              "      <td>[fixedstringurl, fixedstringurl, fixedstringur...</td>\n",
              "      <td>True</td>\n",
              "    </tr>\n",
              "    <tr>\n",
              "      <th>7</th>\n",
              "      <td>20051114.mbox</td>\n",
              "      <td>&lt;DIV&gt;&lt;DIV&gt;&lt;DIV&gt;&lt;DIV&gt;&lt;DIV&gt;&lt;DIV&gt;&lt;DIV&gt;&lt;DIV&gt;&lt;DIV&gt;&lt;...</td>\n",
              "      <td>7</td>\n",
              "      <td>fixedstringurl fixedstringurl fixedstringurl f...</td>\n",
              "      <td>[fixedstringurl, fixedstringurl, fixedstringur...</td>\n",
              "      <td>True</td>\n",
              "    </tr>\n",
              "    <tr>\n",
              "      <th>8</th>\n",
              "      <td>20051114.mbox</td>\n",
              "      <td>&lt;!DOCTYPE HTML PUBLIC \"-//W3C//DTD HTML 4.01 T...</td>\n",
              "      <td>8</td>\n",
              "      <td>untitled document fixedstringurl urgent safeha...</td>\n",
              "      <td>[untitled, document, fixedstringurl, urgent, s...</td>\n",
              "      <td>True</td>\n",
              "    </tr>\n",
              "    <tr>\n",
              "      <th>9</th>\n",
              "      <td>20051114.mbox</td>\n",
              "      <td>To report spam please visit our site at\\nhttp:...</td>\n",
              "      <td>9</td>\n",
              "      <td>to report spam please visit our site at fixeds...</td>\n",
              "      <td>[report, spam, please, visit, site, fixedstrin...</td>\n",
              "      <td>True</td>\n",
              "    </tr>\n",
              "  </tbody>\n",
              "</table>\n",
              "</div>"
            ],
            "text/plain": [
              "        filename                                         email_body  file_key  \\\n",
              "0  20051114.mbox  <html>\\n<head>\\n<!--   extraneous meta tag rem...         0   \n",
              "1  20051114.mbox  &nbsp;<body bgcolor=#ffffff><div align=\"left\">...         1   \n",
              "2  20051114.mbox  &nbsp;<body bgcolor=#ffffff><div align=\"left\">...         2   \n",
              "3  20051114.mbox  <html><p><font face=\"Arial\"><A HREF=\"https://w...         3   \n",
              "4  20051114.mbox  \\n\\n<xbody bgcolor=\"#ffffff\"><!--Header code s...         4   \n",
              "5  20051114.mbox  <DIV><DIV><DIV><DIV><DIV><DIV><DIV><DIV><DIV><...         5   \n",
              "6  20051114.mbox  <DIV><DIV><DIV><DIV><DIV><DIV><DIV><DIV><DIV><...         6   \n",
              "7  20051114.mbox  <DIV><DIV><DIV><DIV><DIV><DIV><DIV><DIV><DIV><...         7   \n",
              "8  20051114.mbox  <!DOCTYPE HTML PUBLIC \"-//W3C//DTD HTML 4.01 T...         8   \n",
              "9  20051114.mbox  To report spam please visit our site at\\nhttp:...         9   \n",
              "\n",
              "                                   preprocessed_body  \\\n",
              "0  ebay suspension fixedstringurl fixedstringurl ...   \n",
              "1  dear lasalle member as part of our continuing ...   \n",
              "2  dear lasalle member as part of our continuing ...   \n",
              "3  fixedstringurl i dont pokemon in 1878 in 1874 ...   \n",
              "4  fixedstringurl fixedstringurl fixedstringurl f...   \n",
              "5  fixedstringurl fixedstringurl fixedstringurl f...   \n",
              "6  fixedstringurl fixedstringurl fixedstringurl f...   \n",
              "7  fixedstringurl fixedstringurl fixedstringurl f...   \n",
              "8  untitled document fixedstringurl urgent safeha...   \n",
              "9  to report spam please visit our site at fixeds...   \n",
              "\n",
              "                                      tokenized_body  is_phishing  \n",
              "0  [ebay, suspension, fixedstringurl, fixedstring...         True  \n",
              "1  [dear, lasalle, member, part, continuing, comm...         True  \n",
              "2  [dear, lasalle, member, part, continuing, comm...         True  \n",
              "3  [fixedstringurl, dont, pokemon, 1878, 1874, sh...         True  \n",
              "4  [fixedstringurl, fixedstringurl, fixedstringur...         True  \n",
              "5  [fixedstringurl, fixedstringurl, fixedstringur...         True  \n",
              "6  [fixedstringurl, fixedstringurl, fixedstringur...         True  \n",
              "7  [fixedstringurl, fixedstringurl, fixedstringur...         True  \n",
              "8  [untitled, document, fixedstringurl, urgent, s...         True  \n",
              "9  [report, spam, please, visit, site, fixedstrin...         True  "
            ]
          },
          "execution_count": 12,
          "metadata": {},
          "output_type": "execute_result"
        }
      ],
      "source": [
        "df_phishing.head(10)"
      ]
    },
    {
      "cell_type": "code",
      "execution_count": 13,
      "metadata": {
        "id": "O7hwd2ftoWIH",
        "outputId": "e1436810-3774-4270-984b-86d614e8539a"
      },
      "outputs": [
        {
          "name": "stdout",
          "output_type": "stream",
          "text": [
            "<class 'pandas.core.frame.DataFrame'>\n",
            "RangeIndex: 10569 entries, 0 to 10568\n",
            "Data columns (total 6 columns):\n",
            " #   Column             Non-Null Count  Dtype \n",
            "---  ------             --------------  ----- \n",
            " 0   filename           10569 non-null  object\n",
            " 1   email_body         10569 non-null  object\n",
            " 2   file_key           10569 non-null  int64 \n",
            " 3   preprocessed_body  10569 non-null  object\n",
            " 4   tokenized_body     10569 non-null  object\n",
            " 5   is_phishing        10569 non-null  bool  \n",
            "dtypes: bool(1), int64(1), object(4)\n",
            "memory usage: 423.3+ KB\n"
          ]
        }
      ],
      "source": [
        "df_phishing.info()"
      ]
    },
    {
      "cell_type": "code",
      "execution_count": 14,
      "metadata": {
        "id": "MY8WsIo9oWII",
        "outputId": "22874f2f-9023-4ddc-9fbd-a302602854a6"
      },
      "outputs": [
        {
          "name": "stdout",
          "output_type": "stream",
          "text": [
            "<class 'pandas.core.frame.DataFrame'>\n",
            "RangeIndex: 14985 entries, 0 to 14984\n",
            "Data columns (total 6 columns):\n",
            " #   Column             Non-Null Count  Dtype \n",
            "---  ------             --------------  ----- \n",
            " 0   filename           14985 non-null  object\n",
            " 1   email_body         14985 non-null  object\n",
            " 2   file_key           14985 non-null  int64 \n",
            " 3   preprocessed_body  14985 non-null  object\n",
            " 4   tokenized_body     14985 non-null  object\n",
            " 5   is_phishing        14985 non-null  bool  \n",
            "dtypes: bool(1), int64(1), object(4)\n",
            "memory usage: 600.1+ KB\n"
          ]
        }
      ],
      "source": [
        "df_ham.info()"
      ]
    },
    {
      "cell_type": "markdown",
      "metadata": {
        "id": "_bTDPJsSHGAv"
      },
      "source": [
        "Creating one dataset from df_ham and df_phishing."
      ]
    },
    {
      "cell_type": "code",
      "execution_count": 15,
      "metadata": {
        "id": "xRQ0tVn1oWII"
      },
      "outputs": [],
      "source": [
        "df_whole_dataset = pd.concat([df_phishing, df_ham], ignore_index=True)"
      ]
    },
    {
      "cell_type": "code",
      "execution_count": 19,
      "metadata": {
        "id": "EtKL8iuHoWII",
        "outputId": "e0560a58-4b52-45a5-f49a-0a773a3830c9"
      },
      "outputs": [
        {
          "data": {
            "text/plain": [
              "['backup_dumps\\\\df_whole_dataset_raw_25k']"
            ]
          },
          "execution_count": 19,
          "metadata": {},
          "output_type": "execute_result"
        }
      ],
      "source": [
        "dump(df_whole_dataset, 'backup_dumps\\df_whole_dataset_raw_25k')"
      ]
    },
    {
      "cell_type": "code",
      "execution_count": 20,
      "metadata": {
        "id": "DnTZ4svaoWIJ"
      },
      "outputs": [],
      "source": [
        "from joblib import load\n",
        "df_whole_dataset = load('backup_dumps\\df_whole_dataset_raw_25k')"
      ]
    },
    {
      "cell_type": "code",
      "execution_count": 21,
      "metadata": {
        "id": "v0zBM5C5oWIJ",
        "outputId": "373d459f-d2f3-46f3-d780-40c4f707001e"
      },
      "outputs": [
        {
          "name": "stdout",
          "output_type": "stream",
          "text": [
            "<class 'pandas.core.frame.DataFrame'>\n",
            "RangeIndex: 25554 entries, 0 to 25553\n",
            "Data columns (total 6 columns):\n",
            " #   Column             Non-Null Count  Dtype \n",
            "---  ------             --------------  ----- \n",
            " 0   filename           25554 non-null  object\n",
            " 1   email_body         25554 non-null  object\n",
            " 2   file_key           25554 non-null  int64 \n",
            " 3   preprocessed_body  25554 non-null  object\n",
            " 4   tokenized_body     25554 non-null  object\n",
            " 5   is_phishing        25554 non-null  bool  \n",
            "dtypes: bool(1), int64(1), object(4)\n",
            "memory usage: 1023.3+ KB\n"
          ]
        }
      ],
      "source": [
        "df_whole_dataset.info()"
      ]
    },
    {
      "cell_type": "markdown",
      "metadata": {
        "id": "AITgjSq9HLAf"
      },
      "source": [
        "Data cleanup, removing records that have no tokens in tokenized_body column."
      ]
    },
    {
      "cell_type": "code",
      "execution_count": 22,
      "metadata": {
        "id": "TYrCRHO1oWIK",
        "outputId": "903c68dd-7d59-4ce4-c186-8c0c1a17541d"
      },
      "outputs": [
        {
          "data": {
            "text/html": [
              "<div>\n",
              "<style scoped>\n",
              "    .dataframe tbody tr th:only-of-type {\n",
              "        vertical-align: middle;\n",
              "    }\n",
              "\n",
              "    .dataframe tbody tr th {\n",
              "        vertical-align: top;\n",
              "    }\n",
              "\n",
              "    .dataframe thead th {\n",
              "        text-align: right;\n",
              "    }\n",
              "</style>\n",
              "<table border=\"1\" class=\"dataframe\">\n",
              "  <thead>\n",
              "    <tr style=\"text-align: right;\">\n",
              "      <th></th>\n",
              "      <th>filename</th>\n",
              "      <th>email_body</th>\n",
              "      <th>file_key</th>\n",
              "      <th>preprocessed_body</th>\n",
              "      <th>tokenized_body</th>\n",
              "      <th>is_phishing</th>\n",
              "    </tr>\n",
              "  </thead>\n",
              "  <tbody>\n",
              "    <tr>\n",
              "      <th>10844</th>\n",
              "      <td>enron_extracted.mbox</td>\n",
              "      <td>How did it go?\\n</td>\n",
              "      <td>59614</td>\n",
              "      <td>how did it go</td>\n",
              "      <td>[]</td>\n",
              "      <td>False</td>\n",
              "    </tr>\n",
              "    <tr>\n",
              "      <th>11499</th>\n",
              "      <td>enron_extracted.mbox</td>\n",
              "      <td>Done\\n</td>\n",
              "      <td>22896</td>\n",
              "      <td>done</td>\n",
              "      <td>[]</td>\n",
              "      <td>False</td>\n",
              "    </tr>\n",
              "    <tr>\n",
              "      <th>11531</th>\n",
              "      <td>enron_extracted.mbox</td>\n",
              "      <td>All done?\\n</td>\n",
              "      <td>188151</td>\n",
              "      <td>all done</td>\n",
              "      <td>[]</td>\n",
              "      <td>False</td>\n",
              "    </tr>\n",
              "    <tr>\n",
              "      <th>12960</th>\n",
              "      <td>enron_extracted.mbox</td>\n",
              "      <td>see you then\\n</td>\n",
              "      <td>251137</td>\n",
              "      <td>see you then</td>\n",
              "      <td>[]</td>\n",
              "      <td>False</td>\n",
              "    </tr>\n",
              "    <tr>\n",
              "      <th>14635</th>\n",
              "      <td>enron_extracted.mbox</td>\n",
              "      <td>Here you go!\\n\\n</td>\n",
              "      <td>185257</td>\n",
              "      <td>here you go</td>\n",
              "      <td>[]</td>\n",
              "      <td>False</td>\n",
              "    </tr>\n",
              "    <tr>\n",
              "      <th>15031</th>\n",
              "      <td>enron_extracted.mbox</td>\n",
              "      <td>we can go now\\n</td>\n",
              "      <td>143510</td>\n",
              "      <td>we can go now</td>\n",
              "      <td>[]</td>\n",
              "      <td>False</td>\n",
              "    </tr>\n",
              "    <tr>\n",
              "      <th>17304</th>\n",
              "      <td>enron_extracted.mbox</td>\n",
              "      <td>Here it is!\\n</td>\n",
              "      <td>92317</td>\n",
              "      <td>here it is</td>\n",
              "      <td>[]</td>\n",
              "      <td>False</td>\n",
              "    </tr>\n",
              "    <tr>\n",
              "      <th>18009</th>\n",
              "      <td>enron_extracted.mbox</td>\n",
              "      <td>i will be there \\n</td>\n",
              "      <td>130891</td>\n",
              "      <td>i will be there</td>\n",
              "      <td>[]</td>\n",
              "      <td>False</td>\n",
              "    </tr>\n",
              "    <tr>\n",
              "      <th>18252</th>\n",
              "      <td>enron_extracted.mbox</td>\n",
              "      <td>Where?\\n</td>\n",
              "      <td>248187</td>\n",
              "      <td>where</td>\n",
              "      <td>[]</td>\n",
              "      <td>False</td>\n",
              "    </tr>\n",
              "    <tr>\n",
              "      <th>19554</th>\n",
              "      <td>enron_extracted.mbox</td>\n",
              "      <td>Here they are:\\n\\n \\n</td>\n",
              "      <td>32847</td>\n",
              "      <td>here they are</td>\n",
              "      <td>[]</td>\n",
              "      <td>False</td>\n",
              "    </tr>\n",
              "    <tr>\n",
              "      <th>21922</th>\n",
              "      <td>enron_extracted.mbox</td>\n",
              "      <td>WHAT?!!?\\n</td>\n",
              "      <td>35512</td>\n",
              "      <td>what</td>\n",
              "      <td>[]</td>\n",
              "      <td>False</td>\n",
              "    </tr>\n",
              "    <tr>\n",
              "      <th>23241</th>\n",
              "      <td>enron_extracted.mbox</td>\n",
              "      <td>Here it is:\\n\\n\\n \\n</td>\n",
              "      <td>186465</td>\n",
              "      <td>here it is</td>\n",
              "      <td>[]</td>\n",
              "      <td>False</td>\n",
              "    </tr>\n",
              "    <tr>\n",
              "      <th>25078</th>\n",
              "      <td>enron_extracted.mbox</td>\n",
              "      <td>please...\\n</td>\n",
              "      <td>262818</td>\n",
              "      <td>please</td>\n",
              "      <td>[]</td>\n",
              "      <td>False</td>\n",
              "    </tr>\n",
              "  </tbody>\n",
              "</table>\n",
              "</div>"
            ],
            "text/plain": [
              "                   filename             email_body  file_key  \\\n",
              "10844  enron_extracted.mbox       How did it go?\\n     59614   \n",
              "11499  enron_extracted.mbox                 Done\\n     22896   \n",
              "11531  enron_extracted.mbox            All done?\\n    188151   \n",
              "12960  enron_extracted.mbox         see you then\\n    251137   \n",
              "14635  enron_extracted.mbox       Here you go!\\n\\n    185257   \n",
              "15031  enron_extracted.mbox        we can go now\\n    143510   \n",
              "17304  enron_extracted.mbox          Here it is!\\n     92317   \n",
              "18009  enron_extracted.mbox     i will be there \\n    130891   \n",
              "18252  enron_extracted.mbox               Where?\\n    248187   \n",
              "19554  enron_extracted.mbox  Here they are:\\n\\n \\n     32847   \n",
              "21922  enron_extracted.mbox             WHAT?!!?\\n     35512   \n",
              "23241  enron_extracted.mbox   Here it is:\\n\\n\\n \\n    186465   \n",
              "25078  enron_extracted.mbox            please...\\n    262818   \n",
              "\n",
              "      preprocessed_body tokenized_body  is_phishing  \n",
              "10844     how did it go             []        False  \n",
              "11499              done             []        False  \n",
              "11531          all done             []        False  \n",
              "12960      see you then             []        False  \n",
              "14635       here you go             []        False  \n",
              "15031     we can go now             []        False  \n",
              "17304        here it is             []        False  \n",
              "18009   i will be there             []        False  \n",
              "18252             where             []        False  \n",
              "19554     here they are             []        False  \n",
              "21922              what             []        False  \n",
              "23241        here it is             []        False  \n",
              "25078            please             []        False  "
            ]
          },
          "execution_count": 22,
          "metadata": {},
          "output_type": "execute_result"
        }
      ],
      "source": [
        "df_whole_dataset[df_whole_dataset['tokenized_body'].str.len() < 1]"
      ]
    },
    {
      "cell_type": "code",
      "execution_count": 23,
      "metadata": {
        "id": "ldNEdBKmoWIK"
      },
      "outputs": [],
      "source": [
        "df_whole_dataset = df_whole_dataset[df_whole_dataset['tokenized_body'].str.len() >= 1]\n",
        "df_whole_dataset.reset_index(inplace=True, drop=True)"
      ]
    },
    {
      "cell_type": "code",
      "execution_count": 24,
      "metadata": {
        "id": "jMocvjQfoWIL",
        "outputId": "2ae309ae-f001-4cfc-f2e2-8c6283963b77"
      },
      "outputs": [
        {
          "name": "stdout",
          "output_type": "stream",
          "text": [
            "<class 'pandas.core.frame.DataFrame'>\n",
            "RangeIndex: 25541 entries, 0 to 25540\n",
            "Data columns (total 6 columns):\n",
            " #   Column             Non-Null Count  Dtype \n",
            "---  ------             --------------  ----- \n",
            " 0   filename           25541 non-null  object\n",
            " 1   email_body         25541 non-null  object\n",
            " 2   file_key           25541 non-null  int64 \n",
            " 3   preprocessed_body  25541 non-null  object\n",
            " 4   tokenized_body     25541 non-null  object\n",
            " 5   is_phishing        25541 non-null  bool  \n",
            "dtypes: bool(1), int64(1), object(4)\n",
            "memory usage: 1022.8+ KB\n"
          ]
        }
      ],
      "source": [
        "df_whole_dataset.info()"
      ]
    },
    {
      "cell_type": "code",
      "execution_count": 25,
      "metadata": {
        "id": "7jK_gsRNoWIL",
        "outputId": "2c953e2f-ab7b-4607-adec-4fddbf7fa603"
      },
      "outputs": [
        {
          "data": {
            "text/plain": [
              "['backup_dumps/df_whole_dataset_drop_25k']"
            ]
          },
          "execution_count": 25,
          "metadata": {},
          "output_type": "execute_result"
        }
      ],
      "source": [
        "from joblib import dump\n",
        "dump(df_whole_dataset, 'backup_dumps/df_whole_dataset_drop_25k')"
      ]
    },
    {
      "cell_type": "markdown",
      "metadata": {
        "id": "LE29P_dXoWIM"
      },
      "source": [
        "# 2. Training the word2vec model to create word embeddings.\n",
        "\n",
        "We are working with dataset that has 107443 records (around 10k phishing e-mails and 90k ham e-mails). \n",
        "\n",
        "We are performing word2vec training on the 'tokenized_body' column that has words from e-mail body, for example sentence: \"I will meet you there\" is tokenized to a list: ['i', 'will', 'meet', 'you', 'there'].\n",
        "\n",
        "Word2vec is initialized with options:\n",
        "* **vector_size=200** - Numbers of dimensions of word vector. Each word will be represented as 200-dimensional vector.\n",
        "* **window=5** - Maximum distance between the current and predicted word within a sentence (left and right distance). For example, if the target word is \"use\", in sentence: \"We should use word embeddings because there are effective\", model will consider words \"we\", \"should\", \"word\", \"embeddings\", \"because\", \"there\", \"are\" as context. \n",
        "* **min_count=6** - Ignores all words with total frequency lower than this.\n",
        "* **sg=1 ** - Training algorithm, 1 is for Skip-gram model.\n",
        "* **negative=5** - Number of \"negative\" samples using during training. These will be the non-context words for each positive (content) word. This technique improves quality of learned embeddings.\n",
        "* **hs=0 ** - If hs is 0, and negative parameter is non zero, negative sampling will be used.\n",
        "* **workers=1 ** - Using one thread to train the model (training was done on local machine).\n",
        "* **seed=random_seed** - Seed to ensure deterministic behaviour.\n",
        "\n"
      ]
    },
    {
      "cell_type": "code",
      "execution_count": 26,
      "metadata": {
        "id": "sirh0YPLoWIM"
      },
      "outputs": [],
      "source": [
        "from gensim.models import Word2Vec\n",
        "word2vec_model = Word2Vec(sentences=df_whole_dataset['tokenized_body'], vector_size=200, window=5, min_count=6, sg=1, negative=5, hs=0, workers=1, seed=random_seed)"
      ]
    },
    {
      "cell_type": "code",
      "execution_count": 27,
      "metadata": {
        "id": "ClD4t7JtoWIM"
      },
      "outputs": [],
      "source": [
        "word2vec_model.save('models/word2vec_model_25k.model')"
      ]
    },
    {
      "cell_type": "code",
      "execution_count": 39,
      "metadata": {
        "id": "QNV7RRRHoWIN"
      },
      "outputs": [],
      "source": [
        "import gensim\n",
        "word2vec_model = gensim.models.Word2Vec.load('/content/drive/MyDrive/phishing_detection_colab/models/word2vec_model.model')"
      ]
    },
    {
      "cell_type": "code",
      "execution_count": 28,
      "metadata": {
        "colab": {
          "base_uri": "https://localhost:8080/"
        },
        "id": "INFg3vihoWIN",
        "outputId": "99148475-96f6-437b-9790-d988b8bc7ff7"
      },
      "outputs": [
        {
          "data": {
            "text/plain": [
              "['fixedstringemails',\n",
              " 'fixedstringurl',\n",
              " 'account',\n",
              " 'email',\n",
              " 'message',\n",
              " 'information',\n",
              " 'subject',\n",
              " 'sent',\n",
              " 'paypal',\n",
              " 'ebay',\n",
              " 'enron',\n",
              " 'please',\n",
              " 'pm',\n",
              " '2001',\n",
              " 'new',\n",
              " 'original',\n",
              " 'access',\n",
              " 'cc',\n",
              " 'time',\n",
              " 'security']"
            ]
          },
          "execution_count": 28,
          "metadata": {},
          "output_type": "execute_result"
        }
      ],
      "source": [
        "list(word2vec_model.wv.key_to_index.keys())[:20]"
      ]
    },
    {
      "cell_type": "markdown",
      "metadata": {
        "id": "3_8OQXs3IYOv"
      },
      "source": [
        "Examples of most similiar words for \"click\", \"phishing\", \"activate\", \"expire\", \"bank\". Score is based on: "
      ]
    },
    {
      "cell_type": "code",
      "execution_count": 29,
      "metadata": {
        "id": "vP4krMlWoWIN",
        "outputId": "f9615214-8dfe-4710-d22d-f3f78111c9ee"
      },
      "outputs": [
        {
          "data": {
            "text/plain": [
              "[('clickable', 0.6131370663642883),\n",
              " ('browse', 0.5851472020149231),\n",
              " ('ecards', 0.5849072337150574),\n",
              " ('dropdown', 0.584302544593811),\n",
              " ('checkbox', 0.582675039768219),\n",
              " ('link', 0.5747114419937134),\n",
              " ('flowgo', 0.5724531412124634),\n",
              " ('customization', 0.5720254182815552),\n",
              " ('imageimage', 0.5647005438804626),\n",
              " ('uncheck', 0.5627026557922363)]"
            ]
          },
          "execution_count": 29,
          "metadata": {},
          "output_type": "execute_result"
        }
      ],
      "source": [
        "word2vec_model.wv.most_similar('click')"
      ]
    },
    {
      "cell_type": "code",
      "execution_count": 30,
      "metadata": {
        "id": "hUnlr571oWIO",
        "outputId": "12cb830d-cf09-4840-bb68-9060f13a3592"
      },
      "outputs": [
        {
          "data": {
            "text/plain": [
              "[('swindlers', 0.7595926523208618),\n",
              " ('noncustomers', 0.6258099675178528),\n",
              " ('scams', 0.6218442916870117),\n",
              " ('complains', 0.5981195569038391),\n",
              " ('hacker', 0.5808604955673218),\n",
              " ('buffer', 0.5800611972808838),\n",
              " ('encryptedserver', 0.5634303092956543),\n",
              " ('attacks', 0.5617004632949829),\n",
              " ('disease', 0.5570652484893799),\n",
              " ('hijacking', 0.556727409362793)]"
            ]
          },
          "execution_count": 30,
          "metadata": {},
          "output_type": "execute_result"
        }
      ],
      "source": [
        "word2vec_model.wv.most_similar('phishing')"
      ]
    },
    {
      "cell_type": "code",
      "execution_count": 31,
      "metadata": {
        "id": "4HBodz4-oWIO",
        "outputId": "9838b0a5-9f5e-479c-fddd-1e5147cdd304"
      },
      "outputs": [
        {
          "data": {
            "text/plain": [
              "[('fixedstringurl7ncuaupdatehtm', 0.7195572853088379),\n",
              " ('complecte', 0.6600415110588074),\n",
              " ('stepbystep', 0.6519367098808289),\n",
              " ('activation', 0.651467502117157),\n",
              " ('antitheft', 0.6514269709587097),\n",
              " ('banknet', 0.6285055875778198),\n",
              " ('logon', 0.6228517889976501),\n",
              " ('render', 0.6174513697624207),\n",
              " ('eprocurement', 0.6166231036186218),\n",
              " ('logout', 0.6122325658798218)]"
            ]
          },
          "execution_count": 31,
          "metadata": {},
          "output_type": "execute_result"
        }
      ],
      "source": [
        "word2vec_model.wv.most_similar('activate')"
      ]
    },
    {
      "cell_type": "code",
      "execution_count": 32,
      "metadata": {
        "id": "LZVNLV1doWIP",
        "outputId": "4067e64d-c0a1-4ed6-d1b5-d40c7e39147b"
      },
      "outputs": [
        {
          "data": {
            "text/plain": [
              "[('emailbox', 0.7973729968070984),\n",
              " ('expires', 0.7404263019561768),\n",
              " ('24hrs', 0.6865972876548767),\n",
              " ('elsewhere', 0.6767100095748901),\n",
              " ('joseyour', 0.6720505952835083),\n",
              " ('48hours', 0.6624327301979065),\n",
              " ('erased', 0.6600483059883118),\n",
              " ('httpxn11bv1bfkd8grab5ixacompl', 0.6569322347640991),\n",
              " ('terminatedfor', 0.655336320400238),\n",
              " ('24hours', 0.6546597480773926)]"
            ]
          },
          "execution_count": 32,
          "metadata": {},
          "output_type": "execute_result"
        }
      ],
      "source": [
        "word2vec_model.wv.most_similar('expire')"
      ]
    },
    {
      "cell_type": "code",
      "execution_count": 33,
      "metadata": {
        "id": "DgSi8sMJoWIP",
        "outputId": "149f3f04-4166-4e24-da57-ea072a35801b"
      },
      "outputs": [
        {
          "data": {
            "text/plain": [
              "[('plc', 0.5503754615783691),\n",
              " ('citibank', 0.5471785068511963),\n",
              " ('fixedstringurl8005392968the', 0.5415929555892944),\n",
              " ('fixedstringurl8008414000key', 0.5359369516372681),\n",
              " ('fixedstringurl8009723030fleet', 0.5198783874511719),\n",
              " ('insured', 0.5138706564903259),\n",
              " ('fixedstringurl8887519000commerce', 0.510313868522644),\n",
              " ('wthankwyou', 0.5098862648010254),\n",
              " ('fixedstringurl8006273999commerce', 0.5094538331031799),\n",
              " ('americawemailwidwpp4328', 0.505341112613678)]"
            ]
          },
          "execution_count": 33,
          "metadata": {},
          "output_type": "execute_result"
        }
      ],
      "source": [
        "word2vec_model.wv.most_similar('bank')"
      ]
    },
    {
      "cell_type": "code",
      "execution_count": 34,
      "metadata": {
        "id": "PkcfmQQuoWIP",
        "outputId": "2dd69394-6dbc-4ee3-8f32-7b5428163264"
      },
      "outputs": [
        {
          "data": {
            "text/plain": [
              "29846"
            ]
          },
          "execution_count": 34,
          "metadata": {},
          "output_type": "execute_result"
        }
      ],
      "source": [
        "len(word2vec_model.wv.index_to_key) # number of words in the vocabulary"
      ]
    },
    {
      "cell_type": "markdown",
      "metadata": {
        "id": "W9_n4Hdminft"
      },
      "source": [
        "# 3. Performing operations with word2vec and final dataset to prepare it for neural network.\n",
        "\n",
        "Replace tokens with word2vec model index. \n",
        "\n",
        "Assign index from word2vec model. \n",
        "\n",
        "Assign **special_index** preventing Out Of Vocabulary (if word is not present in the model's vocabulary, we must assign it an index)."
      ]
    },
    {
      "cell_type": "code",
      "execution_count": null,
      "metadata": {
        "id": "3reIjXTAoWIQ"
      },
      "outputs": [],
      "source": [
        "def tokens_to_indices(model, list_of_tokens, special_index):\n",
        "    tokens_indices = [model.wv.key_to_index.get(token, special_index) for token in list_of_tokens]\n",
        "    return tokens_indices"
      ]
    },
    {
      "cell_type": "code",
      "execution_count": 40,
      "metadata": {
        "id": "yATwsaEcoWIT"
      },
      "outputs": [],
      "source": [
        "vocab_len = len(word2vec_model.wv.index_to_key)"
      ]
    },
    {
      "cell_type": "code",
      "execution_count": 41,
      "metadata": {
        "colab": {
          "base_uri": "https://localhost:8080/"
        },
        "id": "F-CcO7_tvR8B",
        "outputId": "c2bbfac2-96be-46eb-a872-b4710506f242"
      },
      "outputs": [
        {
          "data": {
            "text/plain": [
              "72584"
            ]
          },
          "execution_count": 41,
          "metadata": {},
          "output_type": "execute_result"
        }
      ],
      "source": [
        "vocab_len"
      ]
    },
    {
      "cell_type": "code",
      "execution_count": null,
      "metadata": {
        "id": "wOgGgg-3pmvM"
      },
      "outputs": [],
      "source": [
        "special_index = vocab_len + 10000"
      ]
    },
    {
      "cell_type": "code",
      "execution_count": null,
      "metadata": {
        "colab": {
          "base_uri": "https://localhost:8080/"
        },
        "id": "sWvkeQknoWIQ",
        "outputId": "f69bfcfb-8085-47d4-d79c-b601e8ecd451"
      },
      "outputs": [
        {
          "name": "stdout",
          "output_type": "stream",
          "text": [
            "[82584, 82584, 12290]\n"
          ]
        }
      ],
      "source": [
        "print(tokens_to_indices(word2vec_model, ['probablynotfoundtoken', 'probablynotfoundtoken2', 'phishing'], special_index))"
      ]
    },
    {
      "cell_type": "code",
      "execution_count": null,
      "metadata": {
        "id": "f013MyodoWIR"
      },
      "outputs": [],
      "source": [
        "from joblib import load\n",
        "df_whole_dataset_drop = load('/content/drive/MyDrive/phishing_detection_colab/datasets/df_whole_dataset_drop')"
      ]
    },
    {
      "cell_type": "code",
      "execution_count": null,
      "metadata": {
        "colab": {
          "base_uri": "https://localhost:8080/",
          "height": 363
        },
        "id": "iLB95xkloWIR",
        "outputId": "3fc22982-3154-4a6a-8bd0-8ca3ba6d248f"
      },
      "outputs": [
        {
          "data": {
            "text/html": [
              "\n",
              "  <div id=\"df-0d4401df-414e-4757-b71d-e64bd22fbd64\">\n",
              "    <div class=\"colab-df-container\">\n",
              "      <div>\n",
              "<style scoped>\n",
              "    .dataframe tbody tr th:only-of-type {\n",
              "        vertical-align: middle;\n",
              "    }\n",
              "\n",
              "    .dataframe tbody tr th {\n",
              "        vertical-align: top;\n",
              "    }\n",
              "\n",
              "    .dataframe thead th {\n",
              "        text-align: right;\n",
              "    }\n",
              "</style>\n",
              "<table border=\"1\" class=\"dataframe\">\n",
              "  <thead>\n",
              "    <tr style=\"text-align: right;\">\n",
              "      <th></th>\n",
              "      <th>filename</th>\n",
              "      <th>email_body</th>\n",
              "      <th>file_key</th>\n",
              "      <th>preprocessed_body</th>\n",
              "      <th>tokenized_body</th>\n",
              "      <th>is_phishing</th>\n",
              "    </tr>\n",
              "  </thead>\n",
              "  <tbody>\n",
              "    <tr>\n",
              "      <th>0</th>\n",
              "      <td>20051114.mbox</td>\n",
              "      <td>&lt;html&gt;\\n&lt;head&gt;\\n&lt;!--   extraneous meta tag rem...</td>\n",
              "      <td>0</td>\n",
              "      <td>ebay suspension fixedstringurl fixedstringurl ...</td>\n",
              "      <td>[ebay, suspension, fixedstringurl, fixedstring...</td>\n",
              "      <td>True</td>\n",
              "    </tr>\n",
              "    <tr>\n",
              "      <th>1</th>\n",
              "      <td>20051114.mbox</td>\n",
              "      <td>&amp;nbsp;&lt;body bgcolor=#ffffff&gt;&lt;div align=\"left\"&gt;...</td>\n",
              "      <td>1</td>\n",
              "      <td>dear lasalle member as part of our continuing ...</td>\n",
              "      <td>[dear, lasalle, member, part, continuing, comm...</td>\n",
              "      <td>True</td>\n",
              "    </tr>\n",
              "    <tr>\n",
              "      <th>2</th>\n",
              "      <td>20051114.mbox</td>\n",
              "      <td>&amp;nbsp;&lt;body bgcolor=#ffffff&gt;&lt;div align=\"left\"&gt;...</td>\n",
              "      <td>2</td>\n",
              "      <td>dear lasalle member as part of our continuing ...</td>\n",
              "      <td>[dear, lasalle, member, part, continuing, comm...</td>\n",
              "      <td>True</td>\n",
              "    </tr>\n",
              "    <tr>\n",
              "      <th>3</th>\n",
              "      <td>20051114.mbox</td>\n",
              "      <td>&lt;html&gt;&lt;p&gt;&lt;font face=\"Arial\"&gt;&lt;A HREF=\"https://w...</td>\n",
              "      <td>3</td>\n",
              "      <td>fixedstringurl i dont pokemon in 1878 in 1874 ...</td>\n",
              "      <td>[fixedstringurl, dont, pokemon, 1878, 1874, sh...</td>\n",
              "      <td>True</td>\n",
              "    </tr>\n",
              "    <tr>\n",
              "      <th>4</th>\n",
              "      <td>20051114.mbox</td>\n",
              "      <td>\\n\\n&lt;xbody bgcolor=\"#ffffff\"&gt;&lt;!--Header code s...</td>\n",
              "      <td>4</td>\n",
              "      <td>fixedstringurl fixedstringurl fixedstringurl f...</td>\n",
              "      <td>[fixedstringurl, fixedstringurl, fixedstringur...</td>\n",
              "      <td>True</td>\n",
              "    </tr>\n",
              "    <tr>\n",
              "      <th>5</th>\n",
              "      <td>20051114.mbox</td>\n",
              "      <td>&lt;DIV&gt;&lt;DIV&gt;&lt;DIV&gt;&lt;DIV&gt;&lt;DIV&gt;&lt;DIV&gt;&lt;DIV&gt;&lt;DIV&gt;&lt;DIV&gt;&lt;...</td>\n",
              "      <td>5</td>\n",
              "      <td>fixedstringurl fixedstringurl fixedstringurl f...</td>\n",
              "      <td>[fixedstringurl, fixedstringurl, fixedstringur...</td>\n",
              "      <td>True</td>\n",
              "    </tr>\n",
              "    <tr>\n",
              "      <th>6</th>\n",
              "      <td>20051114.mbox</td>\n",
              "      <td>&lt;DIV&gt;&lt;DIV&gt;&lt;DIV&gt;&lt;DIV&gt;&lt;DIV&gt;&lt;DIV&gt;&lt;DIV&gt;&lt;DIV&gt;&lt;DIV&gt;&lt;...</td>\n",
              "      <td>6</td>\n",
              "      <td>fixedstringurl fixedstringurl fixedstringurl f...</td>\n",
              "      <td>[fixedstringurl, fixedstringurl, fixedstringur...</td>\n",
              "      <td>True</td>\n",
              "    </tr>\n",
              "    <tr>\n",
              "      <th>7</th>\n",
              "      <td>20051114.mbox</td>\n",
              "      <td>&lt;DIV&gt;&lt;DIV&gt;&lt;DIV&gt;&lt;DIV&gt;&lt;DIV&gt;&lt;DIV&gt;&lt;DIV&gt;&lt;DIV&gt;&lt;DIV&gt;&lt;...</td>\n",
              "      <td>7</td>\n",
              "      <td>fixedstringurl fixedstringurl fixedstringurl f...</td>\n",
              "      <td>[fixedstringurl, fixedstringurl, fixedstringur...</td>\n",
              "      <td>True</td>\n",
              "    </tr>\n",
              "    <tr>\n",
              "      <th>8</th>\n",
              "      <td>20051114.mbox</td>\n",
              "      <td>&lt;!DOCTYPE HTML PUBLIC \"-//W3C//DTD HTML 4.01 T...</td>\n",
              "      <td>8</td>\n",
              "      <td>untitled document fixedstringurl urgent safeha...</td>\n",
              "      <td>[untitled, document, fixedstringurl, urgent, s...</td>\n",
              "      <td>True</td>\n",
              "    </tr>\n",
              "    <tr>\n",
              "      <th>9</th>\n",
              "      <td>20051114.mbox</td>\n",
              "      <td>To report spam please visit our site at\\nhttp:...</td>\n",
              "      <td>9</td>\n",
              "      <td>to report spam please visit our site at fixeds...</td>\n",
              "      <td>[report, spam, please, visit, site, fixedstrin...</td>\n",
              "      <td>True</td>\n",
              "    </tr>\n",
              "  </tbody>\n",
              "</table>\n",
              "</div>\n",
              "      <button class=\"colab-df-convert\" onclick=\"convertToInteractive('df-0d4401df-414e-4757-b71d-e64bd22fbd64')\"\n",
              "              title=\"Convert this dataframe to an interactive table.\"\n",
              "              style=\"display:none;\">\n",
              "        \n",
              "  <svg xmlns=\"http://www.w3.org/2000/svg\" height=\"24px\"viewBox=\"0 0 24 24\"\n",
              "       width=\"24px\">\n",
              "    <path d=\"M0 0h24v24H0V0z\" fill=\"none\"/>\n",
              "    <path d=\"M18.56 5.44l.94 2.06.94-2.06 2.06-.94-2.06-.94-.94-2.06-.94 2.06-2.06.94zm-11 1L8.5 8.5l.94-2.06 2.06-.94-2.06-.94L8.5 2.5l-.94 2.06-2.06.94zm10 10l.94 2.06.94-2.06 2.06-.94-2.06-.94-.94-2.06-.94 2.06-2.06.94z\"/><path d=\"M17.41 7.96l-1.37-1.37c-.4-.4-.92-.59-1.43-.59-.52 0-1.04.2-1.43.59L10.3 9.45l-7.72 7.72c-.78.78-.78 2.05 0 2.83L4 21.41c.39.39.9.59 1.41.59.51 0 1.02-.2 1.41-.59l7.78-7.78 2.81-2.81c.8-.78.8-2.07 0-2.86zM5.41 20L4 18.59l7.72-7.72 1.47 1.35L5.41 20z\"/>\n",
              "  </svg>\n",
              "      </button>\n",
              "      \n",
              "  <style>\n",
              "    .colab-df-container {\n",
              "      display:flex;\n",
              "      flex-wrap:wrap;\n",
              "      gap: 12px;\n",
              "    }\n",
              "\n",
              "    .colab-df-convert {\n",
              "      background-color: #E8F0FE;\n",
              "      border: none;\n",
              "      border-radius: 50%;\n",
              "      cursor: pointer;\n",
              "      display: none;\n",
              "      fill: #1967D2;\n",
              "      height: 32px;\n",
              "      padding: 0 0 0 0;\n",
              "      width: 32px;\n",
              "    }\n",
              "\n",
              "    .colab-df-convert:hover {\n",
              "      background-color: #E2EBFA;\n",
              "      box-shadow: 0px 1px 2px rgba(60, 64, 67, 0.3), 0px 1px 3px 1px rgba(60, 64, 67, 0.15);\n",
              "      fill: #174EA6;\n",
              "    }\n",
              "\n",
              "    [theme=dark] .colab-df-convert {\n",
              "      background-color: #3B4455;\n",
              "      fill: #D2E3FC;\n",
              "    }\n",
              "\n",
              "    [theme=dark] .colab-df-convert:hover {\n",
              "      background-color: #434B5C;\n",
              "      box-shadow: 0px 1px 3px 1px rgba(0, 0, 0, 0.15);\n",
              "      filter: drop-shadow(0px 1px 2px rgba(0, 0, 0, 0.3));\n",
              "      fill: #FFFFFF;\n",
              "    }\n",
              "  </style>\n",
              "\n",
              "      <script>\n",
              "        const buttonEl =\n",
              "          document.querySelector('#df-0d4401df-414e-4757-b71d-e64bd22fbd64 button.colab-df-convert');\n",
              "        buttonEl.style.display =\n",
              "          google.colab.kernel.accessAllowed ? 'block' : 'none';\n",
              "\n",
              "        async function convertToInteractive(key) {\n",
              "          const element = document.querySelector('#df-0d4401df-414e-4757-b71d-e64bd22fbd64');\n",
              "          const dataTable =\n",
              "            await google.colab.kernel.invokeFunction('convertToInteractive',\n",
              "                                                     [key], {});\n",
              "          if (!dataTable) return;\n",
              "\n",
              "          const docLinkHtml = 'Like what you see? Visit the ' +\n",
              "            '<a target=\"_blank\" href=https://colab.research.google.com/notebooks/data_table.ipynb>data table notebook</a>'\n",
              "            + ' to learn more about interactive tables.';\n",
              "          element.innerHTML = '';\n",
              "          dataTable['output_type'] = 'display_data';\n",
              "          await google.colab.output.renderOutput(dataTable, element);\n",
              "          const docLink = document.createElement('div');\n",
              "          docLink.innerHTML = docLinkHtml;\n",
              "          element.appendChild(docLink);\n",
              "        }\n",
              "      </script>\n",
              "    </div>\n",
              "  </div>\n",
              "  "
            ],
            "text/plain": [
              "        filename                                         email_body  file_key  \\\n",
              "0  20051114.mbox  <html>\\n<head>\\n<!--   extraneous meta tag rem...         0   \n",
              "1  20051114.mbox  &nbsp;<body bgcolor=#ffffff><div align=\"left\">...         1   \n",
              "2  20051114.mbox  &nbsp;<body bgcolor=#ffffff><div align=\"left\">...         2   \n",
              "3  20051114.mbox  <html><p><font face=\"Arial\"><A HREF=\"https://w...         3   \n",
              "4  20051114.mbox  \\n\\n<xbody bgcolor=\"#ffffff\"><!--Header code s...         4   \n",
              "5  20051114.mbox  <DIV><DIV><DIV><DIV><DIV><DIV><DIV><DIV><DIV><...         5   \n",
              "6  20051114.mbox  <DIV><DIV><DIV><DIV><DIV><DIV><DIV><DIV><DIV><...         6   \n",
              "7  20051114.mbox  <DIV><DIV><DIV><DIV><DIV><DIV><DIV><DIV><DIV><...         7   \n",
              "8  20051114.mbox  <!DOCTYPE HTML PUBLIC \"-//W3C//DTD HTML 4.01 T...         8   \n",
              "9  20051114.mbox  To report spam please visit our site at\\nhttp:...         9   \n",
              "\n",
              "                                   preprocessed_body  \\\n",
              "0  ebay suspension fixedstringurl fixedstringurl ...   \n",
              "1  dear lasalle member as part of our continuing ...   \n",
              "2  dear lasalle member as part of our continuing ...   \n",
              "3  fixedstringurl i dont pokemon in 1878 in 1874 ...   \n",
              "4  fixedstringurl fixedstringurl fixedstringurl f...   \n",
              "5  fixedstringurl fixedstringurl fixedstringurl f...   \n",
              "6  fixedstringurl fixedstringurl fixedstringurl f...   \n",
              "7  fixedstringurl fixedstringurl fixedstringurl f...   \n",
              "8  untitled document fixedstringurl urgent safeha...   \n",
              "9  to report spam please visit our site at fixeds...   \n",
              "\n",
              "                                      tokenized_body  is_phishing  \n",
              "0  [ebay, suspension, fixedstringurl, fixedstring...         True  \n",
              "1  [dear, lasalle, member, part, continuing, comm...         True  \n",
              "2  [dear, lasalle, member, part, continuing, comm...         True  \n",
              "3  [fixedstringurl, dont, pokemon, 1878, 1874, sh...         True  \n",
              "4  [fixedstringurl, fixedstringurl, fixedstringur...         True  \n",
              "5  [fixedstringurl, fixedstringurl, fixedstringur...         True  \n",
              "6  [fixedstringurl, fixedstringurl, fixedstringur...         True  \n",
              "7  [fixedstringurl, fixedstringurl, fixedstringur...         True  \n",
              "8  [untitled, document, fixedstringurl, urgent, s...         True  \n",
              "9  [report, spam, please, visit, site, fixedstrin...         True  "
            ]
          },
          "execution_count": 2,
          "metadata": {},
          "output_type": "execute_result"
        }
      ],
      "source": [
        "df_whole_dataset_drop.head(10)"
      ]
    },
    {
      "cell_type": "code",
      "execution_count": null,
      "metadata": {
        "id": "LvP6nhSqoWIR"
      },
      "outputs": [],
      "source": [
        "df_whole_dataset_drop['tokenized_body_indexed'] = df_whole_dataset_drop['tokenized_body'].apply(lambda x: tokens_to_indices(word2vec_model, x, special_index))"
      ]
    },
    {
      "cell_type": "code",
      "execution_count": null,
      "metadata": {
        "colab": {
          "base_uri": "https://localhost:8080/",
          "height": 581
        },
        "id": "s2V74mBaoWIS",
        "outputId": "8ea744d8-7959-4c87-880a-b981c98b097e"
      },
      "outputs": [
        {
          "data": {
            "text/html": [
              "\n",
              "  <div id=\"df-31d6dc2f-a6ba-44d6-9ea4-f7e7f99580de\">\n",
              "    <div class=\"colab-df-container\">\n",
              "      <div>\n",
              "<style scoped>\n",
              "    .dataframe tbody tr th:only-of-type {\n",
              "        vertical-align: middle;\n",
              "    }\n",
              "\n",
              "    .dataframe tbody tr th {\n",
              "        vertical-align: top;\n",
              "    }\n",
              "\n",
              "    .dataframe thead th {\n",
              "        text-align: right;\n",
              "    }\n",
              "</style>\n",
              "<table border=\"1\" class=\"dataframe\">\n",
              "  <thead>\n",
              "    <tr style=\"text-align: right;\">\n",
              "      <th></th>\n",
              "      <th>filename</th>\n",
              "      <th>email_body</th>\n",
              "      <th>file_key</th>\n",
              "      <th>preprocessed_body</th>\n",
              "      <th>tokenized_body</th>\n",
              "      <th>is_phishing</th>\n",
              "      <th>tokenized_body_indexed</th>\n",
              "    </tr>\n",
              "  </thead>\n",
              "  <tbody>\n",
              "    <tr>\n",
              "      <th>0</th>\n",
              "      <td>20051114.mbox</td>\n",
              "      <td>&lt;html&gt;\\n&lt;head&gt;\\n&lt;!--   extraneous meta tag rem...</td>\n",
              "      <td>0</td>\n",
              "      <td>ebay suspension fixedstringurl fixedstringurl ...</td>\n",
              "      <td>[ebay, suspension, fixedstringurl, fixedstring...</td>\n",
              "      <td>True</td>\n",
              "      <td>[111, 1851, 1, 1, 1, 1, 1, 111, 1851, 1, 1, 1,...</td>\n",
              "    </tr>\n",
              "    <tr>\n",
              "      <th>1</th>\n",
              "      <td>20051114.mbox</td>\n",
              "      <td>&amp;nbsp;&lt;body bgcolor=#ffffff&gt;&lt;div align=\"left\"&gt;...</td>\n",
              "      <td>1</td>\n",
              "      <td>dear lasalle member as part of our continuing ...</td>\n",
              "      <td>[dear, lasalle, member, part, continuing, comm...</td>\n",
              "      <td>True</td>\n",
              "      <td>[169, 9578, 249, 2154, 1583, 1629, 537, 19, 11...</td>\n",
              "    </tr>\n",
              "    <tr>\n",
              "      <th>2</th>\n",
              "      <td>20051114.mbox</td>\n",
              "      <td>&amp;nbsp;&lt;body bgcolor=#ffffff&gt;&lt;div align=\"left\"&gt;...</td>\n",
              "      <td>2</td>\n",
              "      <td>dear lasalle member as part of our continuing ...</td>\n",
              "      <td>[dear, lasalle, member, part, continuing, comm...</td>\n",
              "      <td>True</td>\n",
              "      <td>[169, 9578, 249, 2154, 1583, 1629, 537, 19, 11...</td>\n",
              "    </tr>\n",
              "    <tr>\n",
              "      <th>3</th>\n",
              "      <td>20051114.mbox</td>\n",
              "      <td>&lt;html&gt;&lt;p&gt;&lt;font face=\"Arial\"&gt;&lt;A HREF=\"https://w...</td>\n",
              "      <td>3</td>\n",
              "      <td>fixedstringurl i dont pokemon in 1878 in 1874 ...</td>\n",
              "      <td>[fixedstringurl, dont, pokemon, 1878, 1874, sh...</td>\n",
              "      <td>True</td>\n",
              "      <td>[1, 3047, 82584, 51669, 32874, 534]</td>\n",
              "    </tr>\n",
              "    <tr>\n",
              "      <th>4</th>\n",
              "      <td>20051114.mbox</td>\n",
              "      <td>\\n\\n&lt;xbody bgcolor=\"#ffffff\"&gt;&lt;!--Header code s...</td>\n",
              "      <td>4</td>\n",
              "      <td>fixedstringurl fixedstringurl fixedstringurl f...</td>\n",
              "      <td>[fixedstringurl, fixedstringurl, fixedstringur...</td>\n",
              "      <td>True</td>\n",
              "      <td>[1, 1, 1, 1, 1, 1]</td>\n",
              "    </tr>\n",
              "    <tr>\n",
              "      <th>5</th>\n",
              "      <td>20051114.mbox</td>\n",
              "      <td>&lt;DIV&gt;&lt;DIV&gt;&lt;DIV&gt;&lt;DIV&gt;&lt;DIV&gt;&lt;DIV&gt;&lt;DIV&gt;&lt;DIV&gt;&lt;DIV&gt;&lt;...</td>\n",
              "      <td>5</td>\n",
              "      <td>fixedstringurl fixedstringurl fixedstringurl f...</td>\n",
              "      <td>[fixedstringurl, fixedstringurl, fixedstringur...</td>\n",
              "      <td>True</td>\n",
              "      <td>[1, 1, 1, 1, 1592, 141, 1, 1, 1, 1, 1, 4517, 1...</td>\n",
              "    </tr>\n",
              "    <tr>\n",
              "      <th>6</th>\n",
              "      <td>20051114.mbox</td>\n",
              "      <td>&lt;DIV&gt;&lt;DIV&gt;&lt;DIV&gt;&lt;DIV&gt;&lt;DIV&gt;&lt;DIV&gt;&lt;DIV&gt;&lt;DIV&gt;&lt;DIV&gt;&lt;...</td>\n",
              "      <td>6</td>\n",
              "      <td>fixedstringurl fixedstringurl fixedstringurl f...</td>\n",
              "      <td>[fixedstringurl, fixedstringurl, fixedstringur...</td>\n",
              "      <td>True</td>\n",
              "      <td>[1, 1, 1, 1, 1592, 141, 1, 1, 1, 1, 1, 4517, 1...</td>\n",
              "    </tr>\n",
              "    <tr>\n",
              "      <th>7</th>\n",
              "      <td>20051114.mbox</td>\n",
              "      <td>&lt;DIV&gt;&lt;DIV&gt;&lt;DIV&gt;&lt;DIV&gt;&lt;DIV&gt;&lt;DIV&gt;&lt;DIV&gt;&lt;DIV&gt;&lt;DIV&gt;&lt;...</td>\n",
              "      <td>7</td>\n",
              "      <td>fixedstringurl fixedstringurl fixedstringurl f...</td>\n",
              "      <td>[fixedstringurl, fixedstringurl, fixedstringur...</td>\n",
              "      <td>True</td>\n",
              "      <td>[1, 1, 1, 1, 1592, 141, 1, 1, 1, 1, 1, 4517, 1...</td>\n",
              "    </tr>\n",
              "    <tr>\n",
              "      <th>8</th>\n",
              "      <td>20051114.mbox</td>\n",
              "      <td>&lt;!DOCTYPE HTML PUBLIC \"-//W3C//DTD HTML 4.01 T...</td>\n",
              "      <td>8</td>\n",
              "      <td>untitled document fixedstringurl urgent safeha...</td>\n",
              "      <td>[untitled, document, fixedstringurl, urgent, s...</td>\n",
              "      <td>True</td>\n",
              "      <td>[5471, 392, 1, 3695, 9420, 306, 256, 111, 1197...</td>\n",
              "    </tr>\n",
              "    <tr>\n",
              "      <th>9</th>\n",
              "      <td>20051114.mbox</td>\n",
              "      <td>To report spam please visit our site at\\nhttp:...</td>\n",
              "      <td>9</td>\n",
              "      <td>to report spam please visit our site at fixeds...</td>\n",
              "      <td>[report, spam, please, visit, site, fixedstrin...</td>\n",
              "      <td>True</td>\n",
              "      <td>[80, 4031, 118, 164, 226, 1, 5, 856, 93, 600, ...</td>\n",
              "    </tr>\n",
              "  </tbody>\n",
              "</table>\n",
              "</div>\n",
              "      <button class=\"colab-df-convert\" onclick=\"convertToInteractive('df-31d6dc2f-a6ba-44d6-9ea4-f7e7f99580de')\"\n",
              "              title=\"Convert this dataframe to an interactive table.\"\n",
              "              style=\"display:none;\">\n",
              "        \n",
              "  <svg xmlns=\"http://www.w3.org/2000/svg\" height=\"24px\"viewBox=\"0 0 24 24\"\n",
              "       width=\"24px\">\n",
              "    <path d=\"M0 0h24v24H0V0z\" fill=\"none\"/>\n",
              "    <path d=\"M18.56 5.44l.94 2.06.94-2.06 2.06-.94-2.06-.94-.94-2.06-.94 2.06-2.06.94zm-11 1L8.5 8.5l.94-2.06 2.06-.94-2.06-.94L8.5 2.5l-.94 2.06-2.06.94zm10 10l.94 2.06.94-2.06 2.06-.94-2.06-.94-.94-2.06-.94 2.06-2.06.94z\"/><path d=\"M17.41 7.96l-1.37-1.37c-.4-.4-.92-.59-1.43-.59-.52 0-1.04.2-1.43.59L10.3 9.45l-7.72 7.72c-.78.78-.78 2.05 0 2.83L4 21.41c.39.39.9.59 1.41.59.51 0 1.02-.2 1.41-.59l7.78-7.78 2.81-2.81c.8-.78.8-2.07 0-2.86zM5.41 20L4 18.59l7.72-7.72 1.47 1.35L5.41 20z\"/>\n",
              "  </svg>\n",
              "      </button>\n",
              "      \n",
              "  <style>\n",
              "    .colab-df-container {\n",
              "      display:flex;\n",
              "      flex-wrap:wrap;\n",
              "      gap: 12px;\n",
              "    }\n",
              "\n",
              "    .colab-df-convert {\n",
              "      background-color: #E8F0FE;\n",
              "      border: none;\n",
              "      border-radius: 50%;\n",
              "      cursor: pointer;\n",
              "      display: none;\n",
              "      fill: #1967D2;\n",
              "      height: 32px;\n",
              "      padding: 0 0 0 0;\n",
              "      width: 32px;\n",
              "    }\n",
              "\n",
              "    .colab-df-convert:hover {\n",
              "      background-color: #E2EBFA;\n",
              "      box-shadow: 0px 1px 2px rgba(60, 64, 67, 0.3), 0px 1px 3px 1px rgba(60, 64, 67, 0.15);\n",
              "      fill: #174EA6;\n",
              "    }\n",
              "\n",
              "    [theme=dark] .colab-df-convert {\n",
              "      background-color: #3B4455;\n",
              "      fill: #D2E3FC;\n",
              "    }\n",
              "\n",
              "    [theme=dark] .colab-df-convert:hover {\n",
              "      background-color: #434B5C;\n",
              "      box-shadow: 0px 1px 3px 1px rgba(0, 0, 0, 0.15);\n",
              "      filter: drop-shadow(0px 1px 2px rgba(0, 0, 0, 0.3));\n",
              "      fill: #FFFFFF;\n",
              "    }\n",
              "  </style>\n",
              "\n",
              "      <script>\n",
              "        const buttonEl =\n",
              "          document.querySelector('#df-31d6dc2f-a6ba-44d6-9ea4-f7e7f99580de button.colab-df-convert');\n",
              "        buttonEl.style.display =\n",
              "          google.colab.kernel.accessAllowed ? 'block' : 'none';\n",
              "\n",
              "        async function convertToInteractive(key) {\n",
              "          const element = document.querySelector('#df-31d6dc2f-a6ba-44d6-9ea4-f7e7f99580de');\n",
              "          const dataTable =\n",
              "            await google.colab.kernel.invokeFunction('convertToInteractive',\n",
              "                                                     [key], {});\n",
              "          if (!dataTable) return;\n",
              "\n",
              "          const docLinkHtml = 'Like what you see? Visit the ' +\n",
              "            '<a target=\"_blank\" href=https://colab.research.google.com/notebooks/data_table.ipynb>data table notebook</a>'\n",
              "            + ' to learn more about interactive tables.';\n",
              "          element.innerHTML = '';\n",
              "          dataTable['output_type'] = 'display_data';\n",
              "          await google.colab.output.renderOutput(dataTable, element);\n",
              "          const docLink = document.createElement('div');\n",
              "          docLink.innerHTML = docLinkHtml;\n",
              "          element.appendChild(docLink);\n",
              "        }\n",
              "      </script>\n",
              "    </div>\n",
              "  </div>\n",
              "  "
            ],
            "text/plain": [
              "        filename                                         email_body  file_key  \\\n",
              "0  20051114.mbox  <html>\\n<head>\\n<!--   extraneous meta tag rem...         0   \n",
              "1  20051114.mbox  &nbsp;<body bgcolor=#ffffff><div align=\"left\">...         1   \n",
              "2  20051114.mbox  &nbsp;<body bgcolor=#ffffff><div align=\"left\">...         2   \n",
              "3  20051114.mbox  <html><p><font face=\"Arial\"><A HREF=\"https://w...         3   \n",
              "4  20051114.mbox  \\n\\n<xbody bgcolor=\"#ffffff\"><!--Header code s...         4   \n",
              "5  20051114.mbox  <DIV><DIV><DIV><DIV><DIV><DIV><DIV><DIV><DIV><...         5   \n",
              "6  20051114.mbox  <DIV><DIV><DIV><DIV><DIV><DIV><DIV><DIV><DIV><...         6   \n",
              "7  20051114.mbox  <DIV><DIV><DIV><DIV><DIV><DIV><DIV><DIV><DIV><...         7   \n",
              "8  20051114.mbox  <!DOCTYPE HTML PUBLIC \"-//W3C//DTD HTML 4.01 T...         8   \n",
              "9  20051114.mbox  To report spam please visit our site at\\nhttp:...         9   \n",
              "\n",
              "                                   preprocessed_body  \\\n",
              "0  ebay suspension fixedstringurl fixedstringurl ...   \n",
              "1  dear lasalle member as part of our continuing ...   \n",
              "2  dear lasalle member as part of our continuing ...   \n",
              "3  fixedstringurl i dont pokemon in 1878 in 1874 ...   \n",
              "4  fixedstringurl fixedstringurl fixedstringurl f...   \n",
              "5  fixedstringurl fixedstringurl fixedstringurl f...   \n",
              "6  fixedstringurl fixedstringurl fixedstringurl f...   \n",
              "7  fixedstringurl fixedstringurl fixedstringurl f...   \n",
              "8  untitled document fixedstringurl urgent safeha...   \n",
              "9  to report spam please visit our site at fixeds...   \n",
              "\n",
              "                                      tokenized_body  is_phishing  \\\n",
              "0  [ebay, suspension, fixedstringurl, fixedstring...         True   \n",
              "1  [dear, lasalle, member, part, continuing, comm...         True   \n",
              "2  [dear, lasalle, member, part, continuing, comm...         True   \n",
              "3  [fixedstringurl, dont, pokemon, 1878, 1874, sh...         True   \n",
              "4  [fixedstringurl, fixedstringurl, fixedstringur...         True   \n",
              "5  [fixedstringurl, fixedstringurl, fixedstringur...         True   \n",
              "6  [fixedstringurl, fixedstringurl, fixedstringur...         True   \n",
              "7  [fixedstringurl, fixedstringurl, fixedstringur...         True   \n",
              "8  [untitled, document, fixedstringurl, urgent, s...         True   \n",
              "9  [report, spam, please, visit, site, fixedstrin...         True   \n",
              "\n",
              "                              tokenized_body_indexed  \n",
              "0  [111, 1851, 1, 1, 1, 1, 1, 111, 1851, 1, 1, 1,...  \n",
              "1  [169, 9578, 249, 2154, 1583, 1629, 537, 19, 11...  \n",
              "2  [169, 9578, 249, 2154, 1583, 1629, 537, 19, 11...  \n",
              "3                [1, 3047, 82584, 51669, 32874, 534]  \n",
              "4                                 [1, 1, 1, 1, 1, 1]  \n",
              "5  [1, 1, 1, 1, 1592, 141, 1, 1, 1, 1, 1, 4517, 1...  \n",
              "6  [1, 1, 1, 1, 1592, 141, 1, 1, 1, 1, 1, 4517, 1...  \n",
              "7  [1, 1, 1, 1, 1592, 141, 1, 1, 1, 1, 1, 4517, 1...  \n",
              "8  [5471, 392, 1, 3695, 9420, 306, 256, 111, 1197...  \n",
              "9  [80, 4031, 118, 164, 226, 1, 5, 856, 93, 600, ...  "
            ]
          },
          "execution_count": 23,
          "metadata": {},
          "output_type": "execute_result"
        }
      ],
      "source": [
        "df_whole_dataset_drop.head(10)"
      ]
    },
    {
      "cell_type": "code",
      "execution_count": null,
      "metadata": {
        "colab": {
          "base_uri": "https://localhost:8080/"
        },
        "id": "mQ1G40SqzfSX",
        "outputId": "e5f30167-d6d8-4991-d7e5-eb4200181790"
      },
      "outputs": [
        {
          "name": "stdout",
          "output_type": "stream",
          "text": [
            "<class 'pandas.core.frame.DataFrame'>\n",
            "RangeIndex: 107443 entries, 0 to 107442\n",
            "Data columns (total 7 columns):\n",
            " #   Column                  Non-Null Count   Dtype \n",
            "---  ------                  --------------   ----- \n",
            " 0   filename                107443 non-null  object\n",
            " 1   email_body              107443 non-null  object\n",
            " 2   file_key                107443 non-null  int64 \n",
            " 3   preprocessed_body       107443 non-null  object\n",
            " 4   tokenized_body          107443 non-null  object\n",
            " 5   is_phishing             107443 non-null  bool  \n",
            " 6   tokenized_body_indexed  107443 non-null  object\n",
            "dtypes: bool(1), int64(1), object(5)\n",
            "memory usage: 5.0+ MB\n"
          ]
        }
      ],
      "source": [
        "df_whole_dataset_drop.info()"
      ]
    },
    {
      "cell_type": "markdown",
      "metadata": {
        "id": "_25RlN65i3oa"
      },
      "source": [
        "Saving the dataset to disk and then loading it."
      ]
    },
    {
      "cell_type": "code",
      "execution_count": null,
      "metadata": {
        "colab": {
          "base_uri": "https://localhost:8080/"
        },
        "id": "1MRX462g0LWn",
        "outputId": "73303ce4-4a9a-40b7-df55-caa4028cdb1c"
      },
      "outputs": [
        {
          "data": {
            "text/plain": [
              "['/content/drive/MyDrive/phishing_detection_colab/datasets/df_whole_dataset_drop']"
            ]
          },
          "execution_count": 12,
          "metadata": {},
          "output_type": "execute_result"
        }
      ],
      "source": [
        "from joblib import dump\n",
        "dump(df_whole_dataset_drop, '/content/drive/MyDrive/phishing_detection_colab/datasets/df_whole_dataset_drop')"
      ]
    },
    {
      "cell_type": "code",
      "execution_count": null,
      "metadata": {
        "id": "nQ0hrmO62qzA"
      },
      "outputs": [],
      "source": [
        "from joblib import load\n",
        "df_whole_dataset_drop = load('/content/drive/MyDrive/phishing_detection_colab/datasets/df_whole_dataset_drop')"
      ]
    },
    {
      "cell_type": "markdown",
      "metadata": {
        "id": "gpqH-etfoWIS"
      },
      "source": [
        "Pad sequences to gain fixed size.\n",
        "\n",
        "We take the maximum length of tokens in e-mail body (max_tokens_len) and pad indexes of word2vec (tokenized_body_indexed) to ensure fixed size of all sequences.\n",
        "\n",
        "We use value=vocab_len which is 72584 (word2vec vocab size), to ensure that padded value won't appear in word2vec indices."
      ]
    },
    {
      "cell_type": "code",
      "execution_count": null,
      "metadata": {
        "id": "XkqMH58zoWIS"
      },
      "outputs": [],
      "source": [
        "max_tokens_len = df_whole_dataset_drop['tokenized_body'].apply(len).max()"
      ]
    },
    {
      "cell_type": "code",
      "execution_count": null,
      "metadata": {
        "colab": {
          "base_uri": "https://localhost:8080/"
        },
        "id": "A5k-y1U0oWIT",
        "outputId": "95590a5e-542f-4123-a674-c40dbec0d62a"
      },
      "outputs": [
        {
          "data": {
            "text/plain": [
              "55231"
            ]
          },
          "execution_count": 4,
          "metadata": {},
          "output_type": "execute_result"
        }
      ],
      "source": [
        "max_tokens_len "
      ]
    },
    {
      "cell_type": "code",
      "execution_count": null,
      "metadata": {
        "id": "gLkdAM_Hp5ig"
      },
      "outputs": [],
      "source": [
        "from tensorflow.keras.preprocessing.sequence import pad_sequences\n",
        "\n",
        "padded_sequences = pad_sequences(df_whole_dataset_drop['tokenized_body_indexed'], maxlen=max_tokens_len, padding='post', value=vocab_len)"
      ]
    },
    {
      "cell_type": "code",
      "execution_count": null,
      "metadata": {
        "colab": {
          "base_uri": "https://localhost:8080/"
        },
        "id": "-9ZGBFczqk8b",
        "outputId": "aba5aa34-af3a-40e3-d422-7e8ea103f6ea"
      },
      "outputs": [
        {
          "data": {
            "text/plain": [
              "array([[  111,  1851,     1, ..., 72584, 72584, 72584],\n",
              "       [  169,  9578,   249, ..., 72584, 72584, 72584],\n",
              "       [  169,  9578,   249, ..., 72584, 72584, 72584],\n",
              "       ...,\n",
              "       [ 3920,   321,  8045, ..., 72584, 72584, 72584],\n",
              "       [ 2581,  2793,     5, ..., 72584, 72584, 72584],\n",
              "       [  414,   128,   220, ..., 72584, 72584, 72584]], dtype=int32)"
            ]
          },
          "execution_count": 13,
          "metadata": {},
          "output_type": "execute_result"
        }
      ],
      "source": [
        "padded_sequences"
      ]
    },
    {
      "cell_type": "code",
      "execution_count": null,
      "metadata": {
        "id": "mohuhal0qsFM"
      },
      "outputs": [],
      "source": [
        "import numpy as np\n",
        "np.savez_compressed('/content/drive/MyDrive/phishing_detection_colab/datasets/padded_sequences.npz', my_array=padded_sequences)"
      ]
    },
    {
      "cell_type": "markdown",
      "metadata": {
        "id": "NKHf0buQ0n7g"
      },
      "source": [
        "Loading below data consumes about 20 GB of RAM."
      ]
    },
    {
      "cell_type": "code",
      "execution_count": null,
      "metadata": {
        "id": "bpN9kfQItecT"
      },
      "outputs": [],
      "source": [
        "import numpy as np\n",
        "loaded_data = np.load('/content/drive/MyDrive/phishing_detection_colab/datasets/padded_sequences.npz')\n",
        "padded_sequences= loaded_data['my_array']"
      ]
    },
    {
      "cell_type": "code",
      "execution_count": null,
      "metadata": {
        "colab": {
          "base_uri": "https://localhost:8080/"
        },
        "id": "I_2QdKuYv60Q",
        "outputId": "e54ca717-eee7-4901-c6f0-1f3a90a2ff4e"
      },
      "outputs": [
        {
          "data": {
            "text/plain": [
              "array([[  111,  1851,     1, ..., 72584, 72584, 72584],\n",
              "       [  169,  9578,   249, ..., 72584, 72584, 72584],\n",
              "       [  169,  9578,   249, ..., 72584, 72584, 72584],\n",
              "       ...,\n",
              "       [ 3920,   321,  8045, ..., 72584, 72584, 72584],\n",
              "       [ 2581,  2793,     5, ..., 72584, 72584, 72584],\n",
              "       [  414,   128,   220, ..., 72584, 72584, 72584]], dtype=int32)"
            ]
          },
          "execution_count": 17,
          "metadata": {},
          "output_type": "execute_result"
        }
      ],
      "source": [
        "padded_sequences"
      ]
    },
    {
      "cell_type": "code",
      "execution_count": null,
      "metadata": {
        "colab": {
          "base_uri": "https://localhost:8080/"
        },
        "id": "GzRlwyNIvgI_",
        "outputId": "b3ab1df4-3e2e-4a32-a44c-52a0314fc334"
      },
      "outputs": [
        {
          "data": {
            "text/plain": [
              "5934184333"
            ]
          },
          "execution_count": 16,
          "metadata": {},
          "output_type": "execute_result"
        }
      ],
      "source": [
        "padded_sequences.size"
      ]
    },
    {
      "cell_type": "markdown",
      "metadata": {
        "id": "0ecKTO37jjXi"
      },
      "source": [
        "# 4. Creating Bi-LSTM neural network."
      ]
    },
    {
      "cell_type": "markdown",
      "metadata": {
        "id": "6A4UG3U8s5fj"
      },
      "source": [
        "Initialize embedding matrix and embedding layer."
      ]
    },
    {
      "cell_type": "code",
      "execution_count": 42,
      "metadata": {
        "id": "w-HB9B2fs7TD"
      },
      "outputs": [],
      "source": [
        "import numpy as np\n",
        "\n",
        "embedding_dim = word2vec_model.vector_size\n",
        "embedding_matrix = np.zeros((special_index + 1, embedding_dim))\n",
        "\n",
        "for word, idx in word2vec_model.wv.key_to_index.items():\n",
        "  embedding_matrix[idx] = word2vec_model.wv[word]"
      ]
    },
    {
      "cell_type": "code",
      "execution_count": 43,
      "metadata": {
        "colab": {
          "base_uri": "https://localhost:8080/"
        },
        "id": "XkU85Fg36Sul",
        "outputId": "07adf5bf-651d-4269-c891-7bcc4eb37158"
      },
      "outputs": [
        {
          "data": {
            "text/plain": [
              "200"
            ]
          },
          "execution_count": 43,
          "metadata": {},
          "output_type": "execute_result"
        }
      ],
      "source": [
        "embedding_dim"
      ]
    },
    {
      "cell_type": "code",
      "execution_count": null,
      "metadata": {
        "id": "zQL8gxy36aW1"
      },
      "outputs": [],
      "source": [
        "np.savez_compressed('/content/drive/MyDrive/phishing_detection_colab/datasets/embedding_matrix.npz', my_array=embedding_matrix)"
      ]
    },
    {
      "cell_type": "code",
      "execution_count": 44,
      "metadata": {
        "id": "MAnq4tTBvO3f"
      },
      "outputs": [],
      "source": [
        "np.savez_compressed('/content/drive/MyDrive/phishing_detection_colab/datasets/embedding_matrix_10001.npz', my_array=embedding_matrix)"
      ]
    },
    {
      "cell_type": "markdown",
      "metadata": {
        "id": "8cQyPW9CryrM"
      },
      "source": [
        "Split dataset into train and test, about 46 GB of RAM used."
      ]
    },
    {
      "cell_type": "code",
      "execution_count": null,
      "metadata": {
        "id": "R7Q15ARdr0mj"
      },
      "outputs": [],
      "source": [
        "random_seed = 1337\n",
        "from sklearn.model_selection import train_test_split\n",
        "\n",
        "X = padded_sequences\n",
        "y = df_whole_dataset_drop['is_phishing'].values\n",
        "\n",
        "X_train, X_test, y_train, y_test = train_test_split(X, y, test_size=0.2, random_state=random_seed)"
      ]
    },
    {
      "cell_type": "markdown",
      "metadata": {
        "id": "451pNlq-37zu"
      },
      "source": [
        "Delete variables from memory to free up RAM memory and save train and test data."
      ]
    },
    {
      "cell_type": "code",
      "execution_count": null,
      "metadata": {
        "colab": {
          "base_uri": "https://localhost:8080/"
        },
        "id": "L1P48r0l4OZm",
        "outputId": "2b1b71f7-4cb7-4109-c464-41028fdf19c8"
      },
      "outputs": [
        {
          "data": {
            "text/plain": [
              "0"
            ]
          },
          "execution_count": 7,
          "metadata": {},
          "output_type": "execute_result"
        }
      ],
      "source": [
        "import gc\n",
        "del X\n",
        "del y\n",
        "del padded_sequences\n",
        "del loaded_data\n",
        "del df_whole_dataset_drop\n",
        "del word2vec_model\n",
        "gc.collect()"
      ]
    },
    {
      "cell_type": "markdown",
      "metadata": {
        "id": "M-42Jpo14s9A"
      },
      "source": [
        "Above operations clear up about 20 GB of RAM memory."
      ]
    },
    {
      "cell_type": "code",
      "execution_count": null,
      "metadata": {
        "id": "7pyRXOJdr1_z"
      },
      "outputs": [],
      "source": [
        "import tensorflow as tf\n",
        "train_data = tf.data.Dataset.from_tensor_slices((X_train, y_train))"
      ]
    },
    {
      "cell_type": "markdown",
      "metadata": {
        "id": "ZXlowzY940ZG"
      },
      "source": [
        "Perform freeing memory as well, after below operations, about 26.9 GB of RAM is used."
      ]
    },
    {
      "cell_type": "code",
      "execution_count": null,
      "metadata": {
        "colab": {
          "base_uri": "https://localhost:8080/"
        },
        "id": "Jud089ko44u4",
        "outputId": "a4bfffa3-61c7-44f7-d4da-ae48c8664ccb"
      },
      "outputs": [
        {
          "data": {
            "text/plain": [
              "41"
            ]
          },
          "execution_count": 9,
          "metadata": {},
          "output_type": "execute_result"
        }
      ],
      "source": [
        "del X_train\n",
        "del y_train\n",
        "gc.collect()"
      ]
    },
    {
      "cell_type": "code",
      "execution_count": null,
      "metadata": {
        "id": "2b4HCjQu2kU3"
      },
      "outputs": [],
      "source": [
        "batch_size = 32\n",
        "buffer_size = 10000\n",
        "train_data = train_data.shuffle(buffer_size).batch(batch_size).prefetch(buffer_size)"
      ]
    },
    {
      "cell_type": "markdown",
      "metadata": {
        "id": "RR0N4b-b1wd_"
      },
      "source": [
        "With using the deleting variable and running garbage collection technique, train data is saved succesfully (takes about 40 GB of RAM)"
      ]
    },
    {
      "cell_type": "code",
      "execution_count": null,
      "metadata": {
        "id": "42ccPAj_1yjH"
      },
      "outputs": [],
      "source": [
        "train_data.save('/content/drive/MyDrive/phishing_detection_colab/datasets/train_data_not_corrupted')"
      ]
    },
    {
      "cell_type": "markdown",
      "metadata": {
        "id": "o-g5xLgf5sqG"
      },
      "source": [
        "Now delete the train_data and perform same operations on test_data."
      ]
    },
    {
      "cell_type": "code",
      "execution_count": null,
      "metadata": {
        "colab": {
          "base_uri": "https://localhost:8080/"
        },
        "id": "RSRB1kBt5v1d",
        "outputId": "f713af86-5388-4c56-d1f0-773dea1c5ab3"
      },
      "outputs": [
        {
          "data": {
            "text/plain": [
              "0"
            ]
          },
          "execution_count": 12,
          "metadata": {},
          "output_type": "execute_result"
        }
      ],
      "source": [
        "del train_data\n",
        "gc.collect()"
      ]
    },
    {
      "cell_type": "code",
      "execution_count": null,
      "metadata": {
        "id": "mxa1cwiz2h2c"
      },
      "outputs": [],
      "source": [
        "test_data = tf.data.Dataset.from_tensor_slices((X_test, y_test))"
      ]
    },
    {
      "cell_type": "code",
      "execution_count": null,
      "metadata": {
        "colab": {
          "base_uri": "https://localhost:8080/"
        },
        "id": "eBwU80Xk518t",
        "outputId": "e0fe23aa-cdb2-4b11-a454-e54d5209202e"
      },
      "outputs": [
        {
          "data": {
            "text/plain": [
              "0"
            ]
          },
          "execution_count": 14,
          "metadata": {},
          "output_type": "execute_result"
        }
      ],
      "source": [
        "del X_test\n",
        "del y_test\n",
        "gc.collect()"
      ]
    },
    {
      "cell_type": "code",
      "execution_count": null,
      "metadata": {
        "id": "cZnbU7Eh2mze"
      },
      "outputs": [],
      "source": [
        "test_data = test_data.batch(batch_size).prefetch(buffer_size)"
      ]
    },
    {
      "cell_type": "code",
      "execution_count": null,
      "metadata": {
        "id": "FssfJiww5909"
      },
      "outputs": [],
      "source": [
        "test_data.save('/content/drive/MyDrive/phishing_detection_colab/datasets/test_data_not_corrupted')"
      ]
    },
    {
      "cell_type": "markdown",
      "metadata": {
        "id": "YnXd_x_vj1ai"
      },
      "source": [
        "## Loading all inputs to neural network and performing training."
      ]
    },
    {
      "cell_type": "markdown",
      "metadata": {
        "id": "_tCl6AdM6Jv2"
      },
      "source": [
        "Now load the train_data and test_data only as long with other variables used in embedding layer.\n",
        "\n",
        "Finally we have a dataset of 107443 rows (each row is one e-mail) and 55231 columns (each column represent word used as embedding)\n",
        "\n",
        "Initalize models.\n"
      ]
    },
    {
      "attachments": {},
      "cell_type": "markdown",
      "metadata": {},
      "source": [
        "For colab"
      ]
    },
    {
      "cell_type": "code",
      "execution_count": 1,
      "metadata": {},
      "outputs": [],
      "source": [
        "path_embedding_matrix = '/content/drive/MyDrive/phishing_detection_colab/datasets/embedding_matrix_10001.npz'\n",
        "path_train_data = '/content/drive/MyDrive/phishing_detection_colab/datasets/train_data_not_corrupted'\n",
        "path_test_data = '/content/drive/MyDrive/phishing_detection_colab/datasets/test_data_not_corrupted'"
      ]
    },
    {
      "cell_type": "markdown",
      "metadata": {},
      "source": [
        "For local"
      ]
    },
    {
      "cell_type": "code",
      "execution_count": 2,
      "metadata": {},
      "outputs": [],
      "source": [
        "path_embedding_matrix = 'bi_lstm_datasets\\embedding_matrix_10001.npz'\n",
        "path_train_data = 'bi_lstm_datasets\\data_train'\n",
        "path_test_data = 'bi_lstm_datasets\\data_test'"
      ]
    },
    {
      "cell_type": "code",
      "execution_count": 3,
      "metadata": {
        "id": "jfTQFKw86xIe"
      },
      "outputs": [],
      "source": [
        "import numpy as np\n",
        "vocab_len=72584 + 10001 # word2vec vocabulary size, added 10001 to ensure compatibility with embedding matrix (using special index vocab_len + 10001 for OOV)\n",
        "embedding_dim=200 # dimensionality of word vector\n",
        "max_tokens_len=55231 # maximum number of tokens \n",
        "#embedding_matrix_load=np.load('/content/drive/MyDrive/phishing_detection_colab/datasets/embedding_matrix.npz')\n",
        "embedding_matrix_load=np.load(path_embedding_matrix) \n",
        "embedding_matrix = embedding_matrix_load['my_array'] # embedding matrix"
      ]
    },
    {
      "cell_type": "markdown",
      "metadata": {
        "id": "aJu9jxZXBOWr"
      },
      "source": [
        "Below, train_data and test_data takes about 1 GB of RAM."
      ]
    },
    {
      "cell_type": "code",
      "execution_count": 4,
      "metadata": {
        "id": "y-hyqWCS9mKd"
      },
      "outputs": [],
      "source": [
        "import tensorflow as tf\n",
        "train_data=tf.data.Dataset.load(path_train_data)"
      ]
    },
    {
      "cell_type": "code",
      "execution_count": 5,
      "metadata": {
        "id": "z9pjy-yQ9nOV"
      },
      "outputs": [],
      "source": [
        "test_data=tf.data.Dataset.load(path_test_data)"
      ]
    },
    {
      "attachments": {},
      "cell_type": "markdown",
      "metadata": {},
      "source": [
        "Note: added to test if GPU can handle this"
      ]
    },
    {
      "cell_type": "code",
      "execution_count": 6,
      "metadata": {},
      "outputs": [],
      "source": [
        "unbatched_train_data = train_data.unbatch()\n",
        "unbatched_test_data = test_data.unbatch()"
      ]
    },
    {
      "cell_type": "code",
      "execution_count": 7,
      "metadata": {},
      "outputs": [
        {
          "data": {
            "text/plain": [
              "<_UnbatchDataset element_spec=(TensorSpec(shape=(55231,), dtype=tf.int32, name=None), TensorSpec(shape=(), dtype=tf.bool, name=None))>"
            ]
          },
          "execution_count": 7,
          "metadata": {},
          "output_type": "execute_result"
        }
      ],
      "source": [
        "unbatched_train_data"
      ]
    },
    {
      "cell_type": "code",
      "execution_count": 8,
      "metadata": {},
      "outputs": [
        {
          "data": {
            "text/plain": [
              "<_UnbatchDataset element_spec=(TensorSpec(shape=(55231,), dtype=tf.int32, name=None), TensorSpec(shape=(), dtype=tf.bool, name=None))>"
            ]
          },
          "execution_count": 8,
          "metadata": {},
          "output_type": "execute_result"
        }
      ],
      "source": [
        "unbatched_test_data"
      ]
    },
    {
      "cell_type": "code",
      "execution_count": 9,
      "metadata": {},
      "outputs": [],
      "source": [
        "batch_size = 7\n",
        "buffer_size = 10000\n",
        "train_data = unbatched_train_data.shuffle(buffer_size).batch(batch_size).prefetch(buffer_size)\n",
        "test_data = unbatched_test_data.batch(batch_size).prefetch(buffer_size)"
      ]
    },
    {
      "cell_type": "code",
      "execution_count": 10,
      "metadata": {
        "colab": {
          "base_uri": "https://localhost:8080/"
        },
        "id": "vFS3JQuVRt2K",
        "outputId": "f1ea0c72-e5ef-4c9f-d566-71f4297de48f"
      },
      "outputs": [
        {
          "data": {
            "text/plain": [
              "<PrefetchDataset element_spec=(TensorSpec(shape=(None, 55231), dtype=tf.int32, name=None), TensorSpec(shape=(None,), dtype=tf.bool, name=None))>"
            ]
          },
          "execution_count": 10,
          "metadata": {},
          "output_type": "execute_result"
        }
      ],
      "source": [
        "train_data"
      ]
    },
    {
      "cell_type": "code",
      "execution_count": 11,
      "metadata": {
        "colab": {
          "base_uri": "https://localhost:8080/"
        },
        "id": "P4Lphp9DSN5R",
        "outputId": "d8237ffc-dff4-4d9f-9def-6949c0e95147"
      },
      "outputs": [
        {
          "data": {
            "text/plain": [
              "<PrefetchDataset element_spec=(TensorSpec(shape=(None, 55231), dtype=tf.int32, name=None), TensorSpec(shape=(None,), dtype=tf.bool, name=None))>"
            ]
          },
          "execution_count": 11,
          "metadata": {},
          "output_type": "execute_result"
        }
      ],
      "source": [
        "test_data"
      ]
    },
    {
      "cell_type": "code",
      "execution_count": 12,
      "metadata": {
        "id": "Q-uR_uqasiVQ"
      },
      "outputs": [],
      "source": [
        "from tensorflow.keras.models import Sequential\n",
        "from tensorflow.keras.layers import Embedding, Bidirectional, LSTM, Dense, Dropout\n",
        "\n",
        "model = Sequential([\n",
        "    Embedding(input_dim=vocab_len, output_dim=embedding_dim, input_length=max_tokens_len, weights=[embedding_matrix], trainable=False),\n",
        "    Bidirectional(LSTM(units=64)),\n",
        "    Dropout(0.2),\n",
        "    Dense(1, activation='sigmoid')\n",
        "])\n"
      ]
    },
    {
      "cell_type": "code",
      "execution_count": null,
      "metadata": {
        "id": "lpOa4IpSQNkb"
      },
      "outputs": [],
      "source": [
        "!pip install tf-nightly"
      ]
    },
    {
      "cell_type": "code",
      "execution_count": 13,
      "metadata": {
        "id": "7LKOMP7YPf1j"
      },
      "outputs": [],
      "source": [
        "import tensorflow as tf\n",
        "precision_metric = tf.keras.metrics.Precision(name='precision')\n",
        "recall_metric = tf.keras.metrics.Recall(name='recall')\n",
        "# f1_metric = tf.keras.metrics.F1Score(threshold=0.5)"
      ]
    },
    {
      "cell_type": "code",
      "execution_count": 14,
      "metadata": {
        "id": "G4vSqpixAt4t"
      },
      "outputs": [],
      "source": [
        "model.compile(optimizer='adam', loss='binary_crossentropy', metrics=[precision_metric, recall_metric])"
      ]
    },
    {
      "cell_type": "code",
      "execution_count": 15,
      "metadata": {},
      "outputs": [],
      "source": [
        "%load_ext tensorboard"
      ]
    },
    {
      "cell_type": "code",
      "execution_count": 16,
      "metadata": {},
      "outputs": [],
      "source": [
        "import datetime\n",
        "log_dir = \"logs\\\\fit\\\\\" + datetime.datetime.now().strftime(\"%Y%m%d-%H%M%S\")\n",
        "tensorboard_callback = tf.keras.callbacks.TensorBoard(log_dir=log_dir, histogram_freq=1)"
      ]
    },
    {
      "cell_type": "markdown",
      "metadata": {
        "id": "kMhBR9fqQqlB"
      },
      "source": [
        "10 gb of ram,\n",
        "33.5 gb of gpu\n",
        "is used"
      ]
    },
    {
      "cell_type": "code",
      "execution_count": 17,
      "metadata": {
        "colab": {
          "base_uri": "https://localhost:8080/"
        },
        "id": "CaLpzxIztFjB",
        "outputId": "65a76e42-fc03-4fcf-f23d-c6b36af1c941"
      },
      "outputs": [
        {
          "name": "stdout",
          "output_type": "stream",
          "text": [
            "Epoch 1/5\n"
          ]
        },
        {
          "ename": "InternalError",
          "evalue": "Graph execution error:\n\nFailed to call ThenRnnForward with model config: [rnn_mode, rnn_input_mode, rnn_direction_mode]: 2, 0, 0 , [num_layers, input_size, num_units, dir_count, max_seq_length, batch_size, cell_num_units]: [1, 200, 64, 1, 55231, 7, 64] \n\t [[{{node CudnnRNN}}]]\n\t [[sequential/bidirectional/forward_lstm/PartitionedCall]] [Op:__inference_train_function_5940]",
          "output_type": "error",
          "traceback": [
            "\u001b[1;31m---------------------------------------------------------------------------\u001b[0m",
            "\u001b[1;31mInternalError\u001b[0m                             Traceback (most recent call last)",
            "File \u001b[1;32m<timed eval>:1\u001b[0m\n",
            "File \u001b[1;32mc:\\Users\\rwole\\miniconda3\\envs\\tf\\lib\\site-packages\\keras\\utils\\traceback_utils.py:70\u001b[0m, in \u001b[0;36mfilter_traceback.<locals>.error_handler\u001b[1;34m(*args, **kwargs)\u001b[0m\n\u001b[0;32m     67\u001b[0m     filtered_tb \u001b[39m=\u001b[39m _process_traceback_frames(e\u001b[39m.\u001b[39m__traceback__)\n\u001b[0;32m     68\u001b[0m     \u001b[39m# To get the full stack trace, call:\u001b[39;00m\n\u001b[0;32m     69\u001b[0m     \u001b[39m# `tf.debugging.disable_traceback_filtering()`\u001b[39;00m\n\u001b[1;32m---> 70\u001b[0m     \u001b[39mraise\u001b[39;00m e\u001b[39m.\u001b[39mwith_traceback(filtered_tb) \u001b[39mfrom\u001b[39;00m \u001b[39mNone\u001b[39;00m\n\u001b[0;32m     71\u001b[0m \u001b[39mfinally\u001b[39;00m:\n\u001b[0;32m     72\u001b[0m     \u001b[39mdel\u001b[39;00m filtered_tb\n",
            "File \u001b[1;32mc:\\Users\\rwole\\miniconda3\\envs\\tf\\lib\\site-packages\\tensorflow\\python\\eager\\execute.py:54\u001b[0m, in \u001b[0;36mquick_execute\u001b[1;34m(op_name, num_outputs, inputs, attrs, ctx, name)\u001b[0m\n\u001b[0;32m     52\u001b[0m \u001b[39mtry\u001b[39;00m:\n\u001b[0;32m     53\u001b[0m   ctx\u001b[39m.\u001b[39mensure_initialized()\n\u001b[1;32m---> 54\u001b[0m   tensors \u001b[39m=\u001b[39m pywrap_tfe\u001b[39m.\u001b[39mTFE_Py_Execute(ctx\u001b[39m.\u001b[39m_handle, device_name, op_name,\n\u001b[0;32m     55\u001b[0m                                       inputs, attrs, num_outputs)\n\u001b[0;32m     56\u001b[0m \u001b[39mexcept\u001b[39;00m core\u001b[39m.\u001b[39m_NotOkStatusException \u001b[39mas\u001b[39;00m e:\n\u001b[0;32m     57\u001b[0m   \u001b[39mif\u001b[39;00m name \u001b[39mis\u001b[39;00m \u001b[39mnot\u001b[39;00m \u001b[39mNone\u001b[39;00m:\n",
            "\u001b[1;31mInternalError\u001b[0m: Graph execution error:\n\nFailed to call ThenRnnForward with model config: [rnn_mode, rnn_input_mode, rnn_direction_mode]: 2, 0, 0 , [num_layers, input_size, num_units, dir_count, max_seq_length, batch_size, cell_num_units]: [1, 200, 64, 1, 55231, 7, 64] \n\t [[{{node CudnnRNN}}]]\n\t [[sequential/bidirectional/forward_lstm/PartitionedCall]] [Op:__inference_train_function_5940]"
          ]
        }
      ],
      "source": [
        "%%time\n",
        "model.fit(train_data, epochs=5, validation_data=test_data, callbacks=[tensorboard_callback])"
      ]
    },
    {
      "cell_type": "code",
      "execution_count": null,
      "metadata": {
        "id": "FXz_qj6_tThM"
      },
      "outputs": [],
      "source": [
        "test_loss, test_precision, test_recall = model.evaluate(test_data)\n",
        "print(\"Test loss:\", test_loss)\n",
        "print(\"Test precision:\", test_precision)\n",
        "print(\"Test recall:\", test_recall)\n"
      ]
    },
    {
      "cell_type": "code",
      "execution_count": null,
      "metadata": {
        "id": "l1faeeuzpaFM"
      },
      "outputs": [],
      "source": [
        "!apt-get install texlive texlive-xetex texlive-latex-extra pandoc\n",
        "!pip install pypandoc"
      ]
    },
    {
      "cell_type": "code",
      "execution_count": null,
      "metadata": {
        "id": "8lfSSCkwoxYR"
      },
      "outputs": [],
      "source": [
        "!cp drive/MyDrive/ColabNotebooks/Kopianotatnikamodel.ipynb ./"
      ]
    },
    {
      "cell_type": "code",
      "execution_count": null,
      "metadata": {
        "colab": {
          "base_uri": "https://localhost:8080/"
        },
        "id": "BhStKxaHoR2R",
        "outputId": "35480c18-51cb-4127-ce19-db88f7f295c6"
      },
      "outputs": [
        {
          "name": "stdout",
          "output_type": "stream",
          "text": [
            "[NbConvertApp] Converting notebook Kopianotatnikamodel.ipynb to pdf\n",
            "[NbConvertApp] Writing 89173 bytes to notebook.tex\n",
            "[NbConvertApp] Building PDF\n",
            "[NbConvertApp] Running xelatex 3 times: ['xelatex', 'notebook.tex', '-quiet']\n",
            "[NbConvertApp] Running bibtex 1 time: ['bibtex', 'notebook']\n",
            "[NbConvertApp] WARNING | bibtex had problems, most likely because there were no citations\n",
            "[NbConvertApp] PDF successfully created\n",
            "[NbConvertApp] Writing 85562 bytes to Kopianotatnikamodel.pdf\n"
          ]
        }
      ],
      "source": [
        "!jupyter nbconvert --to pdf \"Kopianotatnikamodel.ipynb\"\n"
      ]
    },
    {
      "cell_type": "code",
      "execution_count": 1,
      "metadata": {
        "id": "dy0h998WobCV"
      },
      "outputs": [
        {
          "ename": "AttributeError",
          "evalue": "module 'tensorflow.compat.v2.__internal__' has no attribute 'register_load_context_function'",
          "output_type": "error",
          "traceback": [
            "\u001b[1;31m---------------------------------------------------------------------------\u001b[0m",
            "\u001b[1;31mAttributeError\u001b[0m                            Traceback (most recent call last)",
            "Cell \u001b[1;32mIn[1], line 1\u001b[0m\n\u001b[1;32m----> 1\u001b[0m \u001b[39mimport\u001b[39;00m \u001b[39mtensorflow\u001b[39;00m \u001b[39mas\u001b[39;00m \u001b[39mtf\u001b[39;00m\n\u001b[0;32m      2\u001b[0m \u001b[39mprint\u001b[39m(tf\u001b[39m.\u001b[39m __version__)\n",
            "File \u001b[1;32mc:\\Users\\rwole\\miniconda3\\envs\\tf\\lib\\site-packages\\tensorflow\\__init__.py:469\u001b[0m\n\u001b[0;32m    467\u001b[0m \u001b[39mif\u001b[39;00m \u001b[39mhasattr\u001b[39m(_current_module, \u001b[39m\"\u001b[39m\u001b[39mkeras\u001b[39m\u001b[39m\"\u001b[39m):\n\u001b[0;32m    468\u001b[0m   \u001b[39mtry\u001b[39;00m:\n\u001b[1;32m--> 469\u001b[0m     _keras\u001b[39m.\u001b[39;49m_load()\n\u001b[0;32m    470\u001b[0m   \u001b[39mexcept\u001b[39;00m \u001b[39mImportError\u001b[39;00m:\n\u001b[0;32m    471\u001b[0m     \u001b[39mpass\u001b[39;00m\n",
            "File \u001b[1;32mc:\\Users\\rwole\\miniconda3\\envs\\tf\\lib\\site-packages\\tensorflow\\python\\util\\lazy_loader.py:41\u001b[0m, in \u001b[0;36mLazyLoader._load\u001b[1;34m(self)\u001b[0m\n\u001b[0;32m     39\u001b[0m \u001b[39m\u001b[39m\u001b[39m\"\"\"Load the module and insert it into the parent's globals.\"\"\"\u001b[39;00m\n\u001b[0;32m     40\u001b[0m \u001b[39m# Import the target module and insert it into the parent's namespace\u001b[39;00m\n\u001b[1;32m---> 41\u001b[0m module \u001b[39m=\u001b[39m importlib\u001b[39m.\u001b[39;49mimport_module(\u001b[39mself\u001b[39;49m\u001b[39m.\u001b[39;49m\u001b[39m__name__\u001b[39;49m)\n\u001b[0;32m     42\u001b[0m \u001b[39mself\u001b[39m\u001b[39m.\u001b[39m_parent_module_globals[\u001b[39mself\u001b[39m\u001b[39m.\u001b[39m_local_name] \u001b[39m=\u001b[39m module\n\u001b[0;32m     44\u001b[0m \u001b[39m# Emit a warning if one was specified\u001b[39;00m\n",
            "File \u001b[1;32mc:\\Users\\rwole\\miniconda3\\envs\\tf\\lib\\importlib\\__init__.py:127\u001b[0m, in \u001b[0;36mimport_module\u001b[1;34m(name, package)\u001b[0m\n\u001b[0;32m    125\u001b[0m             \u001b[39mbreak\u001b[39;00m\n\u001b[0;32m    126\u001b[0m         level \u001b[39m+\u001b[39m\u001b[39m=\u001b[39m \u001b[39m1\u001b[39m\n\u001b[1;32m--> 127\u001b[0m \u001b[39mreturn\u001b[39;00m _bootstrap\u001b[39m.\u001b[39;49m_gcd_import(name[level:], package, level)\n",
            "File \u001b[1;32mc:\\Users\\rwole\\miniconda3\\envs\\tf\\lib\\site-packages\\keras\\__init__.py:20\u001b[0m\n\u001b[0;32m      1\u001b[0m \u001b[39m# Copyright 2015 The TensorFlow Authors. All Rights Reserved.\u001b[39;00m\n\u001b[0;32m      2\u001b[0m \u001b[39m#\u001b[39;00m\n\u001b[0;32m      3\u001b[0m \u001b[39m# Licensed under the Apache License, Version 2.0 (the \"License\");\u001b[39;00m\n\u001b[1;32m   (...)\u001b[0m\n\u001b[0;32m     13\u001b[0m \u001b[39m# limitations under the License.\u001b[39;00m\n\u001b[0;32m     14\u001b[0m \u001b[39m# ==============================================================================\u001b[39;00m\n\u001b[0;32m     15\u001b[0m \u001b[39m\"\"\"Implementation of the Keras API, the high-level API of TensorFlow.\u001b[39;00m\n\u001b[0;32m     16\u001b[0m \n\u001b[0;32m     17\u001b[0m \u001b[39mDetailed documentation and user guides are available at\u001b[39;00m\n\u001b[0;32m     18\u001b[0m \u001b[39m[keras.io](https://keras.io).\u001b[39;00m\n\u001b[0;32m     19\u001b[0m \u001b[39m\"\"\"\u001b[39;00m\n\u001b[1;32m---> 20\u001b[0m \u001b[39mfrom\u001b[39;00m \u001b[39mkeras\u001b[39;00m \u001b[39mimport\u001b[39;00m distribute\n\u001b[0;32m     21\u001b[0m \u001b[39mfrom\u001b[39;00m \u001b[39mkeras\u001b[39;00m \u001b[39mimport\u001b[39;00m models\n\u001b[0;32m     22\u001b[0m \u001b[39mfrom\u001b[39;00m \u001b[39mkeras\u001b[39;00m\u001b[39m.\u001b[39;00m\u001b[39mengine\u001b[39;00m\u001b[39m.\u001b[39;00m\u001b[39minput_layer\u001b[39;00m \u001b[39mimport\u001b[39;00m Input\n",
            "File \u001b[1;32mc:\\Users\\rwole\\miniconda3\\envs\\tf\\lib\\site-packages\\keras\\distribute\\__init__.py:18\u001b[0m\n\u001b[0;32m      1\u001b[0m \u001b[39m# Copyright 2019 The TensorFlow Authors. All Rights Reserved.\u001b[39;00m\n\u001b[0;32m      2\u001b[0m \u001b[39m#\u001b[39;00m\n\u001b[0;32m      3\u001b[0m \u001b[39m# Licensed under the Apache License, Version 2.0 (the \"License\");\u001b[39;00m\n\u001b[1;32m   (...)\u001b[0m\n\u001b[0;32m     13\u001b[0m \u001b[39m# limitations under the License.\u001b[39;00m\n\u001b[0;32m     14\u001b[0m \u001b[39m# ==============================================================================\u001b[39;00m\n\u001b[0;32m     15\u001b[0m \u001b[39m\"\"\"Keras' Distribution Strategy library.\"\"\"\u001b[39;00m\n\u001b[1;32m---> 18\u001b[0m \u001b[39mfrom\u001b[39;00m \u001b[39mkeras\u001b[39;00m\u001b[39m.\u001b[39;00m\u001b[39mdistribute\u001b[39;00m \u001b[39mimport\u001b[39;00m sidecar_evaluator\n",
            "File \u001b[1;32mc:\\Users\\rwole\\miniconda3\\envs\\tf\\lib\\site-packages\\keras\\distribute\\sidecar_evaluator.py:22\u001b[0m\n\u001b[0;32m     20\u001b[0m \u001b[39mfrom\u001b[39;00m \u001b[39mtensorflow\u001b[39;00m\u001b[39m.\u001b[39;00m\u001b[39mpython\u001b[39;00m\u001b[39m.\u001b[39;00m\u001b[39mplatform\u001b[39;00m \u001b[39mimport\u001b[39;00m tf_logging \u001b[39mas\u001b[39;00m logging\n\u001b[0;32m     21\u001b[0m \u001b[39mfrom\u001b[39;00m \u001b[39mtensorflow\u001b[39;00m\u001b[39m.\u001b[39;00m\u001b[39mpython\u001b[39;00m\u001b[39m.\u001b[39;00m\u001b[39mutil\u001b[39;00m \u001b[39mimport\u001b[39;00m deprecation\n\u001b[1;32m---> 22\u001b[0m \u001b[39mfrom\u001b[39;00m \u001b[39mkeras\u001b[39;00m\u001b[39m.\u001b[39;00m\u001b[39moptimizers\u001b[39;00m\u001b[39m.\u001b[39;00m\u001b[39moptimizer_experimental\u001b[39;00m \u001b[39mimport\u001b[39;00m (\n\u001b[0;32m     23\u001b[0m     optimizer \u001b[39mas\u001b[39;00m optimizer_experimental,\n\u001b[0;32m     24\u001b[0m )\n\u001b[0;32m     25\u001b[0m \u001b[39mfrom\u001b[39;00m \u001b[39mtensorflow\u001b[39;00m\u001b[39m.\u001b[39;00m\u001b[39mpython\u001b[39;00m\u001b[39m.\u001b[39;00m\u001b[39mutil\u001b[39;00m\u001b[39m.\u001b[39;00m\u001b[39mtf_export\u001b[39;00m \u001b[39mimport\u001b[39;00m keras_export\n\u001b[0;32m     27\u001b[0m _PRINT_EVAL_STEP_EVERY_SEC \u001b[39m=\u001b[39m \u001b[39m60.0\u001b[39m\n",
            "File \u001b[1;32mc:\\Users\\rwole\\miniconda3\\envs\\tf\\lib\\site-packages\\keras\\optimizers\\__init__.py:25\u001b[0m\n\u001b[0;32m     22\u001b[0m \u001b[39mimport\u001b[39;00m \u001b[39mtensorflow\u001b[39;00m\u001b[39m.\u001b[39;00m\u001b[39mcompat\u001b[39;00m\u001b[39m.\u001b[39;00m\u001b[39mv2\u001b[39;00m \u001b[39mas\u001b[39;00m \u001b[39mtf\u001b[39;00m\n\u001b[0;32m     24\u001b[0m \u001b[39m# Imports needed for deserialization.\u001b[39;00m\n\u001b[1;32m---> 25\u001b[0m \u001b[39mfrom\u001b[39;00m \u001b[39mkeras\u001b[39;00m \u001b[39mimport\u001b[39;00m backend\n\u001b[0;32m     26\u001b[0m \u001b[39mfrom\u001b[39;00m \u001b[39mkeras\u001b[39;00m\u001b[39m.\u001b[39;00m\u001b[39moptimizers\u001b[39;00m\u001b[39m.\u001b[39;00m\u001b[39mlegacy\u001b[39;00m \u001b[39mimport\u001b[39;00m adadelta \u001b[39mas\u001b[39;00m adadelta_legacy\n\u001b[0;32m     27\u001b[0m \u001b[39mfrom\u001b[39;00m \u001b[39mkeras\u001b[39;00m\u001b[39m.\u001b[39;00m\u001b[39moptimizers\u001b[39;00m\u001b[39m.\u001b[39;00m\u001b[39mlegacy\u001b[39;00m \u001b[39mimport\u001b[39;00m adagrad \u001b[39mas\u001b[39;00m adagrad_legacy\n",
            "File \u001b[1;32mc:\\Users\\rwole\\miniconda3\\envs\\tf\\lib\\site-packages\\keras\\backend\\__init__.py:3\u001b[0m\n\u001b[0;32m      1\u001b[0m \u001b[39m\"\"\"AUTOGENERATED. DO NOT EDIT.\"\"\"\u001b[39;00m\n\u001b[1;32m----> 3\u001b[0m \u001b[39mfrom\u001b[39;00m \u001b[39mkeras\u001b[39;00m\u001b[39m.\u001b[39;00m\u001b[39mbackend\u001b[39;00m \u001b[39mimport\u001b[39;00m experimental\n\u001b[0;32m      4\u001b[0m \u001b[39mfrom\u001b[39;00m \u001b[39mkeras\u001b[39;00m\u001b[39m.\u001b[39;00m\u001b[39msrc\u001b[39;00m\u001b[39m.\u001b[39;00m\u001b[39mbackend\u001b[39;00m \u001b[39mimport\u001b[39;00m \u001b[39mabs\u001b[39m\n\u001b[0;32m      5\u001b[0m \u001b[39mfrom\u001b[39;00m \u001b[39mkeras\u001b[39;00m\u001b[39m.\u001b[39;00m\u001b[39msrc\u001b[39;00m\u001b[39m.\u001b[39;00m\u001b[39mbackend\u001b[39;00m \u001b[39mimport\u001b[39;00m \u001b[39mall\u001b[39m\n",
            "File \u001b[1;32mc:\\Users\\rwole\\miniconda3\\envs\\tf\\lib\\site-packages\\keras\\backend\\experimental\\__init__.py:3\u001b[0m\n\u001b[0;32m      1\u001b[0m \u001b[39m\"\"\"AUTOGENERATED. DO NOT EDIT.\"\"\"\u001b[39;00m\n\u001b[1;32m----> 3\u001b[0m \u001b[39mfrom\u001b[39;00m \u001b[39mkeras\u001b[39;00m\u001b[39m.\u001b[39;00m\u001b[39msrc\u001b[39;00m\u001b[39m.\u001b[39;00m\u001b[39mbackend\u001b[39;00m \u001b[39mimport\u001b[39;00m disable_tf_random_generator\n\u001b[0;32m      4\u001b[0m \u001b[39mfrom\u001b[39;00m \u001b[39mkeras\u001b[39;00m\u001b[39m.\u001b[39;00m\u001b[39msrc\u001b[39;00m\u001b[39m.\u001b[39;00m\u001b[39mbackend\u001b[39;00m \u001b[39mimport\u001b[39;00m enable_tf_random_generator\n\u001b[0;32m      5\u001b[0m \u001b[39mfrom\u001b[39;00m \u001b[39mkeras\u001b[39;00m\u001b[39m.\u001b[39;00m\u001b[39msrc\u001b[39;00m\u001b[39m.\u001b[39;00m\u001b[39mbackend\u001b[39;00m \u001b[39mimport\u001b[39;00m is_tf_random_generator_enabled\n",
            "File \u001b[1;32mc:\\Users\\rwole\\miniconda3\\envs\\tf\\lib\\site-packages\\keras\\src\\__init__.py:21\u001b[0m\n\u001b[0;32m     15\u001b[0m \u001b[39m\"\"\"Implementation of the Keras API, the high-level API of TensorFlow.\u001b[39;00m\n\u001b[0;32m     16\u001b[0m \n\u001b[0;32m     17\u001b[0m \u001b[39mDetailed documentation and user guides are available at\u001b[39;00m\n\u001b[0;32m     18\u001b[0m \u001b[39m[keras.io](https://keras.io).\u001b[39;00m\n\u001b[0;32m     19\u001b[0m \u001b[39m\"\"\"\u001b[39;00m\n\u001b[0;32m     20\u001b[0m \u001b[39mfrom\u001b[39;00m \u001b[39mkeras\u001b[39;00m\u001b[39m.\u001b[39;00m\u001b[39msrc\u001b[39;00m \u001b[39mimport\u001b[39;00m distribute\n\u001b[1;32m---> 21\u001b[0m \u001b[39mfrom\u001b[39;00m \u001b[39mkeras\u001b[39;00m\u001b[39m.\u001b[39;00m\u001b[39msrc\u001b[39;00m \u001b[39mimport\u001b[39;00m models\n\u001b[0;32m     22\u001b[0m \u001b[39mfrom\u001b[39;00m \u001b[39mkeras\u001b[39;00m\u001b[39m.\u001b[39;00m\u001b[39msrc\u001b[39;00m\u001b[39m.\u001b[39;00m\u001b[39mengine\u001b[39;00m\u001b[39m.\u001b[39;00m\u001b[39minput_layer\u001b[39;00m \u001b[39mimport\u001b[39;00m Input\n\u001b[0;32m     23\u001b[0m \u001b[39mfrom\u001b[39;00m \u001b[39mkeras\u001b[39;00m\u001b[39m.\u001b[39;00m\u001b[39msrc\u001b[39;00m\u001b[39m.\u001b[39;00m\u001b[39mengine\u001b[39;00m\u001b[39m.\u001b[39;00m\u001b[39msequential\u001b[39;00m \u001b[39mimport\u001b[39;00m Sequential\n",
            "File \u001b[1;32mc:\\Users\\rwole\\miniconda3\\envs\\tf\\lib\\site-packages\\keras\\src\\models\\__init__.py:18\u001b[0m\n\u001b[0;32m      1\u001b[0m \u001b[39m# Copyright 2022 The TensorFlow Authors. All Rights Reserved.\u001b[39;00m\n\u001b[0;32m      2\u001b[0m \u001b[39m#\u001b[39;00m\n\u001b[0;32m      3\u001b[0m \u001b[39m# Licensed under the Apache License, Version 2.0 (the \"License\");\u001b[39;00m\n\u001b[1;32m   (...)\u001b[0m\n\u001b[0;32m     13\u001b[0m \u001b[39m# limitations under the License.\u001b[39;00m\n\u001b[0;32m     14\u001b[0m \u001b[39m# ==============================================================================\u001b[39;00m\n\u001b[0;32m     15\u001b[0m \u001b[39m\"\"\"Keras models API.\"\"\"\u001b[39;00m\n\u001b[1;32m---> 18\u001b[0m \u001b[39mfrom\u001b[39;00m \u001b[39mkeras\u001b[39;00m\u001b[39m.\u001b[39;00m\u001b[39msrc\u001b[39;00m\u001b[39m.\u001b[39;00m\u001b[39mengine\u001b[39;00m\u001b[39m.\u001b[39;00m\u001b[39mfunctional\u001b[39;00m \u001b[39mimport\u001b[39;00m Functional\n\u001b[0;32m     19\u001b[0m \u001b[39mfrom\u001b[39;00m \u001b[39mkeras\u001b[39;00m\u001b[39m.\u001b[39;00m\u001b[39msrc\u001b[39;00m\u001b[39m.\u001b[39;00m\u001b[39mengine\u001b[39;00m\u001b[39m.\u001b[39;00m\u001b[39msequential\u001b[39;00m \u001b[39mimport\u001b[39;00m Sequential\n\u001b[0;32m     20\u001b[0m \u001b[39mfrom\u001b[39;00m \u001b[39mkeras\u001b[39;00m\u001b[39m.\u001b[39;00m\u001b[39msrc\u001b[39;00m\u001b[39m.\u001b[39;00m\u001b[39mengine\u001b[39;00m\u001b[39m.\u001b[39;00m\u001b[39mtraining\u001b[39;00m \u001b[39mimport\u001b[39;00m Model\n",
            "File \u001b[1;32mc:\\Users\\rwole\\miniconda3\\envs\\tf\\lib\\site-packages\\keras\\src\\engine\\functional.py:33\u001b[0m\n\u001b[0;32m     31\u001b[0m \u001b[39mfrom\u001b[39;00m \u001b[39mkeras\u001b[39;00m\u001b[39m.\u001b[39;00m\u001b[39msrc\u001b[39;00m\u001b[39m.\u001b[39;00m\u001b[39mengine\u001b[39;00m \u001b[39mimport\u001b[39;00m input_spec\n\u001b[0;32m     32\u001b[0m \u001b[39mfrom\u001b[39;00m \u001b[39mkeras\u001b[39;00m\u001b[39m.\u001b[39;00m\u001b[39msrc\u001b[39;00m\u001b[39m.\u001b[39;00m\u001b[39mengine\u001b[39;00m \u001b[39mimport\u001b[39;00m node \u001b[39mas\u001b[39;00m node_module\n\u001b[1;32m---> 33\u001b[0m \u001b[39mfrom\u001b[39;00m \u001b[39mkeras\u001b[39;00m\u001b[39m.\u001b[39;00m\u001b[39msrc\u001b[39;00m\u001b[39m.\u001b[39;00m\u001b[39mengine\u001b[39;00m \u001b[39mimport\u001b[39;00m training \u001b[39mas\u001b[39;00m training_lib\n\u001b[0;32m     34\u001b[0m \u001b[39mfrom\u001b[39;00m \u001b[39mkeras\u001b[39;00m\u001b[39m.\u001b[39;00m\u001b[39msrc\u001b[39;00m\u001b[39m.\u001b[39;00m\u001b[39mengine\u001b[39;00m \u001b[39mimport\u001b[39;00m training_utils\n\u001b[0;32m     35\u001b[0m \u001b[39mfrom\u001b[39;00m \u001b[39mkeras\u001b[39;00m\u001b[39m.\u001b[39;00m\u001b[39msrc\u001b[39;00m\u001b[39m.\u001b[39;00m\u001b[39msaving\u001b[39;00m \u001b[39mimport\u001b[39;00m serialization_lib\n",
            "File \u001b[1;32mc:\\Users\\rwole\\miniconda3\\envs\\tf\\lib\\site-packages\\keras\\src\\engine\\training.py:41\u001b[0m\n\u001b[0;32m     39\u001b[0m \u001b[39mfrom\u001b[39;00m \u001b[39mkeras\u001b[39;00m\u001b[39m.\u001b[39;00m\u001b[39msrc\u001b[39;00m\u001b[39m.\u001b[39;00m\u001b[39moptimizers\u001b[39;00m \u001b[39mimport\u001b[39;00m optimizer_v1\n\u001b[0;32m     40\u001b[0m \u001b[39mfrom\u001b[39;00m \u001b[39mkeras\u001b[39;00m\u001b[39m.\u001b[39;00m\u001b[39msrc\u001b[39;00m\u001b[39m.\u001b[39;00m\u001b[39msaving\u001b[39;00m \u001b[39mimport\u001b[39;00m pickle_utils\n\u001b[1;32m---> 41\u001b[0m \u001b[39mfrom\u001b[39;00m \u001b[39mkeras\u001b[39;00m\u001b[39m.\u001b[39;00m\u001b[39msrc\u001b[39;00m\u001b[39m.\u001b[39;00m\u001b[39msaving\u001b[39;00m \u001b[39mimport\u001b[39;00m saving_api\n\u001b[0;32m     42\u001b[0m \u001b[39mfrom\u001b[39;00m \u001b[39mkeras\u001b[39;00m\u001b[39m.\u001b[39;00m\u001b[39msrc\u001b[39;00m\u001b[39m.\u001b[39;00m\u001b[39msaving\u001b[39;00m \u001b[39mimport\u001b[39;00m saving_lib\n\u001b[0;32m     43\u001b[0m \u001b[39mfrom\u001b[39;00m \u001b[39mkeras\u001b[39;00m\u001b[39m.\u001b[39;00m\u001b[39msrc\u001b[39;00m\u001b[39m.\u001b[39;00m\u001b[39msaving\u001b[39;00m \u001b[39mimport\u001b[39;00m serialization_lib\n",
            "File \u001b[1;32mc:\\Users\\rwole\\miniconda3\\envs\\tf\\lib\\site-packages\\keras\\src\\saving\\saving_api.py:25\u001b[0m\n\u001b[0;32m     22\u001b[0m \u001b[39mfrom\u001b[39;00m \u001b[39mtensorflow\u001b[39;00m\u001b[39m.\u001b[39;00m\u001b[39mpython\u001b[39;00m\u001b[39m.\u001b[39;00m\u001b[39mutil\u001b[39;00m\u001b[39m.\u001b[39;00m\u001b[39mtf_export\u001b[39;00m \u001b[39mimport\u001b[39;00m keras_export\n\u001b[0;32m     24\u001b[0m \u001b[39mfrom\u001b[39;00m \u001b[39mkeras\u001b[39;00m\u001b[39m.\u001b[39;00m\u001b[39msrc\u001b[39;00m\u001b[39m.\u001b[39;00m\u001b[39msaving\u001b[39;00m \u001b[39mimport\u001b[39;00m saving_lib\n\u001b[1;32m---> 25\u001b[0m \u001b[39mfrom\u001b[39;00m \u001b[39mkeras\u001b[39;00m\u001b[39m.\u001b[39;00m\u001b[39msrc\u001b[39;00m\u001b[39m.\u001b[39;00m\u001b[39msaving\u001b[39;00m\u001b[39m.\u001b[39;00m\u001b[39mlegacy\u001b[39;00m \u001b[39mimport\u001b[39;00m save \u001b[39mas\u001b[39;00m legacy_sm_saving_lib\n\u001b[0;32m     26\u001b[0m \u001b[39mfrom\u001b[39;00m \u001b[39mkeras\u001b[39;00m\u001b[39m.\u001b[39;00m\u001b[39msrc\u001b[39;00m\u001b[39m.\u001b[39;00m\u001b[39mutils\u001b[39;00m \u001b[39mimport\u001b[39;00m io_utils\n\u001b[0;32m     28\u001b[0m \u001b[39mtry\u001b[39;00m:\n",
            "File \u001b[1;32mc:\\Users\\rwole\\miniconda3\\envs\\tf\\lib\\site-packages\\keras\\src\\saving\\legacy\\save.py:27\u001b[0m\n\u001b[0;32m     25\u001b[0m \u001b[39mfrom\u001b[39;00m \u001b[39mkeras\u001b[39;00m\u001b[39m.\u001b[39;00m\u001b[39msrc\u001b[39;00m\u001b[39m.\u001b[39;00m\u001b[39msaving\u001b[39;00m\u001b[39m.\u001b[39;00m\u001b[39mlegacy\u001b[39;00m \u001b[39mimport\u001b[39;00m serialization\n\u001b[0;32m     26\u001b[0m \u001b[39mfrom\u001b[39;00m \u001b[39mkeras\u001b[39;00m\u001b[39m.\u001b[39;00m\u001b[39msrc\u001b[39;00m\u001b[39m.\u001b[39;00m\u001b[39msaving\u001b[39;00m\u001b[39m.\u001b[39;00m\u001b[39mlegacy\u001b[39;00m\u001b[39m.\u001b[39;00m\u001b[39msaved_model\u001b[39;00m \u001b[39mimport\u001b[39;00m load \u001b[39mas\u001b[39;00m saved_model_load\n\u001b[1;32m---> 27\u001b[0m \u001b[39mfrom\u001b[39;00m \u001b[39mkeras\u001b[39;00m\u001b[39m.\u001b[39;00m\u001b[39msrc\u001b[39;00m\u001b[39m.\u001b[39;00m\u001b[39msaving\u001b[39;00m\u001b[39m.\u001b[39;00m\u001b[39mlegacy\u001b[39;00m\u001b[39m.\u001b[39;00m\u001b[39msaved_model\u001b[39;00m \u001b[39mimport\u001b[39;00m load_context\n\u001b[0;32m     28\u001b[0m \u001b[39mfrom\u001b[39;00m \u001b[39mkeras\u001b[39;00m\u001b[39m.\u001b[39;00m\u001b[39msrc\u001b[39;00m\u001b[39m.\u001b[39;00m\u001b[39msaving\u001b[39;00m\u001b[39m.\u001b[39;00m\u001b[39mlegacy\u001b[39;00m\u001b[39m.\u001b[39;00m\u001b[39msaved_model\u001b[39;00m \u001b[39mimport\u001b[39;00m save \u001b[39mas\u001b[39;00m saved_model_save\n\u001b[0;32m     29\u001b[0m \u001b[39mfrom\u001b[39;00m \u001b[39mkeras\u001b[39;00m\u001b[39m.\u001b[39;00m\u001b[39msrc\u001b[39;00m\u001b[39m.\u001b[39;00m\u001b[39msaving\u001b[39;00m\u001b[39m.\u001b[39;00m\u001b[39mlegacy\u001b[39;00m\u001b[39m.\u001b[39;00m\u001b[39msaved_model\u001b[39;00m\u001b[39m.\u001b[39;00m\u001b[39mutils\u001b[39;00m \u001b[39mimport\u001b[39;00m keras_option_scope\n",
            "File \u001b[1;32mc:\\Users\\rwole\\miniconda3\\envs\\tf\\lib\\site-packages\\keras\\src\\saving\\legacy\\saved_model\\load_context.py:68\u001b[0m\n\u001b[0;32m     64\u001b[0m \u001b[39m    \u001b[39m\u001b[39m\"\"\"Returns whether under a load context.\"\"\"\u001b[39;00m\n\u001b[0;32m     65\u001b[0m     \u001b[39mreturn\u001b[39;00m _load_context\u001b[39m.\u001b[39min_load_context()\n\u001b[1;32m---> 68\u001b[0m tf\u001b[39m.\u001b[39;49m__internal__\u001b[39m.\u001b[39;49mregister_load_context_function(in_load_context)\n",
            "\u001b[1;31mAttributeError\u001b[0m: module 'tensorflow.compat.v2.__internal__' has no attribute 'register_load_context_function'"
          ]
        }
      ],
      "source": [
        "import tensorflow as tf\n",
        "print(tf. __version__)"
      ]
    },
    {
      "cell_type": "code",
      "execution_count": null,
      "metadata": {},
      "outputs": [],
      "source": []
    }
  ],
  "metadata": {
    "accelerator": "TPU",
    "colab": {
      "machine_shape": "hm",
      "provenance": []
    },
    "gpuClass": "premium",
    "kernelspec": {
      "display_name": "Python 3",
      "language": "python",
      "name": "python3"
    },
    "language_info": {
      "codemirror_mode": {
        "name": "ipython",
        "version": 3
      },
      "file_extension": ".py",
      "mimetype": "text/x-python",
      "name": "python",
      "nbconvert_exporter": "python",
      "pygments_lexer": "ipython3",
      "version": "3.10.5"
    },
    "orig_nbformat": 4,
    "vscode": {
      "interpreter": {
        "hash": "4c1bce8e414f9bc48912dcc4416cdb1ae524d0fbd3b04a7c9d6465f890f9d9c6"
      }
    }
  },
  "nbformat": 4,
  "nbformat_minor": 0
}
