{
 "cells": [
  {
   "cell_type": "code",
   "execution_count": 1,
   "metadata": {},
   "outputs": [],
   "source": [
    "random_seed = 1337"
   ]
  },
  {
   "cell_type": "code",
   "execution_count": 2,
   "metadata": {},
   "outputs": [],
   "source": [
    "import os\n",
    "import email\n",
    "import mailbox\n",
    "\n",
    "def list_all_files(exclude_dirs, path):\n",
    "    file_paths = []\n",
    "    for root, dirs, files in os.walk(path):\n",
    "        # update list of directories to exclude dirs we don't want\n",
    "        dirs[:] = [directory for directory in dirs if directory not in exclude_dirs]\n",
    "        for filename in files:\n",
    "            file_paths.append(os.path.join(root, filename))\n",
    "    return file_paths\n",
    "\n",
    "def load_enron(exclude_dirs, path, filename):\n",
    "    email_file_paths = list_all_files(exclude_dirs, path)\n",
    "\n",
    "    mbox_filename = os.path.join(path, filename + '.mbox')\n",
    "    enron_mailbox = mailbox.mbox(mbox_filename)\n",
    "    enron_mailbox.lock()\n",
    "    \n",
    "    for email_file in email_file_paths:\n",
    "        with open(email_file) as f:\n",
    "            email_extracted = email.message_from_file(f)\n",
    "        enron_mailbox.add(email_extracted)\n",
    "        enron_mailbox.flush()\n",
    "\n",
    "    enron_mailbox.unlock()\n",
    "    enron_mailbox.close()"
   ]
  },
  {
   "cell_type": "code",
   "execution_count": 3,
   "metadata": {},
   "outputs": [
    {
     "ename": "KeyboardInterrupt",
     "evalue": "",
     "output_type": "error",
     "traceback": [
      "\u001b[1;31m---------------------------------------------------------------------------\u001b[0m",
      "\u001b[1;31mKeyboardInterrupt\u001b[0m                         Traceback (most recent call last)",
      "Cell \u001b[1;32mIn[3], line 2\u001b[0m\n\u001b[0;32m      1\u001b[0m exclude_dirs \u001b[39m=\u001b[39m [\u001b[39m'\u001b[39m\u001b[39mdiscussion_threads\u001b[39m\u001b[39m'\u001b[39m, \u001b[39m'\u001b[39m\u001b[39mnotes_inbox\u001b[39m\u001b[39m'\u001b[39m, \u001b[39m'\u001b[39m\u001b[39mall_documents\u001b[39m\u001b[39m'\u001b[39m, \u001b[39m'\u001b[39m\u001b[39m_sent_mail\u001b[39m\u001b[39m'\u001b[39m]\n\u001b[1;32m----> 2\u001b[0m load_enron(exclude_dirs, \u001b[39m'\u001b[39;49m\u001b[39mlstm_datasets\u001b[39;49m\u001b[39m\\\u001b[39;49m\u001b[39menron_ham_dataset\u001b[39;49m\u001b[39m'\u001b[39;49m, \u001b[39m'\u001b[39;49m\u001b[39menron_extracted\u001b[39;49m\u001b[39m'\u001b[39;49m)\n",
      "Cell \u001b[1;32mIn[2], line 22\u001b[0m, in \u001b[0;36mload_enron\u001b[1;34m(exclude_dirs, path, filename)\u001b[0m\n\u001b[0;32m     19\u001b[0m enron_mailbox\u001b[39m.\u001b[39mlock()\n\u001b[0;32m     21\u001b[0m \u001b[39mfor\u001b[39;00m email_file \u001b[39min\u001b[39;00m email_file_paths:\n\u001b[1;32m---> 22\u001b[0m     \u001b[39mwith\u001b[39;00m \u001b[39mopen\u001b[39;49m(email_file) \u001b[39mas\u001b[39;00m f:\n\u001b[0;32m     23\u001b[0m         email_extracted \u001b[39m=\u001b[39m email\u001b[39m.\u001b[39mmessage_from_file(f)\n\u001b[0;32m     24\u001b[0m     enron_mailbox\u001b[39m.\u001b[39madd(email_extracted)\n",
      "File \u001b[1;32m~\\AppData\\Roaming\\Python\\Python310\\site-packages\\IPython\\core\\interactiveshell.py:282\u001b[0m, in \u001b[0;36m_modified_open\u001b[1;34m(file, *args, **kwargs)\u001b[0m\n\u001b[0;32m    275\u001b[0m \u001b[39mif\u001b[39;00m file \u001b[39min\u001b[39;00m {\u001b[39m0\u001b[39m, \u001b[39m1\u001b[39m, \u001b[39m2\u001b[39m}:\n\u001b[0;32m    276\u001b[0m     \u001b[39mraise\u001b[39;00m \u001b[39mValueError\u001b[39;00m(\n\u001b[0;32m    277\u001b[0m         \u001b[39mf\u001b[39m\u001b[39m\"\u001b[39m\u001b[39mIPython won\u001b[39m\u001b[39m'\u001b[39m\u001b[39mt let you open fd=\u001b[39m\u001b[39m{\u001b[39;00mfile\u001b[39m}\u001b[39;00m\u001b[39m by default \u001b[39m\u001b[39m\"\u001b[39m\n\u001b[0;32m    278\u001b[0m         \u001b[39m\"\u001b[39m\u001b[39mas it is likely to crash IPython. If you know what you are doing, \u001b[39m\u001b[39m\"\u001b[39m\n\u001b[0;32m    279\u001b[0m         \u001b[39m\"\u001b[39m\u001b[39myou can use builtins\u001b[39m\u001b[39m'\u001b[39m\u001b[39m open.\u001b[39m\u001b[39m\"\u001b[39m\n\u001b[0;32m    280\u001b[0m     )\n\u001b[1;32m--> 282\u001b[0m \u001b[39mreturn\u001b[39;00m io_open(file, \u001b[39m*\u001b[39margs, \u001b[39m*\u001b[39m\u001b[39m*\u001b[39mkwargs)\n",
      "File \u001b[1;32mc:\\Users\\rwole\\AppData\\Local\\Programs\\Python\\Python310\\lib\\codecs.py:260\u001b[0m, in \u001b[0;36mIncrementalDecoder.__init__\u001b[1;34m(self, errors)\u001b[0m\n\u001b[0;32m    254\u001b[0m \u001b[39mclass\u001b[39;00m \u001b[39mIncrementalDecoder\u001b[39;00m(\u001b[39mobject\u001b[39m):\n\u001b[0;32m    255\u001b[0m     \u001b[39m\"\"\"\u001b[39;00m\n\u001b[0;32m    256\u001b[0m \u001b[39m    An IncrementalDecoder decodes an input in multiple steps. The input can\u001b[39;00m\n\u001b[0;32m    257\u001b[0m \u001b[39m    be passed piece by piece to the decode() method. The IncrementalDecoder\u001b[39;00m\n\u001b[0;32m    258\u001b[0m \u001b[39m    remembers the state of the decoding process between calls to decode().\u001b[39;00m\n\u001b[0;32m    259\u001b[0m \u001b[39m    \"\"\"\u001b[39;00m\n\u001b[1;32m--> 260\u001b[0m     \u001b[39mdef\u001b[39;00m \u001b[39m__init__\u001b[39m(\u001b[39mself\u001b[39m, errors\u001b[39m=\u001b[39m\u001b[39m'\u001b[39m\u001b[39mstrict\u001b[39m\u001b[39m'\u001b[39m):\n\u001b[0;32m    261\u001b[0m         \u001b[39m\"\"\"\u001b[39;00m\n\u001b[0;32m    262\u001b[0m \u001b[39m        Create an IncrementalDecoder instance.\u001b[39;00m\n\u001b[0;32m    263\u001b[0m \n\u001b[1;32m   (...)\u001b[0m\n\u001b[0;32m    266\u001b[0m \u001b[39m        for a list of possible values.\u001b[39;00m\n\u001b[0;32m    267\u001b[0m \u001b[39m        \"\"\"\u001b[39;00m\n\u001b[0;32m    268\u001b[0m         \u001b[39mself\u001b[39m\u001b[39m.\u001b[39merrors \u001b[39m=\u001b[39m errors\n",
      "\u001b[1;31mKeyboardInterrupt\u001b[0m: "
     ]
    }
   ],
   "source": [
    "exclude_dirs = ['discussion_threads', 'notes_inbox', 'all_documents', '_sent_mail']\n",
    "load_enron(exclude_dirs, 'lstm_datasets\\enron_ham_dataset', 'enron_extracted')"
   ]
  },
  {
   "cell_type": "code",
   "execution_count": 5,
   "metadata": {},
   "outputs": [],
   "source": [
    "from preprocessing_utils import mbox_file_to_pd"
   ]
  },
  {
   "cell_type": "code",
   "execution_count": 6,
   "metadata": {},
   "outputs": [],
   "source": [
    "df_ham_raw = mbox_file_to_pd('lstm_datasets\\enron_ham_dataset\\\\enron_extracted.mbox', only_file=True)"
   ]
  },
  {
   "cell_type": "code",
   "execution_count": 7,
   "metadata": {},
   "outputs": [
    {
     "data": {
      "text/html": [
       "<div>\n",
       "<style scoped>\n",
       "    .dataframe tbody tr th:only-of-type {\n",
       "        vertical-align: middle;\n",
       "    }\n",
       "\n",
       "    .dataframe tbody tr th {\n",
       "        vertical-align: top;\n",
       "    }\n",
       "\n",
       "    .dataframe thead th {\n",
       "        text-align: right;\n",
       "    }\n",
       "</style>\n",
       "<table border=\"1\" class=\"dataframe\">\n",
       "  <thead>\n",
       "    <tr style=\"text-align: right;\">\n",
       "      <th></th>\n",
       "      <th>filename</th>\n",
       "      <th>email_body</th>\n",
       "      <th>file_key</th>\n",
       "    </tr>\n",
       "  </thead>\n",
       "  <tbody>\n",
       "    <tr>\n",
       "      <th>0</th>\n",
       "      <td>enron_extracted.mbox</td>\n",
       "      <td>None</td>\n",
       "      <td>0</td>\n",
       "    </tr>\n",
       "    <tr>\n",
       "      <th>1</th>\n",
       "      <td>enron_extracted.mbox</td>\n",
       "      <td>loan servicing-jessica weeber 800-393-5626 jwe...</td>\n",
       "      <td>1</td>\n",
       "    </tr>\n",
       "    <tr>\n",
       "      <th>2</th>\n",
       "      <td>enron_extracted.mbox</td>\n",
       "      <td>exit mccollough off 410\\n</td>\n",
       "      <td>2</td>\n",
       "    </tr>\n",
       "    <tr>\n",
       "      <th>3</th>\n",
       "      <td>enron_extracted.mbox</td>\n",
       "      <td>If you cannot read this email, please click he...</td>\n",
       "      <td>3</td>\n",
       "    </tr>\n",
       "    <tr>\n",
       "      <th>4</th>\n",
       "      <td>enron_extracted.mbox</td>\n",
       "      <td>\\n[IMAGE] \\t\\t[IMAGE] \\t\\n\\t\\tDear PHILLIP,   ...</td>\n",
       "      <td>4</td>\n",
       "    </tr>\n",
       "    <tr>\n",
       "      <th>...</th>\n",
       "      <td>...</td>\n",
       "      <td>...</td>\n",
       "      <td>...</td>\n",
       "    </tr>\n",
       "    <tr>\n",
       "      <th>736736</th>\n",
       "      <td>enron_extracted.mbox</td>\n",
       "      <td>We are sending this out in draft form until Sc...</td>\n",
       "      <td>736736</td>\n",
       "    </tr>\n",
       "    <tr>\n",
       "      <th>736737</th>\n",
       "      <td>enron_extracted.mbox</td>\n",
       "      <td>Mary &amp; Teresa:\\n\\nHere's the latest draft awai...</td>\n",
       "      <td>736737</td>\n",
       "    </tr>\n",
       "    <tr>\n",
       "      <th>736738</th>\n",
       "      <td>enron_extracted.mbox</td>\n",
       "      <td>Lisa:\\n\\nFYI, there has been activity regardin...</td>\n",
       "      <td>736738</td>\n",
       "    </tr>\n",
       "    <tr>\n",
       "      <th>736739</th>\n",
       "      <td>enron_extracted.mbox</td>\n",
       "      <td>I'm not sure who is handling.  Tanya is suppos...</td>\n",
       "      <td>736739</td>\n",
       "    </tr>\n",
       "    <tr>\n",
       "      <th>736740</th>\n",
       "      <td>enron_extracted.mbox</td>\n",
       "      <td>Marie:\\n\\nShemeika Landry (X52552) and Shelli ...</td>\n",
       "      <td>736740</td>\n",
       "    </tr>\n",
       "  </tbody>\n",
       "</table>\n",
       "<p>736741 rows × 3 columns</p>\n",
       "</div>"
      ],
      "text/plain": [
       "                    filename  \\\n",
       "0       enron_extracted.mbox   \n",
       "1       enron_extracted.mbox   \n",
       "2       enron_extracted.mbox   \n",
       "3       enron_extracted.mbox   \n",
       "4       enron_extracted.mbox   \n",
       "...                      ...   \n",
       "736736  enron_extracted.mbox   \n",
       "736737  enron_extracted.mbox   \n",
       "736738  enron_extracted.mbox   \n",
       "736739  enron_extracted.mbox   \n",
       "736740  enron_extracted.mbox   \n",
       "\n",
       "                                               email_body  file_key  \n",
       "0                                                    None         0  \n",
       "1       loan servicing-jessica weeber 800-393-5626 jwe...         1  \n",
       "2                               exit mccollough off 410\\n         2  \n",
       "3       If you cannot read this email, please click he...         3  \n",
       "4       \\n[IMAGE] \\t\\t[IMAGE] \\t\\n\\t\\tDear PHILLIP,   ...         4  \n",
       "...                                                   ...       ...  \n",
       "736736  We are sending this out in draft form until Sc...    736736  \n",
       "736737  Mary & Teresa:\\n\\nHere's the latest draft awai...    736737  \n",
       "736738  Lisa:\\n\\nFYI, there has been activity regardin...    736738  \n",
       "736739  I'm not sure who is handling.  Tanya is suppos...    736739  \n",
       "736740  Marie:\\n\\nShemeika Landry (X52552) and Shelli ...    736740  \n",
       "\n",
       "[736741 rows x 3 columns]"
      ]
     },
     "execution_count": 7,
     "metadata": {},
     "output_type": "execute_result"
    }
   ],
   "source": [
    "df_ham_raw"
   ]
  },
  {
   "cell_type": "code",
   "execution_count": 8,
   "metadata": {},
   "outputs": [],
   "source": [
    "df_ham_raw = df_ham_raw[~df_ham_raw['email_body'].isna()]\n",
    "df_ham_raw.reset_index(inplace=True, drop=True)"
   ]
  },
  {
   "cell_type": "code",
   "execution_count": 9,
   "metadata": {},
   "outputs": [
    {
     "name": "stdout",
     "output_type": "stream",
     "text": [
      "<class 'pandas.core.frame.DataFrame'>\n",
      "Int64Index: 521634 entries, 364 to 736739\n",
      "Data columns (total 3 columns):\n",
      " #   Column      Non-Null Count   Dtype \n",
      "---  ------      --------------   ----- \n",
      " 0   filename    521634 non-null  object\n",
      " 1   email_body  521634 non-null  object\n",
      " 2   file_key    521634 non-null  int64 \n",
      "dtypes: int64(1), object(2)\n",
      "memory usage: 15.9+ MB\n"
     ]
    }
   ],
   "source": [
    "df_ham_raw[df_ham_raw['email_body'].duplicated()].info()"
   ]
  },
  {
   "attachments": {},
   "cell_type": "markdown",
   "metadata": {},
   "source": [
    "Removing duplicates, as we will random select a certain amount of e-mails, so we are reducing the chance to sample many exact e-mails in sample."
   ]
  },
  {
   "cell_type": "code",
   "execution_count": 10,
   "metadata": {},
   "outputs": [],
   "source": [
    "df_ham_raw = df_ham_raw[~df_ham_raw['email_body'].duplicated()]\n",
    "df_ham_raw.reset_index(inplace=True, drop=True)"
   ]
  },
  {
   "cell_type": "code",
   "execution_count": 11,
   "metadata": {},
   "outputs": [
    {
     "data": {
      "text/html": [
       "<div>\n",
       "<style scoped>\n",
       "    .dataframe tbody tr th:only-of-type {\n",
       "        vertical-align: middle;\n",
       "    }\n",
       "\n",
       "    .dataframe tbody tr th {\n",
       "        vertical-align: top;\n",
       "    }\n",
       "\n",
       "    .dataframe thead th {\n",
       "        text-align: right;\n",
       "    }\n",
       "</style>\n",
       "<table border=\"1\" class=\"dataframe\">\n",
       "  <thead>\n",
       "    <tr style=\"text-align: right;\">\n",
       "      <th></th>\n",
       "      <th>filename</th>\n",
       "      <th>email_body</th>\n",
       "      <th>file_key</th>\n",
       "    </tr>\n",
       "  </thead>\n",
       "  <tbody>\n",
       "    <tr>\n",
       "      <th>0</th>\n",
       "      <td>enron_extracted.mbox</td>\n",
       "      <td>loan servicing-jessica weeber 800-393-5626 jwe...</td>\n",
       "      <td>1</td>\n",
       "    </tr>\n",
       "    <tr>\n",
       "      <th>1</th>\n",
       "      <td>enron_extracted.mbox</td>\n",
       "      <td>exit mccollough off 410\\n</td>\n",
       "      <td>2</td>\n",
       "    </tr>\n",
       "    <tr>\n",
       "      <th>2</th>\n",
       "      <td>enron_extracted.mbox</td>\n",
       "      <td>If you cannot read this email, please click he...</td>\n",
       "      <td>3</td>\n",
       "    </tr>\n",
       "    <tr>\n",
       "      <th>3</th>\n",
       "      <td>enron_extracted.mbox</td>\n",
       "      <td>\\n[IMAGE] \\t\\t[IMAGE] \\t\\n\\t\\tDear PHILLIP,   ...</td>\n",
       "      <td>4</td>\n",
       "    </tr>\n",
       "    <tr>\n",
       "      <th>4</th>\n",
       "      <td>enron_extracted.mbox</td>\n",
       "      <td>\\nEarlier this week, Enron Global Technology a...</td>\n",
       "      <td>5</td>\n",
       "    </tr>\n",
       "    <tr>\n",
       "      <th>...</th>\n",
       "      <td>...</td>\n",
       "      <td>...</td>\n",
       "      <td>...</td>\n",
       "    </tr>\n",
       "    <tr>\n",
       "      <th>215101</th>\n",
       "      <td>enron_extracted.mbox</td>\n",
       "      <td>Analyst\\t\\t\\t\\t\\tRank\\n\\nStephane Brodeur\\t\\t\\...</td>\n",
       "      <td>263785</td>\n",
       "    </tr>\n",
       "    <tr>\n",
       "      <th>215102</th>\n",
       "      <td>enron_extracted.mbox</td>\n",
       "      <td>i think the YMCA has a class that is for peopl...</td>\n",
       "      <td>263786</td>\n",
       "    </tr>\n",
       "    <tr>\n",
       "      <th>215103</th>\n",
       "      <td>enron_extracted.mbox</td>\n",
       "      <td>I will have 4 books:\\n\\nCAND-MGMT-BAS for all ...</td>\n",
       "      <td>263787</td>\n",
       "    </tr>\n",
       "    <tr>\n",
       "      <th>215104</th>\n",
       "      <td>enron_extracted.mbox</td>\n",
       "      <td>\\n&gt;From MAILER-DAEMON Mon Apr 10 22:08:43 2023...</td>\n",
       "      <td>263788</td>\n",
       "    </tr>\n",
       "    <tr>\n",
       "      <th>215105</th>\n",
       "      <td>enron_extracted.mbox</td>\n",
       "      <td>\\n&gt;From MAILER-DAEMON Mon Apr 10 22:08:43 2023...</td>\n",
       "      <td>527576</td>\n",
       "    </tr>\n",
       "  </tbody>\n",
       "</table>\n",
       "<p>215106 rows × 3 columns</p>\n",
       "</div>"
      ],
      "text/plain": [
       "                    filename  \\\n",
       "0       enron_extracted.mbox   \n",
       "1       enron_extracted.mbox   \n",
       "2       enron_extracted.mbox   \n",
       "3       enron_extracted.mbox   \n",
       "4       enron_extracted.mbox   \n",
       "...                      ...   \n",
       "215101  enron_extracted.mbox   \n",
       "215102  enron_extracted.mbox   \n",
       "215103  enron_extracted.mbox   \n",
       "215104  enron_extracted.mbox   \n",
       "215105  enron_extracted.mbox   \n",
       "\n",
       "                                               email_body  file_key  \n",
       "0       loan servicing-jessica weeber 800-393-5626 jwe...         1  \n",
       "1                               exit mccollough off 410\\n         2  \n",
       "2       If you cannot read this email, please click he...         3  \n",
       "3       \\n[IMAGE] \\t\\t[IMAGE] \\t\\n\\t\\tDear PHILLIP,   ...         4  \n",
       "4       \\nEarlier this week, Enron Global Technology a...         5  \n",
       "...                                                   ...       ...  \n",
       "215101  Analyst\\t\\t\\t\\t\\tRank\\n\\nStephane Brodeur\\t\\t\\...    263785  \n",
       "215102  i think the YMCA has a class that is for peopl...    263786  \n",
       "215103  I will have 4 books:\\n\\nCAND-MGMT-BAS for all ...    263787  \n",
       "215104  \\n>From MAILER-DAEMON Mon Apr 10 22:08:43 2023...    263788  \n",
       "215105  \\n>From MAILER-DAEMON Mon Apr 10 22:08:43 2023...    527576  \n",
       "\n",
       "[215106 rows x 3 columns]"
      ]
     },
     "execution_count": 11,
     "metadata": {},
     "output_type": "execute_result"
    }
   ],
   "source": [
    "df_ham_raw"
   ]
  },
  {
   "cell_type": "code",
   "execution_count": 12,
   "metadata": {},
   "outputs": [
    {
     "data": {
      "text/html": [
       "<div>\n",
       "<style scoped>\n",
       "    .dataframe tbody tr th:only-of-type {\n",
       "        vertical-align: middle;\n",
       "    }\n",
       "\n",
       "    .dataframe tbody tr th {\n",
       "        vertical-align: top;\n",
       "    }\n",
       "\n",
       "    .dataframe thead th {\n",
       "        text-align: right;\n",
       "    }\n",
       "</style>\n",
       "<table border=\"1\" class=\"dataframe\">\n",
       "  <thead>\n",
       "    <tr style=\"text-align: right;\">\n",
       "      <th></th>\n",
       "      <th>filename</th>\n",
       "      <th>email_body</th>\n",
       "      <th>file_key</th>\n",
       "    </tr>\n",
       "  </thead>\n",
       "  <tbody>\n",
       "  </tbody>\n",
       "</table>\n",
       "</div>"
      ],
      "text/plain": [
       "Empty DataFrame\n",
       "Columns: [filename, email_body, file_key]\n",
       "Index: []"
      ]
     },
     "execution_count": 12,
     "metadata": {},
     "output_type": "execute_result"
    }
   ],
   "source": [
    "df_ham_raw[df_ham_raw['email_body'] == '']"
   ]
  },
  {
   "cell_type": "code",
   "execution_count": 13,
   "metadata": {},
   "outputs": [
    {
     "data": {
      "text/html": [
       "<div>\n",
       "<style scoped>\n",
       "    .dataframe tbody tr th:only-of-type {\n",
       "        vertical-align: middle;\n",
       "    }\n",
       "\n",
       "    .dataframe tbody tr th {\n",
       "        vertical-align: top;\n",
       "    }\n",
       "\n",
       "    .dataframe thead th {\n",
       "        text-align: right;\n",
       "    }\n",
       "</style>\n",
       "<table border=\"1\" class=\"dataframe\">\n",
       "  <thead>\n",
       "    <tr style=\"text-align: right;\">\n",
       "      <th></th>\n",
       "      <th>filename</th>\n",
       "      <th>email_body</th>\n",
       "      <th>file_key</th>\n",
       "    </tr>\n",
       "  </thead>\n",
       "  <tbody>\n",
       "  </tbody>\n",
       "</table>\n",
       "</div>"
      ],
      "text/plain": [
       "Empty DataFrame\n",
       "Columns: [filename, email_body, file_key]\n",
       "Index: []"
      ]
     },
     "execution_count": 13,
     "metadata": {},
     "output_type": "execute_result"
    }
   ],
   "source": [
    "df_ham_raw[df_ham_raw['email_body'] == 'decoding_error']"
   ]
  },
  {
   "attachments": {},
   "cell_type": "markdown",
   "metadata": {},
   "source": [
    "Get random sample, so that rest of preprocessing will be faster."
   ]
  },
  {
   "cell_type": "code",
   "execution_count": 14,
   "metadata": {},
   "outputs": [],
   "source": [
    "sample_size = 15000 # previously 100k"
   ]
  },
  {
   "cell_type": "code",
   "execution_count": 15,
   "metadata": {},
   "outputs": [],
   "source": [
    "df_ham_sample = df_ham_raw.sample(n=sample_size, random_state=random_seed)"
   ]
  },
  {
   "cell_type": "code",
   "execution_count": 16,
   "metadata": {},
   "outputs": [],
   "source": [
    "df_ham_sample.reset_index(inplace=True, drop=True)"
   ]
  },
  {
   "cell_type": "code",
   "execution_count": 17,
   "metadata": {},
   "outputs": [
    {
     "name": "stdout",
     "output_type": "stream",
     "text": [
      "<class 'pandas.core.frame.DataFrame'>\n",
      "RangeIndex: 15000 entries, 0 to 14999\n",
      "Data columns (total 3 columns):\n",
      " #   Column      Non-Null Count  Dtype \n",
      "---  ------      --------------  ----- \n",
      " 0   filename    15000 non-null  object\n",
      " 1   email_body  15000 non-null  object\n",
      " 2   file_key    15000 non-null  int64 \n",
      "dtypes: int64(1), object(2)\n",
      "memory usage: 351.7+ KB\n"
     ]
    }
   ],
   "source": [
    "df_ham_sample.info()"
   ]
  },
  {
   "attachments": {},
   "cell_type": "markdown",
   "metadata": {},
   "source": [
    "Perform preprocessing:\n",
    "* extract message from HTML\n",
    "* lowercasing all characters \n",
    "* removing nonalphanumeric characters, special characters, punctuation marks, whitespaces caused by removal, stopwords, HTML elements.\n",
    "* replacing URLs with fixed string\n",
    "* replacing e-mail with fixed string\n",
    "  \n",
    "Perform tokenization:\n",
    "* tokenization based on white spaces"
   ]
  },
  {
   "cell_type": "code",
   "execution_count": 18,
   "metadata": {},
   "outputs": [],
   "source": [
    "from preprocessing_utils import preprocess_body"
   ]
  },
  {
   "cell_type": "code",
   "execution_count": 19,
   "metadata": {},
   "outputs": [
    {
     "name": "stderr",
     "output_type": "stream",
     "text": [
      "c:\\Users\\rwole\\AppData\\Local\\Programs\\Python\\Python310\\lib\\site-packages\\bs4\\__init__.py:435: MarkupResemblesLocatorWarning: The input looks more like a filename than markup. You may want to open this file and pass the filehandle into Beautiful Soup.\n",
      "  warnings.warn(\n",
      "c:\\Users\\rwole\\AppData\\Local\\Programs\\Python\\Python310\\lib\\site-packages\\bs4\\__init__.py:404: MarkupResemblesLocatorWarning: The input looks more like a URL than markup. You may want to use an HTTP client like requests to get the document behind the URL, and feed that document to Beautiful Soup.\n",
      "  warnings.warn(\n"
     ]
    }
   ],
   "source": [
    "df_ham_sample['preprocessed_body'] = df_ham_sample['email_body'].apply(preprocess_body)"
   ]
  },
  {
   "cell_type": "code",
   "execution_count": 20,
   "metadata": {},
   "outputs": [
    {
     "data": {
      "text/html": [
       "<div>\n",
       "<style scoped>\n",
       "    .dataframe tbody tr th:only-of-type {\n",
       "        vertical-align: middle;\n",
       "    }\n",
       "\n",
       "    .dataframe tbody tr th {\n",
       "        vertical-align: top;\n",
       "    }\n",
       "\n",
       "    .dataframe thead th {\n",
       "        text-align: right;\n",
       "    }\n",
       "</style>\n",
       "<table border=\"1\" class=\"dataframe\">\n",
       "  <thead>\n",
       "    <tr style=\"text-align: right;\">\n",
       "      <th></th>\n",
       "      <th>filename</th>\n",
       "      <th>email_body</th>\n",
       "      <th>file_key</th>\n",
       "      <th>preprocessed_body</th>\n",
       "    </tr>\n",
       "  </thead>\n",
       "  <tbody>\n",
       "  </tbody>\n",
       "</table>\n",
       "</div>"
      ],
      "text/plain": [
       "Empty DataFrame\n",
       "Columns: [filename, email_body, file_key, preprocessed_body]\n",
       "Index: []"
      ]
     },
     "execution_count": 20,
     "metadata": {},
     "output_type": "execute_result"
    }
   ],
   "source": [
    "df_ham_sample[df_ham_sample['preprocessed_body'] == 'to_manual_extraction']"
   ]
  },
  {
   "cell_type": "code",
   "execution_count": 21,
   "metadata": {},
   "outputs": [
    {
     "data": {
      "text/html": [
       "<div>\n",
       "<style scoped>\n",
       "    .dataframe tbody tr th:only-of-type {\n",
       "        vertical-align: middle;\n",
       "    }\n",
       "\n",
       "    .dataframe tbody tr th {\n",
       "        vertical-align: top;\n",
       "    }\n",
       "\n",
       "    .dataframe thead th {\n",
       "        text-align: right;\n",
       "    }\n",
       "</style>\n",
       "<table border=\"1\" class=\"dataframe\">\n",
       "  <thead>\n",
       "    <tr style=\"text-align: right;\">\n",
       "      <th></th>\n",
       "      <th>filename</th>\n",
       "      <th>email_body</th>\n",
       "      <th>file_key</th>\n",
       "      <th>preprocessed_body</th>\n",
       "    </tr>\n",
       "  </thead>\n",
       "  <tbody>\n",
       "    <tr>\n",
       "      <th>1245</th>\n",
       "      <td>enron_extracted.mbox</td>\n",
       "      <td>\\n\\n&lt;Embedded Microsoft Excel Worksheet&gt;\\n</td>\n",
       "      <td>262561</td>\n",
       "      <td></td>\n",
       "    </tr>\n",
       "    <tr>\n",
       "      <th>4948</th>\n",
       "      <td>enron_extracted.mbox</td>\n",
       "      <td>&lt;&lt;Hanson Scheduling Model_3_31_1.xls&gt;&gt; &lt;&lt;Hanso...</td>\n",
       "      <td>55172</td>\n",
       "      <td></td>\n",
       "    </tr>\n",
       "    <tr>\n",
       "      <th>7753</th>\n",
       "      <td>enron_extracted.mbox</td>\n",
       "      <td>\\n\\n\\n &lt;&lt;STO Investor Memo 92501.pdf&gt;&gt; \\n &lt;&lt;ST...</td>\n",
       "      <td>38341</td>\n",
       "      <td></td>\n",
       "    </tr>\n",
       "    <tr>\n",
       "      <th>10327</th>\n",
       "      <td>enron_extracted.mbox</td>\n",
       "      <td>\\n\\n&lt;Embedded Picture (Metafile)&gt;\\n</td>\n",
       "      <td>18806</td>\n",
       "      <td></td>\n",
       "    </tr>\n",
       "    <tr>\n",
       "      <th>10783</th>\n",
       "      <td>enron_extracted.mbox</td>\n",
       "      <td>&lt;&lt;Hanson Scheduling Model_5_26_27.xls&gt;&gt; &lt;&lt;Hans...</td>\n",
       "      <td>54925</td>\n",
       "      <td></td>\n",
       "    </tr>\n",
       "    <tr>\n",
       "      <th>11595</th>\n",
       "      <td>enron_extracted.mbox</td>\n",
       "      <td>\\n&lt;http://www.enron.com/corp/pressroom/&gt;\\n \\n \\n</td>\n",
       "      <td>68443</td>\n",
       "      <td></td>\n",
       "    </tr>\n",
       "    <tr>\n",
       "      <th>11874</th>\n",
       "      <td>enron_extracted.mbox</td>\n",
       "      <td>&lt;&lt;Hanson Scheduling Model_4_5_6.xls&gt;&gt; &lt;&lt;Hanson...</td>\n",
       "      <td>55147</td>\n",
       "      <td></td>\n",
       "    </tr>\n",
       "    <tr>\n",
       "      <th>13659</th>\n",
       "      <td>enron_extracted.mbox</td>\n",
       "      <td>\\n\\n&lt;Embedded Outlook Message Attachment&gt;\\n</td>\n",
       "      <td>244181</td>\n",
       "      <td></td>\n",
       "    </tr>\n",
       "  </tbody>\n",
       "</table>\n",
       "</div>"
      ],
      "text/plain": [
       "                   filename  \\\n",
       "1245   enron_extracted.mbox   \n",
       "4948   enron_extracted.mbox   \n",
       "7753   enron_extracted.mbox   \n",
       "10327  enron_extracted.mbox   \n",
       "10783  enron_extracted.mbox   \n",
       "11595  enron_extracted.mbox   \n",
       "11874  enron_extracted.mbox   \n",
       "13659  enron_extracted.mbox   \n",
       "\n",
       "                                              email_body  file_key  \\\n",
       "1245          \\n\\n<Embedded Microsoft Excel Worksheet>\\n    262561   \n",
       "4948   <<Hanson Scheduling Model_3_31_1.xls>> <<Hanso...     55172   \n",
       "7753   \\n\\n\\n <<STO Investor Memo 92501.pdf>> \\n <<ST...     38341   \n",
       "10327                \\n\\n<Embedded Picture (Metafile)>\\n     18806   \n",
       "10783  <<Hanson Scheduling Model_5_26_27.xls>> <<Hans...     54925   \n",
       "11595   \\n<http://www.enron.com/corp/pressroom/>\\n \\n \\n     68443   \n",
       "11874  <<Hanson Scheduling Model_4_5_6.xls>> <<Hanson...     55147   \n",
       "13659        \\n\\n<Embedded Outlook Message Attachment>\\n    244181   \n",
       "\n",
       "      preprocessed_body  \n",
       "1245                     \n",
       "4948                     \n",
       "7753                     \n",
       "10327                    \n",
       "10783                    \n",
       "11595                    \n",
       "11874                    \n",
       "13659                    "
      ]
     },
     "execution_count": 21,
     "metadata": {},
     "output_type": "execute_result"
    }
   ],
   "source": [
    "df_ham_sample[df_ham_sample['preprocessed_body'] == '']"
   ]
  },
  {
   "cell_type": "code",
   "execution_count": 22,
   "metadata": {},
   "outputs": [
    {
     "data": {
      "text/html": [
       "<div>\n",
       "<style scoped>\n",
       "    .dataframe tbody tr th:only-of-type {\n",
       "        vertical-align: middle;\n",
       "    }\n",
       "\n",
       "    .dataframe tbody tr th {\n",
       "        vertical-align: top;\n",
       "    }\n",
       "\n",
       "    .dataframe thead th {\n",
       "        text-align: right;\n",
       "    }\n",
       "</style>\n",
       "<table border=\"1\" class=\"dataframe\">\n",
       "  <thead>\n",
       "    <tr style=\"text-align: right;\">\n",
       "      <th></th>\n",
       "      <th>filename</th>\n",
       "      <th>email_body</th>\n",
       "      <th>file_key</th>\n",
       "      <th>preprocessed_body</th>\n",
       "    </tr>\n",
       "  </thead>\n",
       "  <tbody>\n",
       "    <tr>\n",
       "      <th>1245</th>\n",
       "      <td>enron_extracted.mbox</td>\n",
       "      <td>\\n\\n&lt;Embedded Microsoft Excel Worksheet&gt;\\n</td>\n",
       "      <td>262561</td>\n",
       "      <td></td>\n",
       "    </tr>\n",
       "    <tr>\n",
       "      <th>4948</th>\n",
       "      <td>enron_extracted.mbox</td>\n",
       "      <td>&lt;&lt;Hanson Scheduling Model_3_31_1.xls&gt;&gt; &lt;&lt;Hanso...</td>\n",
       "      <td>55172</td>\n",
       "      <td></td>\n",
       "    </tr>\n",
       "    <tr>\n",
       "      <th>7753</th>\n",
       "      <td>enron_extracted.mbox</td>\n",
       "      <td>\\n\\n\\n &lt;&lt;STO Investor Memo 92501.pdf&gt;&gt; \\n &lt;&lt;ST...</td>\n",
       "      <td>38341</td>\n",
       "      <td></td>\n",
       "    </tr>\n",
       "    <tr>\n",
       "      <th>10327</th>\n",
       "      <td>enron_extracted.mbox</td>\n",
       "      <td>\\n\\n&lt;Embedded Picture (Metafile)&gt;\\n</td>\n",
       "      <td>18806</td>\n",
       "      <td></td>\n",
       "    </tr>\n",
       "    <tr>\n",
       "      <th>10783</th>\n",
       "      <td>enron_extracted.mbox</td>\n",
       "      <td>&lt;&lt;Hanson Scheduling Model_5_26_27.xls&gt;&gt; &lt;&lt;Hans...</td>\n",
       "      <td>54925</td>\n",
       "      <td></td>\n",
       "    </tr>\n",
       "    <tr>\n",
       "      <th>11595</th>\n",
       "      <td>enron_extracted.mbox</td>\n",
       "      <td>\\n&lt;http://www.enron.com/corp/pressroom/&gt;\\n \\n \\n</td>\n",
       "      <td>68443</td>\n",
       "      <td></td>\n",
       "    </tr>\n",
       "    <tr>\n",
       "      <th>11874</th>\n",
       "      <td>enron_extracted.mbox</td>\n",
       "      <td>&lt;&lt;Hanson Scheduling Model_4_5_6.xls&gt;&gt; &lt;&lt;Hanson...</td>\n",
       "      <td>55147</td>\n",
       "      <td></td>\n",
       "    </tr>\n",
       "    <tr>\n",
       "      <th>13659</th>\n",
       "      <td>enron_extracted.mbox</td>\n",
       "      <td>\\n\\n&lt;Embedded Outlook Message Attachment&gt;\\n</td>\n",
       "      <td>244181</td>\n",
       "      <td></td>\n",
       "    </tr>\n",
       "  </tbody>\n",
       "</table>\n",
       "</div>"
      ],
      "text/plain": [
       "                   filename  \\\n",
       "1245   enron_extracted.mbox   \n",
       "4948   enron_extracted.mbox   \n",
       "7753   enron_extracted.mbox   \n",
       "10327  enron_extracted.mbox   \n",
       "10783  enron_extracted.mbox   \n",
       "11595  enron_extracted.mbox   \n",
       "11874  enron_extracted.mbox   \n",
       "13659  enron_extracted.mbox   \n",
       "\n",
       "                                              email_body  file_key  \\\n",
       "1245          \\n\\n<Embedded Microsoft Excel Worksheet>\\n    262561   \n",
       "4948   <<Hanson Scheduling Model_3_31_1.xls>> <<Hanso...     55172   \n",
       "7753   \\n\\n\\n <<STO Investor Memo 92501.pdf>> \\n <<ST...     38341   \n",
       "10327                \\n\\n<Embedded Picture (Metafile)>\\n     18806   \n",
       "10783  <<Hanson Scheduling Model_5_26_27.xls>> <<Hans...     54925   \n",
       "11595   \\n<http://www.enron.com/corp/pressroom/>\\n \\n \\n     68443   \n",
       "11874  <<Hanson Scheduling Model_4_5_6.xls>> <<Hanson...     55147   \n",
       "13659        \\n\\n<Embedded Outlook Message Attachment>\\n    244181   \n",
       "\n",
       "      preprocessed_body  \n",
       "1245                     \n",
       "4948                     \n",
       "7753                     \n",
       "10327                    \n",
       "10783                    \n",
       "11595                    \n",
       "11874                    \n",
       "13659                    "
      ]
     },
     "execution_count": 22,
     "metadata": {},
     "output_type": "execute_result"
    }
   ],
   "source": [
    "df_ham_sample[df_ham_sample['preprocessed_body'] == ''].head(20)"
   ]
  },
  {
   "cell_type": "code",
   "execution_count": 23,
   "metadata": {},
   "outputs": [],
   "source": [
    "df_ham_sample = df_ham_sample[df_ham_sample['preprocessed_body'] != '']\n",
    "df_ham_sample.reset_index(drop=True, inplace=True)"
   ]
  },
  {
   "cell_type": "code",
   "execution_count": 24,
   "metadata": {},
   "outputs": [
    {
     "data": {
      "text/plain": [
       "['backup_dumps\\\\df_ham_sample_15k']"
      ]
     },
     "execution_count": 24,
     "metadata": {},
     "output_type": "execute_result"
    }
   ],
   "source": [
    "from joblib import dump\n",
    "dump(df_ham_sample, 'backup_dumps\\df_ham_sample_15k')"
   ]
  },
  {
   "cell_type": "code",
   "execution_count": 1,
   "metadata": {},
   "outputs": [],
   "source": [
    "from joblib import load\n",
    "df_ham_sample = load('backup_dumps\\df_ham_sample_15k')"
   ]
  },
  {
   "cell_type": "code",
   "execution_count": 2,
   "metadata": {},
   "outputs": [
    {
     "name": "stdout",
     "output_type": "stream",
     "text": [
      "<class 'pandas.core.frame.DataFrame'>\n",
      "RangeIndex: 14992 entries, 0 to 14991\n",
      "Data columns (total 4 columns):\n",
      " #   Column             Non-Null Count  Dtype \n",
      "---  ------             --------------  ----- \n",
      " 0   filename           14992 non-null  object\n",
      " 1   email_body         14992 non-null  object\n",
      " 2   file_key           14992 non-null  int64 \n",
      " 3   preprocessed_body  14992 non-null  object\n",
      "dtypes: int64(1), object(3)\n",
      "memory usage: 468.6+ KB\n"
     ]
    }
   ],
   "source": [
    "df_ham_sample.info()"
   ]
  },
  {
   "cell_type": "code",
   "execution_count": 2,
   "metadata": {},
   "outputs": [],
   "source": [
    "import spacy\n",
    "nlp = spacy.load('en_core_web_sm')\n",
    "nlp.disable_pipes([\"tagger\", \"parser\", \"ner\"])\n",
    "def tokenize(body):\n",
    "    doc = nlp(body)\n",
    "    tokens = [token.text for token in doc if not token.is_stop]\n",
    "    return tokens"
   ]
  },
  {
   "attachments": {},
   "cell_type": "markdown",
   "metadata": {},
   "source": [
    "Split dataset in chunks to make it faster and more memory friendly."
   ]
  },
  {
   "cell_type": "code",
   "execution_count": 3,
   "metadata": {},
   "outputs": [],
   "source": [
    "def split_text(text, chunk_size=1000000):\n",
    "    text_len = len(text)\n",
    "    chunks = []\n",
    "\n",
    "    for i in range(0, text_len, chunk_size):\n",
    "        chunk = text[i:i + chunk_size]\n",
    "        chunks.append(chunk)\n",
    "\n",
    "    return chunks\n",
    "\n",
    "def tokenize_and_remove_stopwords(text, nlp):\n",
    "    tokens = []\n",
    "    text_chunks = split_text(text)\n",
    "    try:\n",
    "        for doc in nlp.pipe(text_chunks):\n",
    "            chunk_tokens = [token.text for token in doc if not token.is_stop]\n",
    "            tokens.extend(chunk_tokens)\n",
    "    except MemoryError as merr:\n",
    "        print(merr)\n",
    "        print(text)\n",
    "        return 'memoryerror'\n",
    "        \n",
    "    return tokens"
   ]
  },
  {
   "cell_type": "code",
   "execution_count": 8,
   "metadata": {},
   "outputs": [
    {
     "name": "stderr",
     "output_type": "stream",
     "text": [
      "c:\\Users\\rwole\\AppData\\Local\\Programs\\Python\\Python310\\lib\\site-packages\\spacy\\pipeline\\lemmatizer.py:211: UserWarning: [W108] The rule-based lemmatizer did not find POS annotation for one or more tokens. Check that your pipeline includes components that assign token.pos, typically 'tagger'+'attribute_ruler' or 'morphologizer'.\n",
      "  warnings.warn(Warnings.W108)\n"
     ]
    }
   ],
   "source": [
    "import pandas as pd\n",
    "chunk_size = 10000\n",
    "data_chunks = [df_ham_sample.iloc[i:i + chunk_size] for i in range(0, len(df_ham_sample), chunk_size)]\n",
    "\n",
    "for i, chunk in enumerate(data_chunks):\n",
    "    df_ham_sample[i]['tokenized_body'] = df_ham_sample['preprocessed_body'].apply(lambda x: tokenize_and_remove_stopwords(x, nlp))\n",
    "\n",
    "df_ham_sample_tokenized = pd.concat(data_chunks, ignore_index=True)"
   ]
  },
  {
   "cell_type": "code",
   "execution_count": 40,
   "metadata": {},
   "outputs": [
    {
     "data": {
      "text/plain": [
       "4712    any chance we could look at the useuro rates i...\n",
       "Name: preprocessed_body, dtype: object"
      ]
     },
     "execution_count": 40,
     "metadata": {},
     "output_type": "execute_result"
    }
   ],
   "source": [
    "df_ham_sample_test = df_ham_sample[4712:4713]\n",
    "df_ham_sample_test['preprocessed_body']"
   ]
  },
  {
   "cell_type": "code",
   "execution_count": 29,
   "metadata": {},
   "outputs": [],
   "source": [
    "df_ham_sample_2k_7_new = df_ham_sample[4712:]"
   ]
  },
  {
   "cell_type": "code",
   "execution_count": 30,
   "metadata": {},
   "outputs": [
    {
     "name": "stderr",
     "output_type": "stream",
     "text": [
      "c:\\Users\\rwole\\AppData\\Local\\Programs\\Python\\Python310\\lib\\site-packages\\spacy\\pipeline\\lemmatizer.py:211: UserWarning: [W108] The rule-based lemmatizer did not find POS annotation for one or more tokens. Check that your pipeline includes components that assign token.pos, typically 'tagger'+'attribute_ruler' or 'morphologizer'.\n",
      "  warnings.warn(Warnings.W108)\n",
      "C:\\Users\\rwole\\AppData\\Local\\Temp\\ipykernel_3292\\3488133172.py:1: SettingWithCopyWarning: \n",
      "A value is trying to be set on a copy of a slice from a DataFrame.\n",
      "Try using .loc[row_indexer,col_indexer] = value instead\n",
      "\n",
      "See the caveats in the documentation: https://pandas.pydata.org/pandas-docs/stable/user_guide/indexing.html#returning-a-view-versus-a-copy\n",
      "  df_ham_sample_2k_7_new['tokenized_body'] = df_ham_sample_2k_7_new['preprocessed_body'].apply(lambda x: tokenize_and_remove_stopwords(x, nlp))\n"
     ]
    }
   ],
   "source": [
    "df_ham_sample_2k_7_new['tokenized_body'] = df_ham_sample_2k_7_new['preprocessed_body'].apply(lambda x: tokenize_and_remove_stopwords(x, nlp))"
   ]
  },
  {
   "cell_type": "code",
   "execution_count": 31,
   "metadata": {},
   "outputs": [],
   "source": [
    "from joblib import dump, load"
   ]
  },
  {
   "cell_type": "code",
   "execution_count": 32,
   "metadata": {},
   "outputs": [
    {
     "data": {
      "text/plain": [
       "['backup_dumps\\\\df_ham_sample_2k_7_new']"
      ]
     },
     "execution_count": 32,
     "metadata": {},
     "output_type": "execute_result"
    }
   ],
   "source": [
    "dump(df_ham_sample_2k_7_new, 'backup_dumps\\df_ham_sample_2k_7_new')"
   ]
  },
  {
   "cell_type": "code",
   "execution_count": 3,
   "metadata": {},
   "outputs": [],
   "source": [
    "test2 = load('backup_dumps\\df_ham_sample_fourth_1k_3_crash')"
   ]
  },
  {
   "cell_type": "code",
   "execution_count": 4,
   "metadata": {},
   "outputs": [],
   "source": [
    "test2 = test2[test2['tokenized_body'] != 'memoryerror']\n",
    "test2.reset_index(inplace=True, drop=True)"
   ]
  },
  {
   "cell_type": "code",
   "execution_count": 5,
   "metadata": {},
   "outputs": [
    {
     "data": {
      "text/plain": [
       "['backup_dumps\\\\df_ham_sample_fourth_1k_3']"
      ]
     },
     "execution_count": 5,
     "metadata": {},
     "output_type": "execute_result"
    }
   ],
   "source": [
    "dump(test2, 'backup_dumps\\df_ham_sample_fourth_1k_3')"
   ]
  },
  {
   "cell_type": "code",
   "execution_count": null,
   "metadata": {},
   "outputs": [],
   "source": []
  }
 ],
 "metadata": {
  "kernelspec": {
   "display_name": "Python 3",
   "language": "python",
   "name": "python3"
  },
  "language_info": {
   "codemirror_mode": {
    "name": "ipython",
    "version": 3
   },
   "file_extension": ".py",
   "mimetype": "text/x-python",
   "name": "python",
   "nbconvert_exporter": "python",
   "pygments_lexer": "ipython3",
   "version": "3.10.5"
  },
  "orig_nbformat": 4,
  "vscode": {
   "interpreter": {
    "hash": "4c1bce8e414f9bc48912dcc4416cdb1ae524d0fbd3b04a7c9d6465f890f9d9c6"
   }
  }
 },
 "nbformat": 4,
 "nbformat_minor": 2
}
