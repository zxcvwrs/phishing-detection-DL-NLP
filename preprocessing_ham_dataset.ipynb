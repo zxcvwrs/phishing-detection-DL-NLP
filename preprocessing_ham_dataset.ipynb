{
 "cells": [
  {
   "cell_type": "code",
   "execution_count": 21,
   "metadata": {},
   "outputs": [],
   "source": [
    "random_seed = 1337"
   ]
  },
  {
   "cell_type": "code",
   "execution_count": 1,
   "metadata": {},
   "outputs": [],
   "source": [
    "import os\n",
    "import email\n",
    "import mailbox\n",
    "\n",
    "def list_all_files(exclude_dirs, path):\n",
    "    file_paths = []\n",
    "    for root, dirs, files in os.walk(path):\n",
    "        # update list of directories to exclude dirs we don't want\n",
    "        dirs[:] = [directory for directory in dirs if directory not in exclude_dirs]\n",
    "        for filename in files:\n",
    "            file_paths.append(os.path.join(root, filename))\n",
    "    return file_paths\n",
    "\n",
    "def load_enron(exclude_dirs, path, filename):\n",
    "    email_file_paths = list_all_files(exclude_dirs, path)\n",
    "\n",
    "    mbox_filename = os.path.join(path, filename + '.mbox')\n",
    "    enron_mailbox = mailbox.mbox(mbox_filename)\n",
    "    enron_mailbox.lock()\n",
    "    \n",
    "    for email_file in email_file_paths:\n",
    "        with open(email_file) as f:\n",
    "            email_extracted = email.message_from_file(f)\n",
    "        enron_mailbox.add(email_extracted)\n",
    "        enron_mailbox.flush()\n",
    "\n",
    "    enron_mailbox.unlock()\n",
    "    enron_mailbox.close()"
   ]
  },
  {
   "cell_type": "code",
   "execution_count": 2,
   "metadata": {},
   "outputs": [],
   "source": [
    "exclude_dirs = ['discussion_threads', 'notes_inbox', 'all_documents', '_sent_mail']\n",
    "load_enron(exclude_dirs, 'lstm_datasets\\enron_ham_dataset', 'enron_extracted')"
   ]
  },
  {
   "cell_type": "code",
   "execution_count": 26,
   "metadata": {},
   "outputs": [],
   "source": [
    "from preprocessing_utilss import mbox_file_to_pd"
   ]
  },
  {
   "cell_type": "code",
   "execution_count": 4,
   "metadata": {},
   "outputs": [],
   "source": [
    "df_ham_raw = mbox_file_to_pd('lstm_datasets\\enron_ham_dataset\\\\enron_extracted.mbox', only_file=True)"
   ]
  },
  {
   "cell_type": "code",
   "execution_count": 7,
   "metadata": {},
   "outputs": [
    {
     "data": {
      "text/html": [
       "<div>\n",
       "<style scoped>\n",
       "    .dataframe tbody tr th:only-of-type {\n",
       "        vertical-align: middle;\n",
       "    }\n",
       "\n",
       "    .dataframe tbody tr th {\n",
       "        vertical-align: top;\n",
       "    }\n",
       "\n",
       "    .dataframe thead th {\n",
       "        text-align: right;\n",
       "    }\n",
       "</style>\n",
       "<table border=\"1\" class=\"dataframe\">\n",
       "  <thead>\n",
       "    <tr style=\"text-align: right;\">\n",
       "      <th></th>\n",
       "      <th>filename</th>\n",
       "      <th>email_body</th>\n",
       "      <th>file_key</th>\n",
       "    </tr>\n",
       "  </thead>\n",
       "  <tbody>\n",
       "    <tr>\n",
       "      <th>0</th>\n",
       "      <td>enron_extracted.mbox</td>\n",
       "      <td>None</td>\n",
       "      <td>0</td>\n",
       "    </tr>\n",
       "    <tr>\n",
       "      <th>1</th>\n",
       "      <td>enron_extracted.mbox</td>\n",
       "      <td>loan servicing-jessica weeber 800-393-5626 jwe...</td>\n",
       "      <td>1</td>\n",
       "    </tr>\n",
       "    <tr>\n",
       "      <th>2</th>\n",
       "      <td>enron_extracted.mbox</td>\n",
       "      <td>exit mccollough off 410\\n</td>\n",
       "      <td>2</td>\n",
       "    </tr>\n",
       "    <tr>\n",
       "      <th>3</th>\n",
       "      <td>enron_extracted.mbox</td>\n",
       "      <td>If you cannot read this email, please click he...</td>\n",
       "      <td>3</td>\n",
       "    </tr>\n",
       "    <tr>\n",
       "      <th>4</th>\n",
       "      <td>enron_extracted.mbox</td>\n",
       "      <td>\\n[IMAGE] \\t\\t[IMAGE] \\t\\n\\t\\tDear PHILLIP,   ...</td>\n",
       "      <td>4</td>\n",
       "    </tr>\n",
       "    <tr>\n",
       "      <th>...</th>\n",
       "      <td>...</td>\n",
       "      <td>...</td>\n",
       "      <td>...</td>\n",
       "    </tr>\n",
       "    <tr>\n",
       "      <th>527571</th>\n",
       "      <td>enron_extracted.mbox</td>\n",
       "      <td>Some of my position is with the Alberta Term b...</td>\n",
       "      <td>527571</td>\n",
       "    </tr>\n",
       "    <tr>\n",
       "      <th>527572</th>\n",
       "      <td>enron_extracted.mbox</td>\n",
       "      <td>2\\n\\n -----Original Message-----\\nFrom: \\tDouc...</td>\n",
       "      <td>527572</td>\n",
       "    </tr>\n",
       "    <tr>\n",
       "      <th>527573</th>\n",
       "      <td>enron_extracted.mbox</td>\n",
       "      <td>Analyst\\t\\t\\t\\t\\tRank\\n\\nStephane Brodeur\\t\\t\\...</td>\n",
       "      <td>527573</td>\n",
       "    </tr>\n",
       "    <tr>\n",
       "      <th>527574</th>\n",
       "      <td>enron_extracted.mbox</td>\n",
       "      <td>i think the YMCA has a class that is for peopl...</td>\n",
       "      <td>527574</td>\n",
       "    </tr>\n",
       "    <tr>\n",
       "      <th>527575</th>\n",
       "      <td>enron_extracted.mbox</td>\n",
       "      <td>I will have 4 books:\\n\\nCAND-MGMT-BAS for all ...</td>\n",
       "      <td>527575</td>\n",
       "    </tr>\n",
       "  </tbody>\n",
       "</table>\n",
       "<p>527576 rows × 3 columns</p>\n",
       "</div>"
      ],
      "text/plain": [
       "                    filename  \\\n",
       "0       enron_extracted.mbox   \n",
       "1       enron_extracted.mbox   \n",
       "2       enron_extracted.mbox   \n",
       "3       enron_extracted.mbox   \n",
       "4       enron_extracted.mbox   \n",
       "...                      ...   \n",
       "527571  enron_extracted.mbox   \n",
       "527572  enron_extracted.mbox   \n",
       "527573  enron_extracted.mbox   \n",
       "527574  enron_extracted.mbox   \n",
       "527575  enron_extracted.mbox   \n",
       "\n",
       "                                               email_body  file_key  \n",
       "0                                                    None         0  \n",
       "1       loan servicing-jessica weeber 800-393-5626 jwe...         1  \n",
       "2                               exit mccollough off 410\\n         2  \n",
       "3       If you cannot read this email, please click he...         3  \n",
       "4       \\n[IMAGE] \\t\\t[IMAGE] \\t\\n\\t\\tDear PHILLIP,   ...         4  \n",
       "...                                                   ...       ...  \n",
       "527571  Some of my position is with the Alberta Term b...    527571  \n",
       "527572  2\\n\\n -----Original Message-----\\nFrom: \\tDouc...    527572  \n",
       "527573  Analyst\\t\\t\\t\\t\\tRank\\n\\nStephane Brodeur\\t\\t\\...    527573  \n",
       "527574  i think the YMCA has a class that is for peopl...    527574  \n",
       "527575  I will have 4 books:\\n\\nCAND-MGMT-BAS for all ...    527575  \n",
       "\n",
       "[527576 rows x 3 columns]"
      ]
     },
     "execution_count": 7,
     "metadata": {},
     "output_type": "execute_result"
    }
   ],
   "source": [
    "df_ham_raw"
   ]
  },
  {
   "cell_type": "code",
   "execution_count": 9,
   "metadata": {},
   "outputs": [],
   "source": [
    "df_ham_raw = df_ham_raw[~df_ham_raw['email_body'].isna()]\n",
    "df_ham_raw.reset_index(inplace=True, drop=True)"
   ]
  },
  {
   "cell_type": "code",
   "execution_count": 16,
   "metadata": {},
   "outputs": [
    {
     "name": "stdout",
     "output_type": "stream",
     "text": [
      "<class 'pandas.core.frame.DataFrame'>\n",
      "Int64Index: 312470 entries, 364 to 527574\n",
      "Data columns (total 3 columns):\n",
      " #   Column      Non-Null Count   Dtype \n",
      "---  ------      --------------   ----- \n",
      " 0   filename    312470 non-null  object\n",
      " 1   email_body  312470 non-null  object\n",
      " 2   file_key    312470 non-null  int64 \n",
      "dtypes: int64(1), object(2)\n",
      "memory usage: 9.5+ MB\n"
     ]
    }
   ],
   "source": [
    "df_ham_raw[df_ham_raw['email_body'].duplicated()].info()"
   ]
  },
  {
   "attachments": {},
   "cell_type": "markdown",
   "metadata": {},
   "source": [
    "Removing duplicates, as we will random select a certain amount of e-mails, so we are reducing the chance to sample many exact e-mails in sample."
   ]
  },
  {
   "cell_type": "code",
   "execution_count": 17,
   "metadata": {},
   "outputs": [],
   "source": [
    "df_ham_raw = df_ham_raw[~df_ham_raw['email_body'].duplicated()]\n",
    "df_ham_raw.reset_index(inplace=True, drop=True)"
   ]
  },
  {
   "cell_type": "code",
   "execution_count": 18,
   "metadata": {},
   "outputs": [
    {
     "data": {
      "text/html": [
       "<div>\n",
       "<style scoped>\n",
       "    .dataframe tbody tr th:only-of-type {\n",
       "        vertical-align: middle;\n",
       "    }\n",
       "\n",
       "    .dataframe tbody tr th {\n",
       "        vertical-align: top;\n",
       "    }\n",
       "\n",
       "    .dataframe thead th {\n",
       "        text-align: right;\n",
       "    }\n",
       "</style>\n",
       "<table border=\"1\" class=\"dataframe\">\n",
       "  <thead>\n",
       "    <tr style=\"text-align: right;\">\n",
       "      <th></th>\n",
       "      <th>filename</th>\n",
       "      <th>email_body</th>\n",
       "      <th>file_key</th>\n",
       "    </tr>\n",
       "  </thead>\n",
       "  <tbody>\n",
       "    <tr>\n",
       "      <th>0</th>\n",
       "      <td>enron_extracted.mbox</td>\n",
       "      <td>loan servicing-jessica weeber 800-393-5626 jwe...</td>\n",
       "      <td>1</td>\n",
       "    </tr>\n",
       "    <tr>\n",
       "      <th>1</th>\n",
       "      <td>enron_extracted.mbox</td>\n",
       "      <td>exit mccollough off 410\\n</td>\n",
       "      <td>2</td>\n",
       "    </tr>\n",
       "    <tr>\n",
       "      <th>2</th>\n",
       "      <td>enron_extracted.mbox</td>\n",
       "      <td>If you cannot read this email, please click he...</td>\n",
       "      <td>3</td>\n",
       "    </tr>\n",
       "    <tr>\n",
       "      <th>3</th>\n",
       "      <td>enron_extracted.mbox</td>\n",
       "      <td>\\n[IMAGE] \\t\\t[IMAGE] \\t\\n\\t\\tDear PHILLIP,   ...</td>\n",
       "      <td>4</td>\n",
       "    </tr>\n",
       "    <tr>\n",
       "      <th>4</th>\n",
       "      <td>enron_extracted.mbox</td>\n",
       "      <td>\\nEarlier this week, Enron Global Technology a...</td>\n",
       "      <td>5</td>\n",
       "    </tr>\n",
       "    <tr>\n",
       "      <th>...</th>\n",
       "      <td>...</td>\n",
       "      <td>...</td>\n",
       "      <td>...</td>\n",
       "    </tr>\n",
       "    <tr>\n",
       "      <th>215100</th>\n",
       "      <td>enron_extracted.mbox</td>\n",
       "      <td>2\\n\\n -----Original Message-----\\nFrom: \\tDouc...</td>\n",
       "      <td>263784</td>\n",
       "    </tr>\n",
       "    <tr>\n",
       "      <th>215101</th>\n",
       "      <td>enron_extracted.mbox</td>\n",
       "      <td>Analyst\\t\\t\\t\\t\\tRank\\n\\nStephane Brodeur\\t\\t\\...</td>\n",
       "      <td>263785</td>\n",
       "    </tr>\n",
       "    <tr>\n",
       "      <th>215102</th>\n",
       "      <td>enron_extracted.mbox</td>\n",
       "      <td>i think the YMCA has a class that is for peopl...</td>\n",
       "      <td>263786</td>\n",
       "    </tr>\n",
       "    <tr>\n",
       "      <th>215103</th>\n",
       "      <td>enron_extracted.mbox</td>\n",
       "      <td>I will have 4 books:\\n\\nCAND-MGMT-BAS for all ...</td>\n",
       "      <td>263787</td>\n",
       "    </tr>\n",
       "    <tr>\n",
       "      <th>215104</th>\n",
       "      <td>enron_extracted.mbox</td>\n",
       "      <td>\\n&gt;From MAILER-DAEMON Mon Apr 10 22:08:43 2023...</td>\n",
       "      <td>263788</td>\n",
       "    </tr>\n",
       "  </tbody>\n",
       "</table>\n",
       "<p>215105 rows × 3 columns</p>\n",
       "</div>"
      ],
      "text/plain": [
       "                    filename  \\\n",
       "0       enron_extracted.mbox   \n",
       "1       enron_extracted.mbox   \n",
       "2       enron_extracted.mbox   \n",
       "3       enron_extracted.mbox   \n",
       "4       enron_extracted.mbox   \n",
       "...                      ...   \n",
       "215100  enron_extracted.mbox   \n",
       "215101  enron_extracted.mbox   \n",
       "215102  enron_extracted.mbox   \n",
       "215103  enron_extracted.mbox   \n",
       "215104  enron_extracted.mbox   \n",
       "\n",
       "                                               email_body  file_key  \n",
       "0       loan servicing-jessica weeber 800-393-5626 jwe...         1  \n",
       "1                               exit mccollough off 410\\n         2  \n",
       "2       If you cannot read this email, please click he...         3  \n",
       "3       \\n[IMAGE] \\t\\t[IMAGE] \\t\\n\\t\\tDear PHILLIP,   ...         4  \n",
       "4       \\nEarlier this week, Enron Global Technology a...         5  \n",
       "...                                                   ...       ...  \n",
       "215100  2\\n\\n -----Original Message-----\\nFrom: \\tDouc...    263784  \n",
       "215101  Analyst\\t\\t\\t\\t\\tRank\\n\\nStephane Brodeur\\t\\t\\...    263785  \n",
       "215102  i think the YMCA has a class that is for peopl...    263786  \n",
       "215103  I will have 4 books:\\n\\nCAND-MGMT-BAS for all ...    263787  \n",
       "215104  \\n>From MAILER-DAEMON Mon Apr 10 22:08:43 2023...    263788  \n",
       "\n",
       "[215105 rows x 3 columns]"
      ]
     },
     "execution_count": 18,
     "metadata": {},
     "output_type": "execute_result"
    }
   ],
   "source": [
    "df_ham_raw"
   ]
  },
  {
   "cell_type": "code",
   "execution_count": 19,
   "metadata": {},
   "outputs": [
    {
     "data": {
      "text/html": [
       "<div>\n",
       "<style scoped>\n",
       "    .dataframe tbody tr th:only-of-type {\n",
       "        vertical-align: middle;\n",
       "    }\n",
       "\n",
       "    .dataframe tbody tr th {\n",
       "        vertical-align: top;\n",
       "    }\n",
       "\n",
       "    .dataframe thead th {\n",
       "        text-align: right;\n",
       "    }\n",
       "</style>\n",
       "<table border=\"1\" class=\"dataframe\">\n",
       "  <thead>\n",
       "    <tr style=\"text-align: right;\">\n",
       "      <th></th>\n",
       "      <th>filename</th>\n",
       "      <th>email_body</th>\n",
       "      <th>file_key</th>\n",
       "    </tr>\n",
       "  </thead>\n",
       "  <tbody>\n",
       "  </tbody>\n",
       "</table>\n",
       "</div>"
      ],
      "text/plain": [
       "Empty DataFrame\n",
       "Columns: [filename, email_body, file_key]\n",
       "Index: []"
      ]
     },
     "execution_count": 19,
     "metadata": {},
     "output_type": "execute_result"
    }
   ],
   "source": [
    "df_ham_raw[df_ham_raw['email_body'] == '']"
   ]
  },
  {
   "cell_type": "code",
   "execution_count": 20,
   "metadata": {},
   "outputs": [
    {
     "data": {
      "text/html": [
       "<div>\n",
       "<style scoped>\n",
       "    .dataframe tbody tr th:only-of-type {\n",
       "        vertical-align: middle;\n",
       "    }\n",
       "\n",
       "    .dataframe tbody tr th {\n",
       "        vertical-align: top;\n",
       "    }\n",
       "\n",
       "    .dataframe thead th {\n",
       "        text-align: right;\n",
       "    }\n",
       "</style>\n",
       "<table border=\"1\" class=\"dataframe\">\n",
       "  <thead>\n",
       "    <tr style=\"text-align: right;\">\n",
       "      <th></th>\n",
       "      <th>filename</th>\n",
       "      <th>email_body</th>\n",
       "      <th>file_key</th>\n",
       "    </tr>\n",
       "  </thead>\n",
       "  <tbody>\n",
       "  </tbody>\n",
       "</table>\n",
       "</div>"
      ],
      "text/plain": [
       "Empty DataFrame\n",
       "Columns: [filename, email_body, file_key]\n",
       "Index: []"
      ]
     },
     "execution_count": 20,
     "metadata": {},
     "output_type": "execute_result"
    }
   ],
   "source": [
    "df_ham_raw[df_ham_raw['email_body'] == 'decoding_error']"
   ]
  },
  {
   "attachments": {},
   "cell_type": "markdown",
   "metadata": {},
   "source": [
    "Get random sample, so that rest of preprocessing will be faster."
   ]
  },
  {
   "cell_type": "code",
   "execution_count": 22,
   "metadata": {},
   "outputs": [],
   "source": [
    "df_ham_sample = df_ham_raw.sample(n=100000, random_state=random_seed)"
   ]
  },
  {
   "cell_type": "code",
   "execution_count": 24,
   "metadata": {},
   "outputs": [],
   "source": [
    "df_ham_sample.reset_index(inplace=True, drop=True)"
   ]
  },
  {
   "cell_type": "code",
   "execution_count": 25,
   "metadata": {},
   "outputs": [
    {
     "name": "stdout",
     "output_type": "stream",
     "text": [
      "<class 'pandas.core.frame.DataFrame'>\n",
      "RangeIndex: 100000 entries, 0 to 99999\n",
      "Data columns (total 3 columns):\n",
      " #   Column      Non-Null Count   Dtype \n",
      "---  ------      --------------   ----- \n",
      " 0   filename    100000 non-null  object\n",
      " 1   email_body  100000 non-null  object\n",
      " 2   file_key    100000 non-null  int64 \n",
      "dtypes: int64(1), object(2)\n",
      "memory usage: 2.3+ MB\n"
     ]
    }
   ],
   "source": [
    "df_ham_sample.info()"
   ]
  },
  {
   "attachments": {},
   "cell_type": "markdown",
   "metadata": {},
   "source": [
    "Perform preprocessing:\n",
    "* extract message from HTML\n",
    "* lowercasing all characters \n",
    "* removing nonalphanumeric characters, special characters, punctuation marks, whitespaces caused by removal, stopwords, HTML elements.\n",
    "* replacing URLs with fixed string\n",
    "* replacing e-mail with fixed string\n",
    "  \n",
    "Perform tokenization:\n",
    "* tokenization based on white spaces"
   ]
  },
  {
   "cell_type": "code",
   "execution_count": 27,
   "metadata": {},
   "outputs": [],
   "source": [
    "from preprocessing_utils import preprocess_body"
   ]
  },
  {
   "cell_type": "code",
   "execution_count": 28,
   "metadata": {},
   "outputs": [
    {
     "name": "stderr",
     "output_type": "stream",
     "text": [
      "c:\\Users\\rwole\\AppData\\Local\\Programs\\Python\\Python310\\lib\\site-packages\\bs4\\__init__.py:435: MarkupResemblesLocatorWarning: The input looks more like a filename than markup. You may want to open this file and pass the filehandle into Beautiful Soup.\n",
      "  warnings.warn(\n",
      "c:\\Users\\rwole\\AppData\\Local\\Programs\\Python\\Python310\\lib\\site-packages\\bs4\\__init__.py:404: MarkupResemblesLocatorWarning: The input looks more like a URL than markup. You may want to use an HTTP client like requests to get the document behind the URL, and feed that document to Beautiful Soup.\n",
      "  warnings.warn(\n"
     ]
    }
   ],
   "source": [
    "df_ham_sample['preprocessed_body'] = df_ham_sample['email_body'].apply(preprocess_body)"
   ]
  },
  {
   "cell_type": "code",
   "execution_count": 29,
   "metadata": {},
   "outputs": [
    {
     "data": {
      "text/html": [
       "<div>\n",
       "<style scoped>\n",
       "    .dataframe tbody tr th:only-of-type {\n",
       "        vertical-align: middle;\n",
       "    }\n",
       "\n",
       "    .dataframe tbody tr th {\n",
       "        vertical-align: top;\n",
       "    }\n",
       "\n",
       "    .dataframe thead th {\n",
       "        text-align: right;\n",
       "    }\n",
       "</style>\n",
       "<table border=\"1\" class=\"dataframe\">\n",
       "  <thead>\n",
       "    <tr style=\"text-align: right;\">\n",
       "      <th></th>\n",
       "      <th>filename</th>\n",
       "      <th>email_body</th>\n",
       "      <th>file_key</th>\n",
       "      <th>preprocessed_body</th>\n",
       "    </tr>\n",
       "  </thead>\n",
       "  <tbody>\n",
       "  </tbody>\n",
       "</table>\n",
       "</div>"
      ],
      "text/plain": [
       "Empty DataFrame\n",
       "Columns: [filename, email_body, file_key, preprocessed_body]\n",
       "Index: []"
      ]
     },
     "execution_count": 29,
     "metadata": {},
     "output_type": "execute_result"
    }
   ],
   "source": [
    "df_ham_sample[df_ham_sample['preprocessed_body'] == 'to_manual_extraction']"
   ]
  },
  {
   "cell_type": "code",
   "execution_count": 3,
   "metadata": {},
   "outputs": [
    {
     "data": {
      "text/html": [
       "<div>\n",
       "<style scoped>\n",
       "    .dataframe tbody tr th:only-of-type {\n",
       "        vertical-align: middle;\n",
       "    }\n",
       "\n",
       "    .dataframe tbody tr th {\n",
       "        vertical-align: top;\n",
       "    }\n",
       "\n",
       "    .dataframe thead th {\n",
       "        text-align: right;\n",
       "    }\n",
       "</style>\n",
       "<table border=\"1\" class=\"dataframe\">\n",
       "  <thead>\n",
       "    <tr style=\"text-align: right;\">\n",
       "      <th></th>\n",
       "      <th>filename</th>\n",
       "      <th>email_body</th>\n",
       "      <th>file_key</th>\n",
       "      <th>preprocessed_body</th>\n",
       "    </tr>\n",
       "  </thead>\n",
       "  <tbody>\n",
       "    <tr>\n",
       "      <th>4948</th>\n",
       "      <td>enron_extracted.mbox</td>\n",
       "      <td>&lt;&lt;Hanson Scheduling Model_3_31_1.xls&gt;&gt; &lt;&lt;Hanso...</td>\n",
       "      <td>55172</td>\n",
       "      <td></td>\n",
       "    </tr>\n",
       "    <tr>\n",
       "      <th>7753</th>\n",
       "      <td>enron_extracted.mbox</td>\n",
       "      <td>\\n\\n\\n &lt;&lt;STO Investor Memo 92501.pdf&gt;&gt; \\n &lt;&lt;ST...</td>\n",
       "      <td>38341</td>\n",
       "      <td></td>\n",
       "    </tr>\n",
       "    <tr>\n",
       "      <th>8948</th>\n",
       "      <td>enron_extracted.mbox</td>\n",
       "      <td>\\n \\n\\n&lt;Embedded Microsoft Word Document&gt;\\n</td>\n",
       "      <td>192105</td>\n",
       "      <td></td>\n",
       "    </tr>\n",
       "    <tr>\n",
       "      <th>9508</th>\n",
       "      <td>enron_extracted.mbox</td>\n",
       "      <td>\\n \\n\\n    \\n\\n\\n\\n&lt;Embedded &gt;\\n</td>\n",
       "      <td>237020</td>\n",
       "      <td></td>\n",
       "    </tr>\n",
       "    <tr>\n",
       "      <th>10327</th>\n",
       "      <td>enron_extracted.mbox</td>\n",
       "      <td>\\n\\n&lt;Embedded Picture (Metafile)&gt;\\n</td>\n",
       "      <td>18806</td>\n",
       "      <td></td>\n",
       "    </tr>\n",
       "    <tr>\n",
       "      <th>10783</th>\n",
       "      <td>enron_extracted.mbox</td>\n",
       "      <td>&lt;&lt;Hanson Scheduling Model_5_26_27.xls&gt;&gt; &lt;&lt;Hans...</td>\n",
       "      <td>54925</td>\n",
       "      <td></td>\n",
       "    </tr>\n",
       "    <tr>\n",
       "      <th>11595</th>\n",
       "      <td>enron_extracted.mbox</td>\n",
       "      <td>\\n&lt;http://www.enron.com/corp/pressroom/&gt;\\n \\n \\n</td>\n",
       "      <td>68443</td>\n",
       "      <td></td>\n",
       "    </tr>\n",
       "    <tr>\n",
       "      <th>11874</th>\n",
       "      <td>enron_extracted.mbox</td>\n",
       "      <td>&lt;&lt;Hanson Scheduling Model_4_5_6.xls&gt;&gt; &lt;&lt;Hanson...</td>\n",
       "      <td>55147</td>\n",
       "      <td></td>\n",
       "    </tr>\n",
       "    <tr>\n",
       "      <th>14486</th>\n",
       "      <td>enron_extracted.mbox</td>\n",
       "      <td>\\n\\n \\n\\n \\n\\n&lt;Embedded Picture (Device Indepe...</td>\n",
       "      <td>179120</td>\n",
       "      <td></td>\n",
       "    </tr>\n",
       "    <tr>\n",
       "      <th>18099</th>\n",
       "      <td>enron_extracted.mbox</td>\n",
       "      <td>&lt;&lt;MVC-004F.JPG&gt;&gt;  &lt;&lt;MVC-005F.JPG&gt;&gt;  &lt;&lt;MVC-006...</td>\n",
       "      <td>169856</td>\n",
       "      <td></td>\n",
       "    </tr>\n",
       "    <tr>\n",
       "      <th>19653</th>\n",
       "      <td>enron_extracted.mbox</td>\n",
       "      <td>\\n\\n&lt;Embedded Paintbrush Picture&gt;\\n</td>\n",
       "      <td>158225</td>\n",
       "      <td></td>\n",
       "    </tr>\n",
       "    <tr>\n",
       "      <th>19996</th>\n",
       "      <td>enron_extracted.mbox</td>\n",
       "      <td>.\\n\\n \\n</td>\n",
       "      <td>119025</td>\n",
       "      <td></td>\n",
       "    </tr>\n",
       "    <tr>\n",
       "      <th>24805</th>\n",
       "      <td>enron_extracted.mbox</td>\n",
       "      <td>--\\n</td>\n",
       "      <td>81163</td>\n",
       "      <td></td>\n",
       "    </tr>\n",
       "    <tr>\n",
       "      <th>28785</th>\n",
       "      <td>enron_extracted.mbox</td>\n",
       "      <td>\\n &lt;&lt;American Bank Note (FCPA Update 11.2001)....</td>\n",
       "      <td>69195</td>\n",
       "      <td></td>\n",
       "    </tr>\n",
       "    <tr>\n",
       "      <th>30686</th>\n",
       "      <td>enron_extracted.mbox</td>\n",
       "      <td>\\n&gt;\\n</td>\n",
       "      <td>27169</td>\n",
       "      <td></td>\n",
       "    </tr>\n",
       "    <tr>\n",
       "      <th>34725</th>\n",
       "      <td>enron_extracted.mbox</td>\n",
       "      <td>??????\\n</td>\n",
       "      <td>42559</td>\n",
       "      <td></td>\n",
       "    </tr>\n",
       "    <tr>\n",
       "      <th>34930</th>\n",
       "      <td>enron_extracted.mbox</td>\n",
       "      <td>\\n\\n&lt;Embedded Microsoft Word Document&gt;\\n</td>\n",
       "      <td>162401</td>\n",
       "      <td></td>\n",
       "    </tr>\n",
       "    <tr>\n",
       "      <th>36286</th>\n",
       "      <td>enron_extracted.mbox</td>\n",
       "      <td>&lt;http://www.satirewire.com/news/0111/enron.sht...</td>\n",
       "      <td>174595</td>\n",
       "      <td></td>\n",
       "    </tr>\n",
       "    <tr>\n",
       "      <th>40456</th>\n",
       "      <td>enron_extracted.mbox</td>\n",
       "      <td>&lt;http://hrweb.enron.com/benefits/SPD/179.htm&gt;\\n</td>\n",
       "      <td>64141</td>\n",
       "      <td></td>\n",
       "    </tr>\n",
       "    <tr>\n",
       "      <th>43347</th>\n",
       "      <td>enron_extracted.mbox</td>\n",
       "      <td>&lt;http://www.avirtualaccess.net/sites4/index.h...</td>\n",
       "      <td>39239</td>\n",
       "      <td></td>\n",
       "    </tr>\n",
       "  </tbody>\n",
       "</table>\n",
       "</div>"
      ],
      "text/plain": [
       "                   filename  \\\n",
       "4948   enron_extracted.mbox   \n",
       "7753   enron_extracted.mbox   \n",
       "8948   enron_extracted.mbox   \n",
       "9508   enron_extracted.mbox   \n",
       "10327  enron_extracted.mbox   \n",
       "10783  enron_extracted.mbox   \n",
       "11595  enron_extracted.mbox   \n",
       "11874  enron_extracted.mbox   \n",
       "14486  enron_extracted.mbox   \n",
       "18099  enron_extracted.mbox   \n",
       "19653  enron_extracted.mbox   \n",
       "19996  enron_extracted.mbox   \n",
       "24805  enron_extracted.mbox   \n",
       "28785  enron_extracted.mbox   \n",
       "30686  enron_extracted.mbox   \n",
       "34725  enron_extracted.mbox   \n",
       "34930  enron_extracted.mbox   \n",
       "36286  enron_extracted.mbox   \n",
       "40456  enron_extracted.mbox   \n",
       "43347  enron_extracted.mbox   \n",
       "\n",
       "                                              email_body  file_key  \\\n",
       "4948   <<Hanson Scheduling Model_3_31_1.xls>> <<Hanso...     55172   \n",
       "7753   \\n\\n\\n <<STO Investor Memo 92501.pdf>> \\n <<ST...     38341   \n",
       "8948         \\n \\n\\n<Embedded Microsoft Word Document>\\n    192105   \n",
       "9508                    \\n \\n\\n    \\n\\n\\n\\n<Embedded >\\n    237020   \n",
       "10327                \\n\\n<Embedded Picture (Metafile)>\\n     18806   \n",
       "10783  <<Hanson Scheduling Model_5_26_27.xls>> <<Hans...     54925   \n",
       "11595   \\n<http://www.enron.com/corp/pressroom/>\\n \\n \\n     68443   \n",
       "11874  <<Hanson Scheduling Model_4_5_6.xls>> <<Hanson...     55147   \n",
       "14486  \\n\\n \\n\\n \\n\\n<Embedded Picture (Device Indepe...    179120   \n",
       "18099   <<MVC-004F.JPG>>  <<MVC-005F.JPG>>  <<MVC-006...    169856   \n",
       "19653                \\n\\n<Embedded Paintbrush Picture>\\n    158225   \n",
       "19996                                           .\\n\\n \\n    119025   \n",
       "24805                                               --\\n     81163   \n",
       "28785  \\n <<American Bank Note (FCPA Update 11.2001)....     69195   \n",
       "30686                                              \\n>\\n     27169   \n",
       "34725                                           ??????\\n     42559   \n",
       "34930           \\n\\n<Embedded Microsoft Word Document>\\n    162401   \n",
       "36286  <http://www.satirewire.com/news/0111/enron.sht...    174595   \n",
       "40456    <http://hrweb.enron.com/benefits/SPD/179.htm>\\n     64141   \n",
       "43347   <http://www.avirtualaccess.net/sites4/index.h...     39239   \n",
       "\n",
       "      preprocessed_body  \n",
       "4948                     \n",
       "7753                     \n",
       "8948                     \n",
       "9508                     \n",
       "10327                    \n",
       "10783                    \n",
       "11595                    \n",
       "11874                    \n",
       "14486                    \n",
       "18099                    \n",
       "19653                    \n",
       "19996                    \n",
       "24805                    \n",
       "28785                    \n",
       "30686                    \n",
       "34725                    \n",
       "34930                    \n",
       "36286                    \n",
       "40456                    \n",
       "43347                    "
      ]
     },
     "execution_count": 3,
     "metadata": {},
     "output_type": "execute_result"
    }
   ],
   "source": [
    "df_ham_sample[df_ham_sample['preprocessed_body'] == ''].head(20)"
   ]
  },
  {
   "cell_type": "code",
   "execution_count": 2,
   "metadata": {},
   "outputs": [],
   "source": [
    "df_ham_sample = df_ham_sample[df_ham_sample['preprocessed_body'] != '']\n",
    "df_ham_sample.reset_index(drop=True, inplace=True)"
   ]
  },
  {
   "cell_type": "code",
   "execution_count": 5,
   "metadata": {},
   "outputs": [
    {
     "data": {
      "text/plain": [
       "['backup_dumps\\\\df_ham_sample']"
      ]
     },
     "execution_count": 5,
     "metadata": {},
     "output_type": "execute_result"
    }
   ],
   "source": [
    "from joblib import dump\n",
    "dump(df_ham_sample, 'backup_dumps\\df_ham_sample')"
   ]
  },
  {
   "cell_type": "code",
   "execution_count": 6,
   "metadata": {},
   "outputs": [],
   "source": [
    "from joblib import load\n",
    "df_ham_sample = load('backup_dumps\\df_ham_sample')"
   ]
  },
  {
   "cell_type": "code",
   "execution_count": 19,
   "metadata": {},
   "outputs": [
    {
     "name": "stdout",
     "output_type": "stream",
     "text": [
      "<class 'pandas.core.frame.DataFrame'>\n",
      "RangeIndex: 99956 entries, 0 to 99955\n",
      "Data columns (total 4 columns):\n",
      " #   Column             Non-Null Count  Dtype \n",
      "---  ------             --------------  ----- \n",
      " 0   filename           99956 non-null  object\n",
      " 1   email_body         99956 non-null  object\n",
      " 2   file_key           99956 non-null  int64 \n",
      " 3   preprocessed_body  99956 non-null  object\n",
      "dtypes: int64(1), object(3)\n",
      "memory usage: 3.1+ MB\n"
     ]
    }
   ],
   "source": [
    "df_ham_sample.info()"
   ]
  },
  {
   "cell_type": "code",
   "execution_count": 7,
   "metadata": {},
   "outputs": [],
   "source": [
    "import spacy\n",
    "nlp = spacy.load('en_core_web_sm')\n",
    "nlp.disable_pipes([\"tagger\", \"parser\", \"ner\"])\n",
    "def tokenize(body):\n",
    "    doc = nlp(body)\n",
    "    tokens = [token.text for token in doc if not token.is_stop]\n",
    "    return tokens"
   ]
  },
  {
   "attachments": {},
   "cell_type": "markdown",
   "metadata": {},
   "source": [
    "Split dataset in chunks to make it faster and more memory friendly."
   ]
  },
  {
   "cell_type": "code",
   "execution_count": 8,
   "metadata": {},
   "outputs": [],
   "source": [
    "def split_text(text, chunk_size=1000000):\n",
    "    text_len = len(text)\n",
    "    chunks = []\n",
    "\n",
    "    for i in range(0, text_len, chunk_size):\n",
    "        chunk = text[i:i + chunk_size]\n",
    "        chunks.append(chunk)\n",
    "\n",
    "    return chunks\n",
    "\n",
    "def tokenize_and_remove_stopwords(text, nlp):\n",
    "    tokens = []\n",
    "    text_chunks = split_text(text)\n",
    "    try:\n",
    "        for doc in nlp.pipe(text_chunks):\n",
    "            chunk_tokens = [token.text for token in doc if not token.is_stop]\n",
    "            tokens.extend(chunk_tokens)\n",
    "    except MemoryError as merr:\n",
    "        print(merr)\n",
    "        print(text)\n",
    "        return 'memoryerror'\n",
    "        \n",
    "    return tokens"
   ]
  },
  {
   "cell_type": "code",
   "execution_count": 8,
   "metadata": {},
   "outputs": [
    {
     "name": "stderr",
     "output_type": "stream",
     "text": [
      "c:\\Users\\rwole\\AppData\\Local\\Programs\\Python\\Python310\\lib\\site-packages\\spacy\\pipeline\\lemmatizer.py:211: UserWarning: [W108] The rule-based lemmatizer did not find POS annotation for one or more tokens. Check that your pipeline includes components that assign token.pos, typically 'tagger'+'attribute_ruler' or 'morphologizer'.\n",
      "  warnings.warn(Warnings.W108)\n"
     ]
    }
   ],
   "source": [
    "import pandas as pd\n",
    "chunk_size = 10000\n",
    "data_chunks = [df_ham_sample.iloc[i:i + chunk_size] for i in range(0, len(df_ham_sample), chunk_size)]\n",
    "\n",
    "for i, chunk in enumerate(data_chunks):\n",
    "    df_ham_sample[i]['tokenized_body'] = df_ham_sample['preprocessed_body'].apply(lambda x: tokenize_and_remove_stopwords(x, nlp))\n",
    "\n",
    "df_ham_sample_tokenized = pd.concat(data_chunks, ignore_index=True)"
   ]
  },
  {
   "cell_type": "code",
   "execution_count": 20,
   "metadata": {},
   "outputs": [],
   "source": [
    "df_ham_sample_last= df_ham_sample[80001:]"
   ]
  },
  {
   "cell_type": "code",
   "execution_count": 21,
   "metadata": {},
   "outputs": [
    {
     "name": "stderr",
     "output_type": "stream",
     "text": [
      "c:\\Users\\rwole\\AppData\\Local\\Programs\\Python\\Python310\\lib\\site-packages\\spacy\\pipeline\\lemmatizer.py:211: UserWarning: [W108] The rule-based lemmatizer did not find POS annotation for one or more tokens. Check that your pipeline includes components that assign token.pos, typically 'tagger'+'attribute_ruler' or 'morphologizer'.\n",
      "  warnings.warn(Warnings.W108)\n",
      "C:\\Users\\rwole\\AppData\\Local\\Temp\\ipykernel_8596\\275858847.py:1: SettingWithCopyWarning: \n",
      "A value is trying to be set on a copy of a slice from a DataFrame.\n",
      "Try using .loc[row_indexer,col_indexer] = value instead\n",
      "\n",
      "See the caveats in the documentation: https://pandas.pydata.org/pandas-docs/stable/user_guide/indexing.html#returning-a-view-versus-a-copy\n",
      "  df_ham_sample_last['tokenized_body'] = df_ham_sample_last['preprocessed_body'].apply(lambda x: tokenize_and_remove_stopwords(x, nlp))\n"
     ]
    }
   ],
   "source": [
    "df_ham_sample_last['tokenized_body'] = df_ham_sample_last['preprocessed_body'].apply(lambda x: tokenize_and_remove_stopwords(x, nlp))"
   ]
  },
  {
   "cell_type": "code",
   "execution_count": 11,
   "metadata": {},
   "outputs": [],
   "source": [
    "from joblib import dump, load"
   ]
  },
  {
   "cell_type": "code",
   "execution_count": 22,
   "metadata": {},
   "outputs": [
    {
     "data": {
      "text/plain": [
       "['backup_dumps\\\\df_ham_sample_last']"
      ]
     },
     "execution_count": 22,
     "metadata": {},
     "output_type": "execute_result"
    }
   ],
   "source": [
    "dump(df_ham_sample_last, 'backup_dumps\\df_ham_sample_last')"
   ]
  },
  {
   "cell_type": "code",
   "execution_count": 3,
   "metadata": {},
   "outputs": [],
   "source": [
    "test2 = load('backup_dumps\\df_ham_sample_fourth_1k_3_crash')"
   ]
  },
  {
   "cell_type": "code",
   "execution_count": 4,
   "metadata": {},
   "outputs": [],
   "source": [
    "test2 = test2[test2['tokenized_body'] != 'memoryerror']\n",
    "test2.reset_index(inplace=True, drop=True)"
   ]
  },
  {
   "cell_type": "code",
   "execution_count": 5,
   "metadata": {},
   "outputs": [
    {
     "data": {
      "text/plain": [
       "['backup_dumps\\\\df_ham_sample_fourth_1k_3']"
      ]
     },
     "execution_count": 5,
     "metadata": {},
     "output_type": "execute_result"
    }
   ],
   "source": [
    "dump(test2, 'backup_dumps\\df_ham_sample_fourth_1k_3')"
   ]
  },
  {
   "cell_type": "code",
   "execution_count": null,
   "metadata": {},
   "outputs": [],
   "source": []
  }
 ],
 "metadata": {
  "kernelspec": {
   "display_name": "Python 3",
   "language": "python",
   "name": "python3"
  },
  "language_info": {
   "codemirror_mode": {
    "name": "ipython",
    "version": 3
   },
   "file_extension": ".py",
   "mimetype": "text/x-python",
   "name": "python",
   "nbconvert_exporter": "python",
   "pygments_lexer": "ipython3",
   "version": "3.10.5"
  },
  "orig_nbformat": 4,
  "vscode": {
   "interpreter": {
    "hash": "4c1bce8e414f9bc48912dcc4416cdb1ae524d0fbd3b04a7c9d6465f890f9d9c6"
   }
  }
 },
 "nbformat": 4,
 "nbformat_minor": 2
}
